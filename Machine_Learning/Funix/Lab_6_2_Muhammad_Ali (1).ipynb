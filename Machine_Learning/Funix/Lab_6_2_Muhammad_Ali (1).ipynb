{
  "nbformat": 4,
  "nbformat_minor": 0,
  "metadata": {
    "anaconda-cloud": {},
    "kernelspec": {
      "display_name": "Python [default]",
      "language": "python",
      "name": "python3"
    },
    "language_info": {
      "codemirror_mode": {
        "name": "ipython",
        "version": 3
      },
      "file_extension": ".py",
      "mimetype": "text/x-python",
      "name": "python",
      "nbconvert_exporter": "python",
      "pygments_lexer": "ipython3",
      "version": "3.5.2"
    },
    "toc": {
      "colors": {
        "hover_highlight": "#DAA520",
        "running_highlight": "#FF0000",
        "selected_highlight": "#FFD700"
      },
      "moveMenuLeft": true,
      "nav_menu": {
        "height": "58px",
        "width": "252px"
      },
      "navigate_menu": true,
      "number_sections": true,
      "sideBar": true,
      "threshold": 4,
      "toc_cell": false,
      "toc_section_display": "block",
      "toc_window_display": false,
      "widenNotebook": false
    },
    "colab": {
      "provenance": []
    }
  },
  "cells": [
    {
      "cell_type": "markdown",
      "metadata": {
        "id": "XV-HVmVVkopV"
      },
      "source": [
        "# Muhammad Ali\n",
        "\n",
        "Thời lượng ước tính: **120** phút\n",
        "\n",
        "## Giới thiệu Lab\n",
        "Trong quá trình trưởng thành, ai cũng hâm mộ một vị anh hùng. Đối với nhiều người, vị anh hùng đó là Muhammad Ali. Ông ấy dạy mọi người nên tự hào về con người của họ, kể cả vào thời điểm mà những người khác sẽ không chấp nhận điều đó. Ông đã chỉ cho mọi người cách đứng lên bảo vệ niềm tin khi đối mặt với áp bức và bạo quyền. Ông giúp mọi người đánh giá cao bản thân và khuyến khích họ quan tâm đến những người xung quanh. Ông đã cho chúng ta thấy bản lĩnh thực sự có nghĩa là gì, làm thế nào để trở thành một võ sĩ quyền anh, và nhiều hơn thế nữa. Tất cả những người từng gặp Muhammad Ali, dù là trên hay ngoài võ đài đều có một câu chuyện đầy động lực để chia sẻ về cuộc gặp gỡ của họ.\n",
        "\n",
        "Vào ngày 3 tháng 6 năm 2016, Muhammad Ali qua đời ở tuổi 74 do sốc nhiễm trùng. Trước đó 30 năm, ông được chẩn đoán mắc hội chứng Parkinson, một tình trạng thoái hóa thần kinh mà các bác sĩ cho rằng do chấn thương não liên quan đến quyền anh.\n",
        "\n",
        "Bản thân bệnh Parkinson là một rối loạn lâu dài của hệ thần kinh, ảnh hưởng đến nhiều khía cạnh vận động của một người theo thời gian. Người bệnh này có đặc điểm là run, di chuyển chậm, cứng nhắc, sa sút trí tuệ và trầm cảm. Vào năm 2013, khoảng 53 triệu người được chẩn đoán mắc bệnh này, chủ yếu là nam giới. Những nhân vật nổi tiếng khác bị ảnh hưởng bởi nó gồm diễn viên Michael J. Fox, và vận động viên đua xe đạp Olympic Davis Phinney.\n",
        "\n",
        "Trong lab này, bạn sẽ áp dụng SVC cho [Tập dữ liệu Parkinson](https://archive.ics.uci.edu/ml/datasets/Parkinsons), được cung cấp bởi Machine Learning Repository của UCI. Tập dữ liệu được thực hiện ở Đại học Oxford, với sự hợp tác của 10 trung tâm y tế trên khắp Hoa Kỳ cùng với Intel, tổ chức đã phát triển thiết bị được sử dụng để ghi lại các thuộc tính chính của tập dữ liệu: tín hiệu giọng nói. Mục tiêu của bạn đối với lab này trước tiên là xem liệu có thể phân biệt được những người bị và không bị Parkinson sử dụng công cụ phân loại vectơ hỗ trợ của SciKit-Learn hay không, và sau đó là tìm hiểu một cách thuần phác trong việc tinh chỉnh các thông số với nỗ lực tối đa hóa độ chính xác của testing set.\n",
        "\n",
        "\"Tôi chưa bao giờ thực sự chán nản với những việc khó khăn bởi vì tôi luôn thích nó. Thức dậy mỗi sáng để làm việc trên đường. Đến phòng tập thể dục hàng ngày lúc 12 giờ. Tôi không bao giờ thay đổi khuôn khổ của mình.\""
      ]
    },
    {
      "cell_type": "markdown",
      "metadata": {
        "id": "JKeHrzNmkopX"
      },
      "source": [
        "## Chu kỳ 1"
      ]
    },
    {
      "cell_type": "markdown",
      "metadata": {
        "id": "FEbWvbYKkopZ"
      },
      "source": [
        "Load **parkinsons.data** vào biến **X**, hãy chắc chắn rằng bạn bỏ cột name.\n"
      ]
    },
    {
      "cell_type": "code",
      "source": [
        "import pandas as pd\n",
        "import pylab as pl\n",
        "import numpy as np\n",
        "import scipy.optimize as opt\n",
        "from sklearn import preprocessing\n",
        "from sklearn.model_selection import train_test_split\n",
        "%matplotlib inline \n",
        "import matplotlib.pyplot as plt"
      ],
      "metadata": {
        "id": "YTsuUeTNd8B4"
      },
      "execution_count": 1,
      "outputs": []
    },
    {
      "cell_type": "code",
      "metadata": {
        "id": "9G6Oi5d4kopa",
        "colab": {
          "base_uri": "https://localhost:8080/",
          "height": 299
        },
        "outputId": "14f3af4e-a9e3-4839-f63f-3994a83823d3"
      },
      "source": [
        "X = pd.read_csv(\"/content/parkinsons.data\").drop(\"name\", axis=1)\n",
        "X.head()"
      ],
      "execution_count": 2,
      "outputs": [
        {
          "output_type": "execute_result",
          "data": {
            "text/plain": [
              "   MDVP:Fo(Hz)  MDVP:Fhi(Hz)  MDVP:Flo(Hz)  MDVP:Jitter(%)  MDVP:Jitter(Abs)  \\\n",
              "0      119.992       157.302        74.997         0.00784           0.00007   \n",
              "1      122.400       148.650       113.819         0.00968           0.00008   \n",
              "2      116.682       131.111       111.555         0.01050           0.00009   \n",
              "3      116.676       137.871       111.366         0.00997           0.00009   \n",
              "4      116.014       141.781       110.655         0.01284           0.00011   \n",
              "\n",
              "   MDVP:RAP  MDVP:PPQ  Jitter:DDP  MDVP:Shimmer  MDVP:Shimmer(dB)  ...  \\\n",
              "0   0.00370   0.00554     0.01109       0.04374             0.426  ...   \n",
              "1   0.00465   0.00696     0.01394       0.06134             0.626  ...   \n",
              "2   0.00544   0.00781     0.01633       0.05233             0.482  ...   \n",
              "3   0.00502   0.00698     0.01505       0.05492             0.517  ...   \n",
              "4   0.00655   0.00908     0.01966       0.06425             0.584  ...   \n",
              "\n",
              "   Shimmer:DDA      NHR     HNR  status      RPDE       DFA   spread1  \\\n",
              "0      0.06545  0.02211  21.033       1  0.414783  0.815285 -4.813031   \n",
              "1      0.09403  0.01929  19.085       1  0.458359  0.819521 -4.075192   \n",
              "2      0.08270  0.01309  20.651       1  0.429895  0.825288 -4.443179   \n",
              "3      0.08771  0.01353  20.644       1  0.434969  0.819235 -4.117501   \n",
              "4      0.10470  0.01767  19.649       1  0.417356  0.823484 -3.747787   \n",
              "\n",
              "    spread2        D2       PPE  \n",
              "0  0.266482  2.301442  0.284654  \n",
              "1  0.335590  2.486855  0.368674  \n",
              "2  0.311173  2.342259  0.332634  \n",
              "3  0.334147  2.405554  0.368975  \n",
              "4  0.234513  2.332180  0.410335  \n",
              "\n",
              "[5 rows x 23 columns]"
            ],
            "text/html": [
              "\n",
              "  <div id=\"df-5a227a3c-30cf-4916-8500-eafb729cd726\">\n",
              "    <div class=\"colab-df-container\">\n",
              "      <div>\n",
              "<style scoped>\n",
              "    .dataframe tbody tr th:only-of-type {\n",
              "        vertical-align: middle;\n",
              "    }\n",
              "\n",
              "    .dataframe tbody tr th {\n",
              "        vertical-align: top;\n",
              "    }\n",
              "\n",
              "    .dataframe thead th {\n",
              "        text-align: right;\n",
              "    }\n",
              "</style>\n",
              "<table border=\"1\" class=\"dataframe\">\n",
              "  <thead>\n",
              "    <tr style=\"text-align: right;\">\n",
              "      <th></th>\n",
              "      <th>MDVP:Fo(Hz)</th>\n",
              "      <th>MDVP:Fhi(Hz)</th>\n",
              "      <th>MDVP:Flo(Hz)</th>\n",
              "      <th>MDVP:Jitter(%)</th>\n",
              "      <th>MDVP:Jitter(Abs)</th>\n",
              "      <th>MDVP:RAP</th>\n",
              "      <th>MDVP:PPQ</th>\n",
              "      <th>Jitter:DDP</th>\n",
              "      <th>MDVP:Shimmer</th>\n",
              "      <th>MDVP:Shimmer(dB)</th>\n",
              "      <th>...</th>\n",
              "      <th>Shimmer:DDA</th>\n",
              "      <th>NHR</th>\n",
              "      <th>HNR</th>\n",
              "      <th>status</th>\n",
              "      <th>RPDE</th>\n",
              "      <th>DFA</th>\n",
              "      <th>spread1</th>\n",
              "      <th>spread2</th>\n",
              "      <th>D2</th>\n",
              "      <th>PPE</th>\n",
              "    </tr>\n",
              "  </thead>\n",
              "  <tbody>\n",
              "    <tr>\n",
              "      <th>0</th>\n",
              "      <td>119.992</td>\n",
              "      <td>157.302</td>\n",
              "      <td>74.997</td>\n",
              "      <td>0.00784</td>\n",
              "      <td>0.00007</td>\n",
              "      <td>0.00370</td>\n",
              "      <td>0.00554</td>\n",
              "      <td>0.01109</td>\n",
              "      <td>0.04374</td>\n",
              "      <td>0.426</td>\n",
              "      <td>...</td>\n",
              "      <td>0.06545</td>\n",
              "      <td>0.02211</td>\n",
              "      <td>21.033</td>\n",
              "      <td>1</td>\n",
              "      <td>0.414783</td>\n",
              "      <td>0.815285</td>\n",
              "      <td>-4.813031</td>\n",
              "      <td>0.266482</td>\n",
              "      <td>2.301442</td>\n",
              "      <td>0.284654</td>\n",
              "    </tr>\n",
              "    <tr>\n",
              "      <th>1</th>\n",
              "      <td>122.400</td>\n",
              "      <td>148.650</td>\n",
              "      <td>113.819</td>\n",
              "      <td>0.00968</td>\n",
              "      <td>0.00008</td>\n",
              "      <td>0.00465</td>\n",
              "      <td>0.00696</td>\n",
              "      <td>0.01394</td>\n",
              "      <td>0.06134</td>\n",
              "      <td>0.626</td>\n",
              "      <td>...</td>\n",
              "      <td>0.09403</td>\n",
              "      <td>0.01929</td>\n",
              "      <td>19.085</td>\n",
              "      <td>1</td>\n",
              "      <td>0.458359</td>\n",
              "      <td>0.819521</td>\n",
              "      <td>-4.075192</td>\n",
              "      <td>0.335590</td>\n",
              "      <td>2.486855</td>\n",
              "      <td>0.368674</td>\n",
              "    </tr>\n",
              "    <tr>\n",
              "      <th>2</th>\n",
              "      <td>116.682</td>\n",
              "      <td>131.111</td>\n",
              "      <td>111.555</td>\n",
              "      <td>0.01050</td>\n",
              "      <td>0.00009</td>\n",
              "      <td>0.00544</td>\n",
              "      <td>0.00781</td>\n",
              "      <td>0.01633</td>\n",
              "      <td>0.05233</td>\n",
              "      <td>0.482</td>\n",
              "      <td>...</td>\n",
              "      <td>0.08270</td>\n",
              "      <td>0.01309</td>\n",
              "      <td>20.651</td>\n",
              "      <td>1</td>\n",
              "      <td>0.429895</td>\n",
              "      <td>0.825288</td>\n",
              "      <td>-4.443179</td>\n",
              "      <td>0.311173</td>\n",
              "      <td>2.342259</td>\n",
              "      <td>0.332634</td>\n",
              "    </tr>\n",
              "    <tr>\n",
              "      <th>3</th>\n",
              "      <td>116.676</td>\n",
              "      <td>137.871</td>\n",
              "      <td>111.366</td>\n",
              "      <td>0.00997</td>\n",
              "      <td>0.00009</td>\n",
              "      <td>0.00502</td>\n",
              "      <td>0.00698</td>\n",
              "      <td>0.01505</td>\n",
              "      <td>0.05492</td>\n",
              "      <td>0.517</td>\n",
              "      <td>...</td>\n",
              "      <td>0.08771</td>\n",
              "      <td>0.01353</td>\n",
              "      <td>20.644</td>\n",
              "      <td>1</td>\n",
              "      <td>0.434969</td>\n",
              "      <td>0.819235</td>\n",
              "      <td>-4.117501</td>\n",
              "      <td>0.334147</td>\n",
              "      <td>2.405554</td>\n",
              "      <td>0.368975</td>\n",
              "    </tr>\n",
              "    <tr>\n",
              "      <th>4</th>\n",
              "      <td>116.014</td>\n",
              "      <td>141.781</td>\n",
              "      <td>110.655</td>\n",
              "      <td>0.01284</td>\n",
              "      <td>0.00011</td>\n",
              "      <td>0.00655</td>\n",
              "      <td>0.00908</td>\n",
              "      <td>0.01966</td>\n",
              "      <td>0.06425</td>\n",
              "      <td>0.584</td>\n",
              "      <td>...</td>\n",
              "      <td>0.10470</td>\n",
              "      <td>0.01767</td>\n",
              "      <td>19.649</td>\n",
              "      <td>1</td>\n",
              "      <td>0.417356</td>\n",
              "      <td>0.823484</td>\n",
              "      <td>-3.747787</td>\n",
              "      <td>0.234513</td>\n",
              "      <td>2.332180</td>\n",
              "      <td>0.410335</td>\n",
              "    </tr>\n",
              "  </tbody>\n",
              "</table>\n",
              "<p>5 rows × 23 columns</p>\n",
              "</div>\n",
              "      <button class=\"colab-df-convert\" onclick=\"convertToInteractive('df-5a227a3c-30cf-4916-8500-eafb729cd726')\"\n",
              "              title=\"Convert this dataframe to an interactive table.\"\n",
              "              style=\"display:none;\">\n",
              "        \n",
              "  <svg xmlns=\"http://www.w3.org/2000/svg\" height=\"24px\"viewBox=\"0 0 24 24\"\n",
              "       width=\"24px\">\n",
              "    <path d=\"M0 0h24v24H0V0z\" fill=\"none\"/>\n",
              "    <path d=\"M18.56 5.44l.94 2.06.94-2.06 2.06-.94-2.06-.94-.94-2.06-.94 2.06-2.06.94zm-11 1L8.5 8.5l.94-2.06 2.06-.94-2.06-.94L8.5 2.5l-.94 2.06-2.06.94zm10 10l.94 2.06.94-2.06 2.06-.94-2.06-.94-.94-2.06-.94 2.06-2.06.94z\"/><path d=\"M17.41 7.96l-1.37-1.37c-.4-.4-.92-.59-1.43-.59-.52 0-1.04.2-1.43.59L10.3 9.45l-7.72 7.72c-.78.78-.78 2.05 0 2.83L4 21.41c.39.39.9.59 1.41.59.51 0 1.02-.2 1.41-.59l7.78-7.78 2.81-2.81c.8-.78.8-2.07 0-2.86zM5.41 20L4 18.59l7.72-7.72 1.47 1.35L5.41 20z\"/>\n",
              "  </svg>\n",
              "      </button>\n",
              "      \n",
              "  <style>\n",
              "    .colab-df-container {\n",
              "      display:flex;\n",
              "      flex-wrap:wrap;\n",
              "      gap: 12px;\n",
              "    }\n",
              "\n",
              "    .colab-df-convert {\n",
              "      background-color: #E8F0FE;\n",
              "      border: none;\n",
              "      border-radius: 50%;\n",
              "      cursor: pointer;\n",
              "      display: none;\n",
              "      fill: #1967D2;\n",
              "      height: 32px;\n",
              "      padding: 0 0 0 0;\n",
              "      width: 32px;\n",
              "    }\n",
              "\n",
              "    .colab-df-convert:hover {\n",
              "      background-color: #E2EBFA;\n",
              "      box-shadow: 0px 1px 2px rgba(60, 64, 67, 0.3), 0px 1px 3px 1px rgba(60, 64, 67, 0.15);\n",
              "      fill: #174EA6;\n",
              "    }\n",
              "\n",
              "    [theme=dark] .colab-df-convert {\n",
              "      background-color: #3B4455;\n",
              "      fill: #D2E3FC;\n",
              "    }\n",
              "\n",
              "    [theme=dark] .colab-df-convert:hover {\n",
              "      background-color: #434B5C;\n",
              "      box-shadow: 0px 1px 3px 1px rgba(0, 0, 0, 0.15);\n",
              "      filter: drop-shadow(0px 1px 2px rgba(0, 0, 0, 0.3));\n",
              "      fill: #FFFFFF;\n",
              "    }\n",
              "  </style>\n",
              "\n",
              "      <script>\n",
              "        const buttonEl =\n",
              "          document.querySelector('#df-5a227a3c-30cf-4916-8500-eafb729cd726 button.colab-df-convert');\n",
              "        buttonEl.style.display =\n",
              "          google.colab.kernel.accessAllowed ? 'block' : 'none';\n",
              "\n",
              "        async function convertToInteractive(key) {\n",
              "          const element = document.querySelector('#df-5a227a3c-30cf-4916-8500-eafb729cd726');\n",
              "          const dataTable =\n",
              "            await google.colab.kernel.invokeFunction('convertToInteractive',\n",
              "                                                     [key], {});\n",
              "          if (!dataTable) return;\n",
              "\n",
              "          const docLinkHtml = 'Like what you see? Visit the ' +\n",
              "            '<a target=\"_blank\" href=https://colab.research.google.com/notebooks/data_table.ipynb>data table notebook</a>'\n",
              "            + ' to learn more about interactive tables.';\n",
              "          element.innerHTML = '';\n",
              "          dataTable['output_type'] = 'display_data';\n",
              "          await google.colab.output.renderOutput(dataTable, element);\n",
              "          const docLink = document.createElement('div');\n",
              "          docLink.innerHTML = docLinkHtml;\n",
              "          element.appendChild(docLink);\n",
              "        }\n",
              "      </script>\n",
              "    </div>\n",
              "  </div>\n",
              "  "
            ]
          },
          "metadata": {},
          "execution_count": 2
        }
      ]
    },
    {
      "cell_type": "markdown",
      "metadata": {
        "id": "-Ixw-1DImf_K"
      },
      "source": [
        "Ghép cột status vào biến **y** và xóa nó khỏi **X**."
      ]
    },
    {
      "cell_type": "code",
      "metadata": {
        "id": "nOWlWytYm0VV",
        "colab": {
          "base_uri": "https://localhost:8080/"
        },
        "outputId": "d55b1625-99fd-4814-b3ed-ff5bf4b3ed79"
      },
      "source": [
        "y = X[\"status\"]\n",
        "X = X.drop(\"status\", axis=1)\n",
        "y"
      ],
      "execution_count": 3,
      "outputs": [
        {
          "output_type": "execute_result",
          "data": {
            "text/plain": [
              "0      1\n",
              "1      1\n",
              "2      1\n",
              "3      1\n",
              "4      1\n",
              "      ..\n",
              "190    0\n",
              "191    0\n",
              "192    0\n",
              "193    0\n",
              "194    0\n",
              "Name: status, Length: 195, dtype: int64"
            ]
          },
          "metadata": {},
          "execution_count": 3
        }
      ]
    },
    {
      "cell_type": "markdown",
      "metadata": {
        "id": "Ag3LaZ_fm2bX"
      },
      "source": [
        "Thực hiện train/test split. **30**% kích thước nhóm test, với random_state bằng **7**."
      ]
    },
    {
      "cell_type": "code",
      "metadata": {
        "id": "HJVbkRsvnD3K"
      },
      "source": [
        "X_train, X_test, y_train, y_test = train_test_split(X, y, test_size=0.3, random_state=7)"
      ],
      "execution_count": 4,
      "outputs": []
    },
    {
      "cell_type": "code",
      "source": [
        "print(X_train.shape, y_train.shape)\n",
        "print(X_test.shape, y_test.shape)"
      ],
      "metadata": {
        "colab": {
          "base_uri": "https://localhost:8080/"
        },
        "id": "MqqWGGNfDjf7",
        "outputId": "6076c3aa-1ec8-4205-da8a-2122a864152a"
      },
      "execution_count": 5,
      "outputs": [
        {
          "output_type": "stream",
          "name": "stdout",
          "text": [
            "(136, 22) (136,)\n",
            "(59, 22) (59,)\n"
          ]
        }
      ]
    },
    {
      "cell_type": "markdown",
      "metadata": {
        "id": "z-gCEYNFnK3Q"
      },
      "source": [
        "Tạo bộ phân loại SVC. Không chỉ định bất kỳ tham số nào, chỉ để mọi thứ như mặc định. So khớp nó với dữ liệu huấn luyện và sau đó chấm điểm dữ liệu test với độ chính xác và F1 score."
      ]
    },
    {
      "cell_type": "code",
      "source": [
        "from sklearn import svm\n",
        "from sklearn.metrics import f1_score\n",
        "from sklearn.metrics import jaccard_score"
      ],
      "metadata": {
        "id": "1bQkc_YCfNoL"
      },
      "execution_count": 6,
      "outputs": []
    },
    {
      "cell_type": "markdown",
      "source": [
        "F1 score: Là số dung hòa Recall và Precision giúp ta có căn cứ để lựa chọn model. F1 càng cao càng tốt"
      ],
      "metadata": {
        "id": "oAkpWUSJfwrg"
      }
    },
    {
      "cell_type": "markdown",
      "source": [
        "Jaccard cũng có thể được ứng dụng trong Recommendation System"
      ],
      "metadata": {
        "id": "cu6MNKznhQG6"
      }
    },
    {
      "cell_type": "code",
      "metadata": {
        "id": "GPuI1e4enNjd",
        "colab": {
          "base_uri": "https://localhost:8080/"
        },
        "outputId": "45673349-77fc-4f25-a58f-82113368ad36"
      },
      "source": [
        "clf = svm.SVC(kernel = 'linear')\n",
        "clf.fit(X_train, y_train)\n",
        "yhat = clf.predict(X_test)\n",
        "yhat[0:5]\n",
        "print(\"Avg F1-score: %.4f\" % f1_score(y_test, yhat, average = 'weighted'))\n",
        "print(\"Jaccard score: %.4f\" % jaccard_score(y_test, yhat, pos_label = 1)) # tỉ lệ của giữa phần giao và phần hợp của 2 tập hợp"
      ],
      "execution_count": 7,
      "outputs": [
        {
          "output_type": "stream",
          "name": "stdout",
          "text": [
            "Avg F1-score: 0.8597\n",
            "Jaccard score: 0.8462\n"
          ]
        }
      ]
    },
    {
      "cell_type": "markdown",
      "metadata": {
        "id": "2H8GDqSFnPu6"
      },
      "source": [
        "## Chu kỳ 2\n"
      ]
    },
    {
      "cell_type": "markdown",
      "metadata": {
        "id": "TrUv89B0nV9U"
      },
      "source": [
        "Độ chính xác đó quá thấp để trở nên hữu dụng. Chúng ta cần phải cải thiện nó. Bạn có thể thực hiện thử theo cách thủ công một loạt các kết hợp của **C và các giá trị gamma cho nhân rbf**. Nhưng điều đó có thể tốn rất nhiều thời gian. Ngoài ra, bạn có thể vô tình bỏ qua một cặp giá trị có thể dẫn đến độ chính xác rất tốt.\n",
        "\n",
        "Thay vào đó, hãy tận dụng ưu điểm của máy tính. Lập trình tìm kiếm thông số tốt nhất đơn giản bằng cách tạo các vòng lặp for lồng nhau. Vòng lặp for bên ngoài sẽ lặp lại biến **C từ 0,05 đến 2, sử dụng tăng tiến đơn vị 0,05**. Vòng lặp for bên trong sẽ tăng biến **gamma từ 0,001 đến 0,1, sử dụng tăng tiến đơn vị 0,001**. Như bạn đã biết, Python range sẽ không cho phép khoảng thời gian thực, vì thế bạn sẽ phải thực hiện một số nghiên cứu về NumPy ARanges nếu bạn chưa biết cách sử dụng chúng.\n",
        "\n",
        "Vì mục tiêu là tìm các tham số dẫn đến mô hình có hệ số chính xác tốt nhất, bạn sẽ cần biến **best_score = 0 mà bạn khởi tạo bên ngoài vòng lặp for.** Trong vòng lặp for bên trong, hãy tạo mô hình SVC và chuyển tham số C và gamma vào hàm tạo lớp. Huấn luyện và cho điểm mô hình một cách thích hợp. Nếu best_score hiện tại nhỏ hơn hệ số của mô hình, hãy cập nhật best_score để đảm bảo in nó ra cùng với các giá trị C và gamma dẫn đến nó.\n",
        "\n",
        "Sau khi chạy lại lab, độ chính xác cao nhất và hệ số F1 mà bạn có thể nhận được là bao nhiêu?"
      ]
    },
    {
      "cell_type": "markdown",
      "source": [
        "gamma{‘scale’, ‘auto’} or float, default=’scale’\n",
        "Kernel coefficient for ‘rbf’, ‘poly’ and ‘sigmoid’."
      ],
      "metadata": {
        "id": "BOTzBhQLwbkt"
      }
    },
    {
      "cell_type": "markdown",
      "source": [
        "gamma là kernel coefficient"
      ],
      "metadata": {
        "id": "F9jJnhmvwiTb"
      }
    },
    {
      "cell_type": "code",
      "source": [
        "from sklearn.svm import SVC\n",
        "model = SVC()\n",
        "model.fit(X_train, y_train)\n",
        "score = model.score(X_test, y_test)\n",
        "print(score) "
      ],
      "metadata": {
        "colab": {
          "base_uri": "https://localhost:8080/"
        },
        "id": "kQ2x1I_7_DkS",
        "outputId": "4f826622-bfe6-4c35-a90b-cbbda11fb37a"
      },
      "execution_count": 8,
      "outputs": [
        {
          "output_type": "stream",
          "name": "stdout",
          "text": [
            "0.7627118644067796\n"
          ]
        }
      ]
    },
    {
      "cell_type": "code",
      "source": [
        "import numpy as np\n",
        "\n",
        "best_score = 0\n",
        "\n",
        "for i in np.arange(start = 0.05, stop = 2, step = 0.05): #variable C from 0.05 to 2, using 0.05 unit increments\n",
        "    for j in np.arange(start = 0.001, stop = 0.1, step = 0.001): #Tvariable gamma from 0.001 to 0.1, using 0.001 unit increments\n",
        "        #creating a SVC model\n",
        "        model = SVC(C = i, gamma = j)\n",
        "        #training the data\n",
        "        model.fit(X_train, y_train)\n",
        "        # TODO: Calculate the score of your SVC against the testing data\n",
        "        score = model.score(X_test, y_test)\n",
        "        if score > best_score:\n",
        "            best_score = score\n",
        "            best_C = model.C\n",
        "            best_gamma = model.gamma\n",
        "print (\"The highest score obtained:\", best_score) \n",
        "print (\"C value:\", best_C) \n",
        "print (\"gamma value:\", best_gamma) "
      ],
      "metadata": {
        "colab": {
          "base_uri": "https://localhost:8080/"
        },
        "id": "k7JYDMh3zmku",
        "outputId": "0fa93d3b-3f0f-4698-bc06-fb40a14292c4"
      },
      "execution_count": 9,
      "outputs": [
        {
          "output_type": "stream",
          "name": "stdout",
          "text": [
            "The highest score obtained: 0.9152542372881356\n",
            "C value: 1.6500000000000001\n",
            "gamma value: 0.005\n"
          ]
        }
      ]
    },
    {
      "cell_type": "markdown",
      "metadata": {
        "id": "RZev_qCYnylw"
      },
      "source": [
        "## Chu kỳ 3"
      ]
    },
    {
      "cell_type": "markdown",
      "metadata": {
        "id": "kqM4tWC4n_Gk"
      },
      "source": [
        "Đợi một chút. Kéo mở tệp nhãn của tập dữ liệu từ: https://archive.ics.uci.edu/ml/datasets/Parkinsons\n",
        "\n",
        "Nhìn vào các đơn vị trên các cột: **Hz,%, Abs, dB, ...** Điều gì đã xảy ra với việc chuyển đổi dữ liệu? Tất cả các đơn vị đó tương tác với nhau, một số quá trình tiền xử lý chắc chắn là theo thứ tự.\n",
        "Ngay sau khi bạn định dạng trước train/test split nhưng trước khi bạn huấn luyện mô hình, hãy nhập code tiền xử lý của SciKit-Learn. Trừ khi bạn biết rõ cái nào sẽ hoạt động tốt nhất, nếu không bạn sẽ phải thử từng bộ tiền xử lý khác nhau, kiểm tra xem chúng có cải thiện độ chính xác dự đoán hay không.\n",
        "\n",
        "Hãy thử với ***Normalizer(), MaxAbsScaler(), MinMaxScaler(), KernelCenterer(), and StandardScaler().***\n",
        "\n",
        "Sau khi thử tất cả các tỷ lệ này, độ chính xác cao nhất mới và hệ số F1 mà bạn có thể đạt được là bao nhiêu?"
      ]
    },
    {
      "cell_type": "code",
      "source": [
        "from pandas import read_csv                           # For dataframes\n",
        "from pandas import DataFrame                       # For dataframes\n",
        "from numpy import ravel                                  # For matrices\n",
        "import matplotlib.pyplot as plt                        # For plotting data\n",
        "import seaborn as sns                                     # For plotting data\n",
        "from sklearn.model_selection import train_test_split    # For train/test splits\n",
        "from sklearn.neighbors import KNeighborsClassifier    # The k-nearest neighbor classifier\n",
        "from sklearn.feature_selection import VarianceThreshold # Feature selector\n",
        "from sklearn.pipeline import Pipeline                                  # For setting up pipeline\n",
        "# Various pre-processing steps\n",
        "from sklearn.preprocessing import Normalizer, StandardScaler, MinMaxScaler, PowerTransformer, MaxAbsScaler, LabelEncoder\n",
        "from sklearn.model_selection import GridSearchCV      # For optimization\n",
        "\n",
        "\n",
        "# Read ecoli dataset from the UCI ML Repository and store in\n",
        "# dataframe df\n",
        "url = '/content/parkinsons.data'\n",
        "df = read_csv(url)\n",
        "y, X = df['status'].values, df.drop(['name','status'], axis=1)\n",
        "\n",
        "# Encode the labels into unique integers\n",
        "encoder = LabelEncoder()\n",
        "y = encoder.fit_transform(ravel(y))\n",
        "\n",
        "# Split the data into test and train\n",
        "X_train, X_test, y_train, y_test = train_test_split(\n",
        "    X,\n",
        "    y,\n",
        "    test_size=1/3,\n",
        "    random_state=0)\n",
        "\n",
        "print(X_train.shape)\n",
        "print(X_test.shape)\n",
        "\n",
        "knn = KNeighborsClassifier().fit(X_train, y_train)\n",
        "print('Training set score: ' + str(knn.score(X_train,y_train)))\n",
        "print('Test set score: ' + str(knn.score(X_test,y_test)))\n",
        "\n",
        "pipe = Pipeline([\n",
        "('scaler', StandardScaler()),\n",
        "('selector', VarianceThreshold()),\n",
        "('classifier', KNeighborsClassifier())\n",
        "])\n",
        "\n",
        "pipe.fit(X_train, y_train)\n",
        "\n",
        "print('Training set score: ' + str(pipe.score(X_train,y_train)))\n",
        "print('Test set score: ' + str(pipe.score(X_test,y_test)))\n",
        "\n",
        "parameters = {'scaler': [StandardScaler(), MinMaxScaler(),\n",
        "\tNormalizer(), MaxAbsScaler()],\n",
        "\t'selector__threshold': [0, 0.001, 0.01],\n",
        "\t'classifier__n_neighbors': [1, 3, 5, 7, 10],\n",
        "\t'classifier__p': [1, 2],\n",
        "\t'classifier__leaf_size': [1, 5, 10, 15]\n",
        "}\n",
        "\n",
        "grid = GridSearchCV(pipe, parameters, cv=2).fit(X_train, y_train)\n",
        "\n",
        "print('Training set score: ' + str(grid.score(X_train, y_train)))\n",
        "print('Test set score: ' + str(grid.score(X_test, y_test)))\n",
        "\n",
        "# Access the best set of parameters\n",
        "best_params = grid.best_params_\n",
        "print(best_params)\n",
        "# Stores the optimum model in best_pipe\n",
        "best_pipe = grid.best_estimator_\n",
        "print(best_pipe)\n",
        "\n",
        "result_df = DataFrame.from_dict(grid.cv_results_, orient='columns')\n",
        "print(result_df.columns)\n",
        "\n",
        "sns.relplot(data=result_df,\n",
        "\tkind='line',\n",
        "\tx='param_classifier__n_neighbors',\n",
        "\ty='mean_test_score',\n",
        "\thue='param_scaler',\n",
        "\tcol='param_classifier__p')\n",
        "plt.show()\n",
        "\n",
        "sns.relplot(data=result_df,\n",
        "            kind='line',\n",
        "            x='param_classifier__n_neighbors',\n",
        "            y='mean_test_score',\n",
        "            hue='param_scaler',\n",
        "            col='param_classifier__leaf_size')\n",
        "plt.show()"
      ],
      "metadata": {
        "colab": {
          "base_uri": "https://localhost:8080/",
          "height": 953
        },
        "id": "Aavy9xgVbG_T",
        "outputId": "204c8575-2675-47e2-a05a-bab92882cda5"
      },
      "execution_count": 57,
      "outputs": [
        {
          "output_type": "stream",
          "name": "stdout",
          "text": [
            "(130, 22)\n",
            "(65, 22)\n",
            "Training set score: 0.8615384615384616\n",
            "Test set score: 0.9230769230769231\n",
            "Training set score: 0.9461538461538461\n",
            "Test set score: 0.9230769230769231\n",
            "Training set score: 1.0\n",
            "Test set score: 0.9230769230769231\n",
            "{'classifier__leaf_size': 1, 'classifier__n_neighbors': 1, 'classifier__p': 2, 'scaler': MaxAbsScaler(), 'selector__threshold': 0.01}\n",
            "Pipeline(steps=[('scaler', MaxAbsScaler()),\n",
            "                ('selector', VarianceThreshold(threshold=0.01)),\n",
            "                ('classifier',\n",
            "                 KNeighborsClassifier(leaf_size=1, n_neighbors=1))])\n",
            "Index(['mean_fit_time', 'std_fit_time', 'mean_score_time', 'std_score_time',\n",
            "       'param_classifier__leaf_size', 'param_classifier__n_neighbors',\n",
            "       'param_classifier__p', 'param_scaler', 'param_selector__threshold',\n",
            "       'params', 'split0_test_score', 'split1_test_score', 'mean_test_score',\n",
            "       'std_test_score', 'rank_test_score'],\n",
            "      dtype='object')\n"
          ]
        },
        {
          "output_type": "display_data",
          "data": {
            "text/plain": [
              "<Figure size 840.25x360 with 2 Axes>"
            ],
            "image/png": "[encoded data removed]"
          },
          "metadata": {
            "needs_background": "light"
          }
        },
        {
          "output_type": "display_data",
          "data": {
            "text/plain": [
              "<Figure size 1560.25x360 with 4 Axes>"
            ],
            "image/png": "[encoded data removed]"
          },
          "metadata": {
            "needs_background": "light"
          }
        }
      ]
    },
    {
      "cell_type": "code",
      "source": [
        "from sklearn.metrics.pairwise import pairwise_kernels\n",
        "from sklearn.preprocessing import MaxAbsScaler\n",
        "from sklearn.preprocessing import Normalizer\n",
        "# compare data preparation methods for the wine classification dataset\n",
        "from numpy import mean\n",
        "from numpy import std\n",
        "from pandas import read_csv\n",
        "from sklearn.model_selection import RepeatedStratifiedKFold\n",
        "from sklearn.model_selection import cross_val_score\n",
        "from sklearn.linear_model import LogisticRegression\n",
        "from sklearn.pipeline import Pipeline\n",
        "from sklearn.preprocessing import LabelEncoder\n",
        "from sklearn.preprocessing import MinMaxScaler\n",
        "from sklearn.preprocessing import StandardScaler\n",
        "from sklearn.preprocessing import QuantileTransformer\n",
        "from sklearn.preprocessing import KBinsDiscretizer\n",
        "from sklearn.decomposition import PCA\n",
        "from sklearn.decomposition import TruncatedSVD\n",
        "from matplotlib import pyplot\n",
        "\n",
        "# prepare the dataset\n",
        "def load_dataset():\n",
        "\t# load the dataset\n",
        "\turl = '/content/parkinsons.data'\n",
        "\tdf = read_csv(url)\n",
        "\ty, X = df['status'].values, df.drop(['name','status'], axis=1)\n",
        "\t# minimally prepare dataset\n",
        "\tX = X.astype('float')\n",
        "\ty = LabelEncoder().fit_transform(y.astype('str'))\n",
        "\treturn X, y\n",
        "\n",
        "# evaluate a model\n",
        "def evaluate_model(X, y, model):\n",
        "\t# define the cross-validation procedure\n",
        "\tcv = RepeatedStratifiedKFold(n_splits=10, n_repeats=3, random_state=1)\n",
        "\t# evaluate model\n",
        "\tscores = cross_val_score(model, X, y, scoring='accuracy', cv=cv, n_jobs=-1)\n",
        "\treturn scores\n",
        "\n",
        "# get modeling pipelines to evaluate\n",
        "def get_pipelines(model):\n",
        "\tpipelines = list()\n",
        "\t# normalize\n",
        "\tp = Pipeline([('s',MinMaxScaler()), ('m',model)])\n",
        "\tpipelines.append(('MinMaxScaler', p))\n",
        "\t# standardize\n",
        "\tp = Pipeline([('s',StandardScaler()), ('m',model)])\n",
        "\tpipelines.append(('StandardScaler', p))\n",
        "  # pairwise_kernels\n",
        "  # p = Pipeline([('s', Normalizer()), ('m', model)])\n",
        "  # pipelines.append(('Normalizer', p))\n",
        "\t# quantile\n",
        "\t# p = Pipeline([('s',QuantileTransformer(n_quantiles=100, output_distribution='normal')), ('m',model)])\n",
        "\t# pipelines.append(('QuantileTransformer', p))\n",
        "\t# # discretize\n",
        "\t# p = Pipeline([('s',KBinsDiscretizer(n_bins=10, encode='ordinal', strategy='uniform')), ('m',model)])\n",
        "\t# pipelines.append(('KBinsDiscretizer', p))\n",
        "\t# # pca\n",
        "\t# p = Pipeline([('s',PCA(n_components=7)), ('m',model)])\n",
        "\t# pipelines.append(('pca', p))\n",
        "\t# # svd\n",
        "\t# p = Pipeline([('s',TruncatedSVD(n_components=7)), ('m',model)])\n",
        "\t# pipelines.append(('TruncatedSVD', p))\n",
        "\treturn pipelines\n",
        "\n",
        "# get the dataset\n",
        "X, y = load_dataset()\n",
        "# define the model\n",
        "model = LogisticRegression(solver='liblinear')\n",
        "# get the modeling pipelines\n",
        "pipelines = get_pipelines(model)\n",
        "# evaluate each pipeline\n",
        "results, names = list(), list()\n",
        "for name, pipeline in pipelines:\n",
        "\t# evaluate\n",
        "\tscores = evaluate_model(X, y, pipeline)\n",
        "\t# summarize\n",
        "\tprint('>%s: %.3f (%.3f)' % (name, mean(scores), std(scores)))\n",
        "\t# store\n",
        "\tresults.append(scores)\n",
        "\tnames.append(name)\n",
        "# plot the result\n",
        "pyplot.boxplot(results, labels=names, showmeans=True)\n",
        "pyplot.show()"
      ],
      "metadata": {
        "colab": {
          "base_uri": "https://localhost:8080/",
          "height": 300
        },
        "id": "Vb-0ETj3LoMn",
        "outputId": "c985e463-ee20-483c-d9ce-1b5d3f9ec49e"
      },
      "execution_count": 59,
      "outputs": [
        {
          "output_type": "stream",
          "name": "stdout",
          "text": [
            ">MinMaxScaler: 0.844 (0.092)\n",
            ">StandardScaler: 0.850 (0.097)\n"
          ]
        },
        {
          "output_type": "display_data",
          "data": {
            "text/plain": [
              "<Figure size 432x288 with 1 Axes>"
            ],
            "image/png": "[encoded data removed]"
          },
          "metadata": {
            "needs_background": "light"
          }
        }
      ]
    },
    {
      "cell_type": "markdown",
      "source": [
        "Trong trường hợp này, chúng ta có thể thấy rằng mô hình QuantileTransformer phù hợp với dữ liệu đầu vào thô đạt được độ chính xác phân loại trung bình khoảng 87.4 phần trăm, cung cấp hiệu suất cơ sở."
      ],
      "metadata": {
        "id": "iCg2oE5mSH3_"
      }
    },
    {
      "cell_type": "code",
      "source": [
        "# get modeling pipelines to evaluate\n",
        "def get_pipelines(model):\n",
        "\tpipelines = list()\n",
        "\t# standardize\n",
        "\tp = Pipeline([('s',StandardScaler()), ('r', RFE(estimator=LogisticRegression(solver='liblinear'), n_features_to_select=10)), ('m',model)])\n",
        "\tpipelines.append(('std', p))\n",
        "\t# scale and power\n",
        "\tp = Pipeline([('s',MinMaxScaler((1,2))), ('p', PowerTransformer()), ('m',model)])\n",
        "\tpipelines.append(('power', p))\n",
        "\treturn pipelines"
      ],
      "metadata": {
        "id": "ZbV6jbRxSlyL"
      },
      "execution_count": 38,
      "outputs": []
    },
    {
      "cell_type": "code",
      "source": [
        "# compare sequences of data preparation methods for the wine classification dataset\n",
        "from numpy import mean\n",
        "from numpy import std\n",
        "from pandas import read_csv\n",
        "from sklearn.model_selection import RepeatedStratifiedKFold\n",
        "from sklearn.model_selection import cross_val_score\n",
        "from sklearn.linear_model import LogisticRegression\n",
        "from sklearn.pipeline import Pipeline\n",
        "from sklearn.preprocessing import LabelEncoder\n",
        "from sklearn.preprocessing import MinMaxScaler\n",
        "from sklearn.preprocessing import StandardScaler\n",
        "from sklearn.preprocessing import QuantileTransformer\n",
        "from sklearn.preprocessing import PowerTransformer\n",
        "from sklearn.preprocessing import KBinsDiscretizer\n",
        "from sklearn.decomposition import PCA\n",
        "from sklearn.decomposition import TruncatedSVD\n",
        "from sklearn.feature_selection import RFE\n",
        "from matplotlib import pyplot\n",
        "\n",
        "# prepare the dataset\n",
        "def load_dataset():\n",
        "\t# load the dataset\n",
        "\turl = '/content/parkinsons.data'\n",
        "\tdf = read_csv(url)\n",
        "\ty, X = df['status'].values, df.drop(['name','status'], axis=1)\n",
        "\t# minimally prepare dataset\n",
        "\tX = X.astype('float')\n",
        "\ty = LabelEncoder().fit_transform(y.astype('str'))\n",
        "\treturn X, y\n",
        "\n",
        "# evaluate a model\n",
        "def evaluate_model(X, y, model):\n",
        "\t# define the cross-validation procedure\n",
        "\tcv = RepeatedStratifiedKFold(n_splits=10, n_repeats=3, random_state=1)\n",
        "\t# evaluate model\n",
        "\tscores = cross_val_score(model, X, y, scoring='accuracy', cv=cv, n_jobs=-1)\n",
        "\treturn scores\n",
        "\n",
        "# get modeling pipelines to evaluate\n",
        "def get_pipelines(model):\n",
        "\tpipelines = list()\n",
        "\t# standardize\n",
        "\tp = Pipeline([('s',StandardScaler()), ('r', RFE(estimator=LogisticRegression(solver='liblinear'), n_features_to_select=10)), ('m',model)])\n",
        "\tpipelines.append(('std', p))\n",
        "\t# scale and power\n",
        "\tp = Pipeline([('s',MinMaxScaler((1,2))), ('p', PowerTransformer()), ('m',model)])\n",
        "\tpipelines.append(('power', p))\n",
        "\treturn pipelines\n",
        "\n",
        "# get the dataset\n",
        "X, y = load_dataset()\n",
        "# define the model\n",
        "model = LogisticRegression(solver='liblinear')\n",
        "# get the modeling pipelines\n",
        "pipelines = get_pipelines(model)\n",
        "# evaluate each pipeline\n",
        "results, names = list(), list()\n",
        "for name, pipeline in pipelines:\n",
        "\t# evaluate\n",
        "\tscores = evaluate_model(X, y, pipeline)\n",
        "\t# summarize\n",
        "\tprint('>%s: %.3f (%.3f)' % (name, mean(scores), std(scores)))\n",
        "\t# store\n",
        "\tresults.append(scores)\n",
        "\tnames.append(name)\n",
        "# plot the result\n",
        "pyplot.boxplot(results, labels=names, showmeans=True)\n",
        "pyplot.show()"
      ],
      "metadata": {
        "colab": {
          "base_uri": "https://localhost:8080/",
          "height": 300
        },
        "id": "NK8xGngASl78",
        "outputId": "5450bd5f-76eb-4aad-b24e-4556a5c698ef"
      },
      "execution_count": 39,
      "outputs": [
        {
          "output_type": "stream",
          "name": "stdout",
          "text": [
            ">std: 0.833 (0.109)\n",
            ">power: 0.872 (0.093)\n"
          ]
        },
        {
          "output_type": "display_data",
          "data": {
            "text/plain": [
              "<Figure size 432x288 with 1 Axes>"
            ],
            "image/png": "[encoded data removed]"
          },
          "metadata": {
            "needs_background": "light"
          }
        }
      ]
    },
    {
      "cell_type": "markdown",
      "source": [
        "Trong trường hợp này, chúng ta có thể thấy rằng việc standardization với lựa chọn tính năng cung cấp thêm độ chính xác từ 83.3 % đến 87.2 %."
      ],
      "metadata": {
        "id": "Anmy-hvpS5o3"
      }
    },
    {
      "cell_type": "code",
      "source": [
        "url = '/content/parkinsons.data'\n",
        "df = read_csv(url)\n",
        "y, X = df['status'].values, df.drop(['name','status'], axis=1)\n",
        "# minimally prepare dataset\n",
        "X = X.astype('float')\n",
        "y = LabelEncoder().fit_transform(y.astype('str'))"
      ],
      "metadata": {
        "id": "WIJJ8oYVjx7Q"
      },
      "execution_count": 61,
      "outputs": []
    },
    {
      "cell_type": "code",
      "source": [],
      "metadata": {
        "id": "_DseFr_UkRBI"
      },
      "execution_count": null,
      "outputs": []
    },
    {
      "cell_type": "code",
      "source": [
        "T = preprocessing.Normalizer().fit_transform(X) #this gives the **lowest** accuracy\n",
        "X_train, X_test, y_train, y_test = train_test_split(T, y, test_size=0.3, random_state=7)\n",
        "from sklearn.svm import SVC\n",
        "model = SVC()\n",
        "model.fit(X_train, y_train)\n",
        "score = model.score(X_test, y_test)\n",
        "print(score) "
      ],
      "metadata": {
        "colab": {
          "base_uri": "https://localhost:8080/"
        },
        "id": "ZGrUMxp8i_ak",
        "outputId": "f3737095-6b00-43bd-a10e-33d136cb1d77"
      },
      "execution_count": 62,
      "outputs": [
        {
          "output_type": "stream",
          "name": "stdout",
          "text": [
            "0.7966101694915254\n"
          ]
        }
      ]
    },
    {
      "cell_type": "code",
      "source": [
        "T = preprocessing.MaxAbsScaler().fit_transform(X)\n",
        "X_train, X_test, y_train, y_test = train_test_split(T, y, test_size=0.3, random_state=7)\n",
        "from sklearn.svm import SVC\n",
        "model = SVC()\n",
        "model.fit(X_train, y_train)\n",
        "score = model.score(X_test, y_test)\n",
        "print(score) "
      ],
      "metadata": {
        "colab": {
          "base_uri": "https://localhost:8080/"
        },
        "id": "QE8DZ2xTj6Ol",
        "outputId": "e7517554-10b0-4896-9c9f-6ae4f186eb93"
      },
      "execution_count": 63,
      "outputs": [
        {
          "output_type": "stream",
          "name": "stdout",
          "text": [
            "0.8813559322033898\n"
          ]
        }
      ]
    },
    {
      "cell_type": "code",
      "source": [
        "T = preprocessing.MinMaxScaler().fit_transform(X)\n",
        "X_train, X_test, y_train, y_test = train_test_split(T, y, test_size=0.3, random_state=7)\n",
        "from sklearn.svm import SVC\n",
        "model = SVC()\n",
        "model.fit(X_train, y_train)\n",
        "score = model.score(X_test, y_test)\n",
        "print(score) "
      ],
      "metadata": {
        "colab": {
          "base_uri": "https://localhost:8080/"
        },
        "id": "ksfHbPQols6m",
        "outputId": "7fc32736-9ba6-4140-da20-f6711b1454ec"
      },
      "execution_count": 68,
      "outputs": [
        {
          "output_type": "stream",
          "name": "stdout",
          "text": [
            "0.9152542372881356\n"
          ]
        }
      ]
    },
    {
      "cell_type": "code",
      "source": [
        "T = preprocessing.StandardScaler().fit_transform(X)\n",
        "X_train, X_test, y_train, y_test = train_test_split(T, y, test_size=0.3, random_state=7)\n",
        "from sklearn.svm import SVC\n",
        "model = SVC()\n",
        "model.fit(X_train, y_train)\n",
        "score = model.score(X_test, y_test)\n",
        "print(score) "
      ],
      "metadata": {
        "colab": {
          "base_uri": "https://localhost:8080/"
        },
        "id": "jJUTLYVvlxqQ",
        "outputId": "0875b825-50b6-4ba2-8869-2bcfb962829d"
      },
      "execution_count": 69,
      "outputs": [
        {
          "output_type": "stream",
          "name": "stdout",
          "text": [
            "0.9152542372881356\n"
          ]
        }
      ]
    },
    {
      "cell_type": "code",
      "source": [
        "print(X_train.shape, y_train.shape)\n",
        "print(X_test.shape, y_test.shape)\n",
        "print(X.shape)"
      ],
      "metadata": {
        "colab": {
          "base_uri": "https://localhost:8080/"
        },
        "id": "iDuyprqgrMEH",
        "outputId": "6662e15f-59a2-4cd3-cf11-1736cc4231a0"
      },
      "execution_count": 72,
      "outputs": [
        {
          "output_type": "stream",
          "name": "stdout",
          "text": [
            "(136, 22) (136,)\n",
            "(59, 22) (59,)\n",
            "(195, 22)\n"
          ]
        }
      ]
    },
    {
      "cell_type": "code",
      "source": [
        "from sklearn.preprocessing import KernelCenterer\n",
        "from sklearn.metrics.pairwise import pairwise_kernels"
      ],
      "metadata": {
        "id": "aLu6wd5gsO6q"
      },
      "execution_count": 73,
      "outputs": []
    },
    {
      "cell_type": "code",
      "source": [
        "T = preprocessing.Normalizer().fit_transform(X) #this gives the **lowest** accuracy\n",
        "T = preprocessing.MaxAbsScaler().fit_transform(X)\n",
        "T = preprocessing.MinMaxScaler().fit_transform(X)\n",
        "# T = preprocessing.KernelCenterer().fit_transform(X)\n",
        "T = preprocessing.StandardScaler().fit_transform(X) #this gives the **highets** accuracy\n",
        "X_train, X_test, y_train, y_test = train_test_split(T, y, test_size=0.3, random_state=7)"
      ],
      "metadata": {
        "id": "kZlbFi5Kinrq"
      },
      "execution_count": 66,
      "outputs": []
    },
    {
      "cell_type": "code",
      "source": [],
      "metadata": {
        "id": "-d3eb5Hmj495"
      },
      "execution_count": null,
      "outputs": []
    }
  ]
}