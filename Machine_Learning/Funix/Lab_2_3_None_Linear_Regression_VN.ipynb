{
  "cells": [
    {
      "cell_type": "markdown",
      "metadata": {
        "id": "2-U31E_BlIPP"
      },
      "source": [
        "# Phân tích Hồi quy Phi tuyến tính\n",
        "\n",
        "Thời lượng ước tính: **45** phút\n",
        "\n",
        "## Mục tiêu\n",
        "\n",
        "Sau khi hoàn thành lab này bạn sẽ có thể:\n",
        "\n",
        "-   Phân biệt giữa Hồi quy Tuyến tính và Hồi quy Phi Tuyến tính\n",
        "-   Sử dụng Hồi quy Phi Tuyến tính trong Python\n"
      ]
    },
    {
      "cell_type": "markdown",
      "metadata": {
        "id": "VYiWvO8slIPe"
      },
      "source": [
        "Nếu dữ liệu cho thấy xu hướng cong, thì hồi quy tuyến tính sẽ không tạo ra kết quả chính xác so với hồi quy phi tuyến tính bởi vì, như tên của nó, hồi quy tuyến tính cho rằng dữ liệu là tuyến tính.\n",
        "Hãy cùng tìm hiểu về hồi quy phi tuyến tính và áp dụng một ví dụ trong python. Trong notebook này, chúng ta fit mô hình phi tuyến tính với các điểm dữ liệu tương ứng với GDP của Trung Quốc từ 1960-2014.\n"
      ]
    },
    {
      "cell_type": "markdown",
      "metadata": {
        "id": "tVTCeOvNlIPf"
      },
      "source": [
        "<h2 id=\"importing_libraries\">Import các thư viện cần thiết</h2>\n"
      ]
    },
    {
      "cell_type": "code",
      "execution_count": 1,
      "metadata": {
        "id": "Ja7sjJW7lIPg"
      },
      "outputs": [],
      "source": [
        "import numpy as np\n",
        "import matplotlib.pyplot as plt\n",
        "%matplotlib inline"
      ]
    },
    {
      "cell_type": "markdown",
      "metadata": {
        "id": "UlpsEvAqlIPi"
      },
      "source": [
        "Mặc dù hồi quy tuyến tính rất tốt để giải quyết nhiều bài toán nhưng nó không thể được sử dụng cho mọi tập dữ liệu. Trước tiên hãy nhớ lại cách hồi quy tuyến tính có thể mô hình hóa một tập dữ liệu. Nó mô hình hóa mối quan hệ tuyến tính giữa biến phụ thuộc y và biến độc lập x. Nó có một phương trình bậc 1 đơn giản, chẳng hạn: y = $2x$ + 3.\n"
      ]
    },
    {
      "cell_type": "code",
      "execution_count": 2,
      "metadata": {
        "id": "CfOBlPqrlIPi"
      },
      "outputs": [
        {
          "data": {
            "image/png": "[encoded data removed]",
            "text/plain": [
              "<Figure size 432x288 with 1 Axes>"
            ]
          },
          "metadata": {
            "needs_background": "light"
          },
          "output_type": "display_data"
        }
      ],
      "source": [
        "x = np.arange(-5.0, 5.0, 0.1)\n",
        "\n",
        "# Bạn có thể điều chỉnh độ dốc và hệ số chặn để xác minh những thay đổi trong biểu đồ\n",
        "y = 2*(x) + 3\n",
        "y_noise = 2 * np.random.normal(size=x.size)\n",
        "ydata = y + y_noise\n",
        "#plt.figure(figsize=(8,6))\n",
        "plt.plot(x, ydata,  'bo')\n",
        "plt.plot(x,y, 'r') \n",
        "plt.ylabel('Dependent Variable')\n",
        "plt.xlabel('Independent Variable')\n",
        "plt.show()"
      ]
    },
    {
      "cell_type": "markdown",
      "metadata": {
        "id": "Zj7lYwNylIPk"
      },
      "source": [
        "Hồi quy phi tuyến tính là mối quan hệ giữa các biến độc lập $x$ và biến phụ thuộc $y$ dẫn đến dữ liệu mô hình hóa hàm phi tuyến tính. Về cơ bản, bất kỳ mối quan hệ nào không tuyến tính đều có thể được gọi là phi tuyến tính và thường được biểu diễn bằng đa thức $k$ bậc (Lũy thừa tối đa của $x$). \n",
        "\n",
        "$$ \\ y = a x^3 + b x^2 + c x + d \\ $$\n",
        "\n",
        "Các hàm phi tuyến tính có thể có các phần tử như số mũ, logarit, phân số,.... Ví dụ: $$ y = \\log(x)$$\n",
        "\n",
        "Hoặc thậm chí, phức tạp hơn chẳng hạn như:\n",
        "$$ y = \\log(a x^3 + b x^2 + c x + d)$$\n"
      ]
    },
    {
      "cell_type": "markdown",
      "metadata": {
        "id": "_sJcOgDZlIPl"
      },
      "source": [
        "Hãy xem đồ thị của một hàm số bậc ba.\n"
      ]
    },
    {
      "cell_type": "code",
      "execution_count": 3,
      "metadata": {
        "id": "5YnYYhgdlIPl"
      },
      "outputs": [
        {
          "data": {
            "image/png": "[encoded data removed]",
            "text/plain": [
              "<Figure size 432x288 with 1 Axes>"
            ]
          },
          "metadata": {
            "needs_background": "light"
          },
          "output_type": "display_data"
        }
      ],
      "source": [
        "x = np.arange(-5.0, 5.0, 0.1)\n",
        "\n",
        "##You can adjust the slope and intercept to verify the changes in the graph\n",
        "y = 1*(x**3) + 1*(x**2) + 1*x + 3\n",
        "y_noise = 20 * np.random.normal(size=x.size)\n",
        "ydata = y + y_noise\n",
        "plt.plot(x, ydata,  'bo')\n",
        "plt.plot(x,y, 'r') \n",
        "plt.ylabel('Dependent Variable')\n",
        "plt.xlabel('Independent Variable')\n",
        "plt.show()"
      ]
    },
    {
      "cell_type": "markdown",
      "metadata": {
        "id": "IFl6wnRblIPm"
      },
      "source": [
        "Như bạn thấy, hàm này có các biến độc lập $x^3$ và $x^2$. Ngoài ra, đồ thị của hàm này không phải là một đường thẳng trên mặt phẳng 2D. Vì vậy, đây là một hàm phi tuyến tính.\n"
      ]
    },
    {
      "cell_type": "markdown",
      "metadata": {
        "id": "dDzctBBZlIPn"
      },
      "source": [
        "Một số loại hàm phi tuyến tính khác:\n"
      ]
    },
    {
      "cell_type": "markdown",
      "metadata": {
        "id": "P4xk-AStlIPo"
      },
      "source": [
        "### Bậc hai\n"
      ]
    },
    {
      "cell_type": "markdown",
      "metadata": {
        "id": "-vzEXuCNlIPo"
      },
      "source": [
        "$$ Y = X^2 $$\n"
      ]
    },
    {
      "cell_type": "code",
      "execution_count": 4,
      "metadata": {
        "id": "_mj6_zRplIPp"
      },
      "outputs": [
        {
          "data": {
            "image/png": "[encoded data removed]",
            "text/plain": [
              "<Figure size 432x288 with 1 Axes>"
            ]
          },
          "metadata": {
            "needs_background": "light"
          },
          "output_type": "display_data"
        }
      ],
      "source": [
        "x = np.arange(-5.0, 5.0, 0.1)\n",
        "\n",
        "# Bạn có thể điều chỉnh độ dốc và hệ số chặn để xác minh những thay đổi trong biểu đồ\n",
        "y = np.power(x,2)\n",
        "y_noise = 2 * np.random.normal(size=x.size)\n",
        "ydata = y + y_noise\n",
        "plt.plot(x, ydata,  'bo')\n",
        "plt.plot(x,y, 'r') \n",
        "plt.ylabel('Dependent Variable')\n",
        "plt.xlabel('Independent Variable')\n",
        "plt.show()"
      ]
    },
    {
      "cell_type": "markdown",
      "metadata": {
        "id": "VDKOs5mylIPp"
      },
      "source": [
        "### Số mũ\n"
      ]
    },
    {
      "cell_type": "markdown",
      "metadata": {
        "id": "6oe57TxblIPq"
      },
      "source": [
        "Một hàm mũ với cơ số c được xác định theo $$ Y = a + b c^X$$ trong đó b ≠0, c > 0 , c ≠1, và x là số thực bất kỳ. Cơ số c là hằng số và số mũ x là một biến.\n"
      ]
    },
    {
      "cell_type": "code",
      "execution_count": 5,
      "metadata": {
        "id": "8uOy2d9plIPr"
      },
      "outputs": [
        {
          "data": {
            "image/png": "[encoded data removed]",
            "text/plain": [
              "<Figure size 432x288 with 1 Axes>"
            ]
          },
          "metadata": {
            "needs_background": "light"
          },
          "output_type": "display_data"
        }
      ],
      "source": [
        "X = np.arange(-5.0, 5.0, 0.1)\n",
        "\n",
        "# Bạn có thể điều chỉnh độ dốc và hệ số chặn để xác minh những thay đổi trong biểu đồ\n",
        "Y= np.exp(X)\n",
        "plt.plot(X,Y) \n",
        "plt.ylabel('Dependent Variable')\n",
        "plt.xlabel('Independent Variable')\n",
        "plt.show()"
      ]
    },
    {
      "cell_type": "markdown",
      "metadata": {
        "id": "zSnQkj5ylIPs"
      },
      "source": [
        "### Logarit\n",
        "\n",
        "$y$ là kết quả của việc áp dụng ánh xạ logarit từ input $ x $ tới biến output $y$. Đây là một trong những dạng đơn giản nhất của **log()**: tức là $$ y = \\log(x)$$\n",
        "\n",
        "Hãy nhớ rằng thay vì $x$, có thể sử dụng $X$, có thể là biểu diễn đa thức của $x$. Ở dạng chung, nó sẽ được viết là\n",
        "\\begin{equation}\n",
        "y = \\log(X)\n",
        "\\end{equation}\n"
      ]
    },
    {
      "cell_type": "code",
      "execution_count": 6,
      "metadata": {
        "id": "WNoSzOzhlIPs"
      },
      "outputs": [
        {
          "name": "stderr",
          "output_type": "stream",
          "text": [
            "C:\\Users\\Quan Thi Thanh Hoa\\AppData\\Local\\Temp\\ipykernel_3304\\3471947836.py:2: RuntimeWarning: invalid value encountered in log\n",
            "  Y = np.log(X)\n"
          ]
        },
        {
          "data": {
            "image/png": "[encoded data removed]",
            "text/plain": [
              "<Figure size 432x288 with 1 Axes>"
            ]
          },
          "metadata": {
            "needs_background": "light"
          },
          "output_type": "display_data"
        }
      ],
      "source": [
        "X = np.arange(-5.0, 5.0, 0.1)\n",
        "Y = np.log(X)\n",
        "plt.plot(X,Y) \n",
        "plt.ylabel('Dependent Variable')\n",
        "plt.xlabel('Independent Variable')\n",
        "plt.show()"
      ]
    },
    {
      "cell_type": "markdown",
      "metadata": {
        "id": "1wm_hXwulIPt"
      },
      "source": [
        "### Hàm Sigmoidal/Logistic\n"
      ]
    },
    {
      "cell_type": "markdown",
      "metadata": {
        "id": "6h0hwFL1lIPu"
      },
      "source": [
        "$$ Y = a + \\frac{b}{1+ c^{(X-d)}}$$\n"
      ]
    },
    {
      "cell_type": "code",
      "execution_count": 7,
      "metadata": {
        "id": "YSmsb8p7lIPu"
      },
      "outputs": [
        {
          "data": {
            "image/png": "[encoded data removed]",
            "text/plain": [
              "<Figure size 432x288 with 1 Axes>"
            ]
          },
          "metadata": {
            "needs_background": "light"
          },
          "output_type": "display_data"
        }
      ],
      "source": [
        "X = np.arange(-5.0, 5.0, 0.1)\n",
        "\n",
        "\n",
        "Y = 1-4/(1+np.power(3, X-2))\n",
        "\n",
        "plt.plot(X,Y) \n",
        "plt.ylabel('Dependent Variable')\n",
        "plt.xlabel('Independent Variable')\n",
        "plt.show()"
      ]
    },
    {
      "cell_type": "markdown",
      "metadata": {
        "id": "S0Mhe_fBlIPv"
      },
      "source": [
        "<a id=\"ref2\"></a>\n",
        "\n",
        "# Ví dụ Hồi quy Phi tuyến tính\n"
      ]
    },
    {
      "cell_type": "markdown",
      "metadata": {
        "id": "X4HfkWnYlIPw"
      },
      "source": [
        "Ví dụ: chúng ta sẽ thử fit một mô hình phi tuyến tính với điểm dữ liệu tương ứng với GDP của Trung Quốc từ năm 1960 đến năm 2014. Download tập dữ liệu có 2 cột, cột đầu tiên là năm từ 1960 đến 2014, cột thứ hai là Tổng thu nhập quốc nội hàng năm tương ứng của Trung Quốc bằng đô la Mỹ cho năm đó. \n"
      ]
    },
    {
      "cell_type": "code",
      "execution_count": 8,
      "metadata": {
        "id": "CIYgbYTvlIPw"
      },
      "outputs": [
        {
          "data": {
            "text/html": [
              "<div>\n",
              "<style scoped>\n",
              "    .dataframe tbody tr th:only-of-type {\n",
              "        vertical-align: middle;\n",
              "    }\n",
              "\n",
              "    .dataframe tbody tr th {\n",
              "        vertical-align: top;\n",
              "    }\n",
              "\n",
              "    .dataframe thead th {\n",
              "        text-align: right;\n",
              "    }\n",
              "</style>\n",
              "<table border=\"1\" class=\"dataframe\">\n",
              "  <thead>\n",
              "    <tr style=\"text-align: right;\">\n",
              "      <th></th>\n",
              "      <th>Year</th>\n",
              "      <th>Value</th>\n",
              "    </tr>\n",
              "  </thead>\n",
              "  <tbody>\n",
              "    <tr>\n",
              "      <th>0</th>\n",
              "      <td>1960</td>\n",
              "      <td>5.918412e+10</td>\n",
              "    </tr>\n",
              "    <tr>\n",
              "      <th>1</th>\n",
              "      <td>1961</td>\n",
              "      <td>4.955705e+10</td>\n",
              "    </tr>\n",
              "    <tr>\n",
              "      <th>2</th>\n",
              "      <td>1962</td>\n",
              "      <td>4.668518e+10</td>\n",
              "    </tr>\n",
              "    <tr>\n",
              "      <th>3</th>\n",
              "      <td>1963</td>\n",
              "      <td>5.009730e+10</td>\n",
              "    </tr>\n",
              "    <tr>\n",
              "      <th>4</th>\n",
              "      <td>1964</td>\n",
              "      <td>5.906225e+10</td>\n",
              "    </tr>\n",
              "    <tr>\n",
              "      <th>5</th>\n",
              "      <td>1965</td>\n",
              "      <td>6.970915e+10</td>\n",
              "    </tr>\n",
              "    <tr>\n",
              "      <th>6</th>\n",
              "      <td>1966</td>\n",
              "      <td>7.587943e+10</td>\n",
              "    </tr>\n",
              "    <tr>\n",
              "      <th>7</th>\n",
              "      <td>1967</td>\n",
              "      <td>7.205703e+10</td>\n",
              "    </tr>\n",
              "    <tr>\n",
              "      <th>8</th>\n",
              "      <td>1968</td>\n",
              "      <td>6.999350e+10</td>\n",
              "    </tr>\n",
              "    <tr>\n",
              "      <th>9</th>\n",
              "      <td>1969</td>\n",
              "      <td>7.871882e+10</td>\n",
              "    </tr>\n",
              "  </tbody>\n",
              "</table>\n",
              "</div>"
            ],
            "text/plain": [
              "   Year         Value\n",
              "0  1960  5.918412e+10\n",
              "1  1961  4.955705e+10\n",
              "2  1962  4.668518e+10\n",
              "3  1963  5.009730e+10\n",
              "4  1964  5.906225e+10\n",
              "5  1965  6.970915e+10\n",
              "6  1966  7.587943e+10\n",
              "7  1967  7.205703e+10\n",
              "8  1968  6.999350e+10\n",
              "9  1969  7.871882e+10"
            ]
          },
          "execution_count": 8,
          "metadata": {},
          "output_type": "execute_result"
        }
      ],
      "source": [
        "import numpy as np\n",
        "import pandas as pd\n",
        "    \n",
        "df = pd.read_csv(\"china_gdp.csv\")\n",
        "df.head(10)"
      ]
    },
    {
      "cell_type": "markdown",
      "metadata": {
        "id": "UYKvfENslIPy"
      },
      "source": [
        "### Vẽ đồ thị tập dữ liệu\n",
        "\n",
        "Các điểm dữ liệu sẽ trông như thế này. Nó giống như một hàm logistic hoặc hàm mũ. Sự tăng trưởng bắt đầu chậm, sau đó từ năm 2005 trở đi, tăng trưởng đáng kể. Và cuối cùng, nó giảm tốc độ một chút trong những năm 2010.\n"
      ]
    },
    {
      "cell_type": "code",
      "execution_count": 9,
      "metadata": {
        "id": "0NeyLOF2lIPy"
      },
      "outputs": [
        {
          "data": {
            "image/png": "[encoded data removed]",
            "text/plain": [
              "<Figure size 576x360 with 1 Axes>"
            ]
          },
          "metadata": {
            "needs_background": "light"
          },
          "output_type": "display_data"
        }
      ],
      "source": [
        "plt.figure(figsize=(8,5))\n",
        "x_data, y_data = (df[\"Year\"].values, df[\"Value\"].values)\n",
        "plt.plot(x_data, y_data, 'ro')\n",
        "plt.ylabel('GDP')\n",
        "plt.xlabel('Year')\n",
        "plt.show()"
      ]
    },
    {
      "cell_type": "markdown",
      "metadata": {
        "id": "eIjqObJ9lIPz"
      },
      "source": [
        "### Chọn một mô hình\n",
        "\n",
        "Nhìn qua biểu đồ, chúng ta xác định rằng hàm logistic có thể là một phép tiệm cận tốt,\n",
        "vì nó có thuộc tính bắt đầu tăng chậm, tăng lên ở giữa và sau đó lại giảm ở cuối, như minh họa dưới đây:\n"
      ]
    },
    {
      "cell_type": "code",
      "execution_count": 10,
      "metadata": {
        "id": "xwgzkB7FlIPz"
      },
      "outputs": [
        {
          "data": {
            "image/png": "[encoded data removed]",
            "text/plain": [
              "<Figure size 432x288 with 1 Axes>"
            ]
          },
          "metadata": {
            "needs_background": "light"
          },
          "output_type": "display_data"
        }
      ],
      "source": [
        "X = np.arange(-5.0, 5.0, 0.1)\n",
        "Y = 1.0 / (1.0 + np.exp(-X))\n",
        "\n",
        "plt.plot(X,Y) \n",
        "plt.ylabel('Dependent Variable')\n",
        "plt.xlabel('Independent Variable')\n",
        "plt.show()"
      ]
    },
    {
      "cell_type": "markdown",
      "metadata": {
        "id": "Qi_nH8nQlIP0"
      },
      "source": [
        "Công thức cho hàm logistic như sau:\n",
        "\n",
        "$$ \\hat{Y} = \\frac1{1+e^{\\beta_1(X-\\beta_2)}}$$\n",
        "\n",
        "$\\beta_1$: Kiểm soát độ dốc của đường cong,\n",
        "\n",
        "$\\beta_2$: Trượt đường cong trên trục x.\n"
      ]
    },
    {
      "cell_type": "markdown",
      "metadata": {
        "id": "EdXHQIzTlIP0"
      },
      "source": [
        "### Xây dựng mô hình\n",
        "\n",
        "Bây giờ, hãy xây dựng mô hình hồi quy và khởi tạo các tham số của nó. \n"
      ]
    },
    {
      "cell_type": "code",
      "execution_count": 11,
      "metadata": {
        "id": "EBj6f8OxlIP1"
      },
      "outputs": [],
      "source": [
        "def sigmoid(x, Beta_1, Beta_2):\n",
        "     y = 1 / (1 + np.exp(-Beta_1*(x-Beta_2)))\n",
        "     return y"
      ]
    },
    {
      "cell_type": "markdown",
      "metadata": {
        "id": "5u7yz66ulIP1"
      },
      "source": [
        "Hãy xem đường sigmoid mẫu có fit với dữ liệu không:\n"
      ]
    },
    {
      "cell_type": "code",
      "execution_count": 12,
      "metadata": {
        "id": "MQM3LeoblIP1"
      },
      "outputs": [
        {
          "data": {
            "text/plain": [
              "[<matplotlib.lines.Line2D at 0x2717f771f00>]"
            ]
          },
          "execution_count": 12,
          "metadata": {},
          "output_type": "execute_result"
        },
        {
          "data": {
            "image/png": "[encoded data removed]",
            "text/plain": [
              "<Figure size 432x288 with 1 Axes>"
            ]
          },
          "metadata": {
            "needs_background": "light"
          },
          "output_type": "display_data"
        }
      ],
      "source": [
        "beta_1 = 0.10\n",
        "beta_2 = 1990.0\n",
        "\n",
        "# Logistic function\n",
        "Y_pred = sigmoid(x_data, beta_1 , beta_2)\n",
        "\n",
        "# Trực quan dự đoán ban đầu so với điểm dữ liệu\n",
        "plt.plot(x_data, Y_pred*15000000000000.)\n",
        "plt.plot(x_data, y_data, 'ro')"
      ]
    },
    {
      "cell_type": "markdown",
      "metadata": {
        "id": "UW0Rkrt5lIP2"
      },
      "source": [
        "Nhiệm vụ của chúng ta ở đây là tìm ra các thông số tốt nhất cho mô hình. Trước tiên hãy chuẩn hóa x và y:\n"
      ]
    },
    {
      "cell_type": "code",
      "execution_count": 13,
      "metadata": {
        "id": "5B-Prci4lIP2"
      },
      "outputs": [],
      "source": [
        "# Hãy normalize dữ liệu\n",
        "xdata = x_data/max(x_data)\n",
        "ydata = y_data/max(y_data)"
      ]
    },
    {
      "cell_type": "markdown",
      "metadata": {
        "id": "IP7hEtWXlIP3"
      },
      "source": [
        "#### Làm thế nào chúng ta tìm ra các thông số tốt nhất cho fit line?\n",
        "\n",
        "Chúng ta có thể dùng **curve_fit** sử dụng bình phương tối thiểu phi tuyến tính để fit hàm sigmoid với dữ liệu. Giá trị tối ưu cho các tham số để tổng bình phương phần dư của sigmoid (xdata,* popt) - ydata được giảm thiểu.\n",
        "\n",
        "popt là các thông số được tối ưu hóa.\n"
      ]
    },
    {
      "cell_type": "code",
      "execution_count": 14,
      "metadata": {
        "id": "h5b_rMQ0lIP3"
      },
      "outputs": [
        {
          "name": "stdout",
          "output_type": "stream",
          "text": [
            " beta_1 = 690.451712, beta_2 = 0.997207\n"
          ]
        }
      ],
      "source": [
        "from scipy.optimize import curve_fit\n",
        "popt, pcov = curve_fit(sigmoid, xdata, ydata)\n",
        "# In các tham số cuối cùng\n",
        "print(\" beta_1 = %f, beta_2 = %f\" % (popt[0], popt[1]))"
      ]
    },
    {
      "cell_type": "markdown",
      "metadata": {
        "id": "Up-Z3ECklIP4"
      },
      "source": [
        "Bây giờ hãy vẽ thành quả mô hình hồi quy.\n"
      ]
    },
    {
      "cell_type": "code",
      "execution_count": 15,
      "metadata": {
        "id": "SwbmYEJxlIP4"
      },
      "outputs": [
        {
          "data": {
            "image/png": "[encoded data removed]",
            "text/plain": [
              "<Figure size 576x360 with 1 Axes>"
            ]
          },
          "metadata": {
            "needs_background": "light"
          },
          "output_type": "display_data"
        }
      ],
      "source": [
        "x = np.linspace(1960, 2015, 55)\n",
        "x = x/max(x)\n",
        "plt.figure(figsize=(8,5))\n",
        "y = sigmoid(x, *popt)\n",
        "plt.plot(xdata, ydata, 'ro', label='data')\n",
        "plt.plot(x,y, linewidth=3.0, label='fit')\n",
        "plt.legend(loc='best')\n",
        "plt.ylabel('GDP')\n",
        "plt.xlabel('Year')\n",
        "plt.show()"
      ]
    },
    {
      "cell_type": "markdown",
      "metadata": {
        "id": "Xu_u6LCalIP5"
      },
      "source": [
        "## Thực hành\n",
        "\n",
        "Bạn có thể tính toán độ chính xác của mô hình của chúng ta là bao nhiêu không?\n"
      ]
    },
    {
      "cell_type": "code",
      "execution_count": 16,
      "metadata": {},
      "outputs": [
        {
          "data": {
            "text/html": [
              "<div>\n",
              "<style scoped>\n",
              "    .dataframe tbody tr th:only-of-type {\n",
              "        vertical-align: middle;\n",
              "    }\n",
              "\n",
              "    .dataframe tbody tr th {\n",
              "        vertical-align: top;\n",
              "    }\n",
              "\n",
              "    .dataframe thead th {\n",
              "        text-align: right;\n",
              "    }\n",
              "</style>\n",
              "<table border=\"1\" class=\"dataframe\">\n",
              "  <thead>\n",
              "    <tr style=\"text-align: right;\">\n",
              "      <th></th>\n",
              "      <th>Year</th>\n",
              "      <th>Value</th>\n",
              "    </tr>\n",
              "  </thead>\n",
              "  <tbody>\n",
              "    <tr>\n",
              "      <th>0</th>\n",
              "      <td>1960</td>\n",
              "      <td>5.918412e+10</td>\n",
              "    </tr>\n",
              "    <tr>\n",
              "      <th>1</th>\n",
              "      <td>1961</td>\n",
              "      <td>4.955705e+10</td>\n",
              "    </tr>\n",
              "    <tr>\n",
              "      <th>2</th>\n",
              "      <td>1962</td>\n",
              "      <td>4.668518e+10</td>\n",
              "    </tr>\n",
              "    <tr>\n",
              "      <th>3</th>\n",
              "      <td>1963</td>\n",
              "      <td>5.009730e+10</td>\n",
              "    </tr>\n",
              "    <tr>\n",
              "      <th>4</th>\n",
              "      <td>1964</td>\n",
              "      <td>5.906225e+10</td>\n",
              "    </tr>\n",
              "    <tr>\n",
              "      <th>5</th>\n",
              "      <td>1965</td>\n",
              "      <td>6.970915e+10</td>\n",
              "    </tr>\n",
              "    <tr>\n",
              "      <th>6</th>\n",
              "      <td>1966</td>\n",
              "      <td>7.587943e+10</td>\n",
              "    </tr>\n",
              "    <tr>\n",
              "      <th>7</th>\n",
              "      <td>1967</td>\n",
              "      <td>7.205703e+10</td>\n",
              "    </tr>\n",
              "    <tr>\n",
              "      <th>8</th>\n",
              "      <td>1968</td>\n",
              "      <td>6.999350e+10</td>\n",
              "    </tr>\n",
              "    <tr>\n",
              "      <th>9</th>\n",
              "      <td>1969</td>\n",
              "      <td>7.871882e+10</td>\n",
              "    </tr>\n",
              "    <tr>\n",
              "      <th>10</th>\n",
              "      <td>1970</td>\n",
              "      <td>9.150621e+10</td>\n",
              "    </tr>\n",
              "    <tr>\n",
              "      <th>11</th>\n",
              "      <td>1971</td>\n",
              "      <td>9.856202e+10</td>\n",
              "    </tr>\n",
              "    <tr>\n",
              "      <th>12</th>\n",
              "      <td>1972</td>\n",
              "      <td>1.121598e+11</td>\n",
              "    </tr>\n",
              "    <tr>\n",
              "      <th>13</th>\n",
              "      <td>1973</td>\n",
              "      <td>1.367699e+11</td>\n",
              "    </tr>\n",
              "    <tr>\n",
              "      <th>14</th>\n",
              "      <td>1974</td>\n",
              "      <td>1.422547e+11</td>\n",
              "    </tr>\n",
              "    <tr>\n",
              "      <th>15</th>\n",
              "      <td>1975</td>\n",
              "      <td>1.611625e+11</td>\n",
              "    </tr>\n",
              "    <tr>\n",
              "      <th>16</th>\n",
              "      <td>1976</td>\n",
              "      <td>1.516277e+11</td>\n",
              "    </tr>\n",
              "    <tr>\n",
              "      <th>17</th>\n",
              "      <td>1977</td>\n",
              "      <td>1.723490e+11</td>\n",
              "    </tr>\n",
              "    <tr>\n",
              "      <th>18</th>\n",
              "      <td>1978</td>\n",
              "      <td>1.483821e+11</td>\n",
              "    </tr>\n",
              "    <tr>\n",
              "      <th>19</th>\n",
              "      <td>1979</td>\n",
              "      <td>1.768565e+11</td>\n",
              "    </tr>\n",
              "    <tr>\n",
              "      <th>20</th>\n",
              "      <td>1980</td>\n",
              "      <td>1.896500e+11</td>\n",
              "    </tr>\n",
              "    <tr>\n",
              "      <th>21</th>\n",
              "      <td>1981</td>\n",
              "      <td>1.943690e+11</td>\n",
              "    </tr>\n",
              "    <tr>\n",
              "      <th>22</th>\n",
              "      <td>1982</td>\n",
              "      <td>2.035496e+11</td>\n",
              "    </tr>\n",
              "    <tr>\n",
              "      <th>23</th>\n",
              "      <td>1983</td>\n",
              "      <td>2.289502e+11</td>\n",
              "    </tr>\n",
              "    <tr>\n",
              "      <th>24</th>\n",
              "      <td>1984</td>\n",
              "      <td>2.580821e+11</td>\n",
              "    </tr>\n",
              "    <tr>\n",
              "      <th>25</th>\n",
              "      <td>1985</td>\n",
              "      <td>3.074796e+11</td>\n",
              "    </tr>\n",
              "    <tr>\n",
              "      <th>26</th>\n",
              "      <td>1986</td>\n",
              "      <td>2.988058e+11</td>\n",
              "    </tr>\n",
              "    <tr>\n",
              "      <th>27</th>\n",
              "      <td>1987</td>\n",
              "      <td>2.713498e+11</td>\n",
              "    </tr>\n",
              "    <tr>\n",
              "      <th>28</th>\n",
              "      <td>1988</td>\n",
              "      <td>3.107222e+11</td>\n",
              "    </tr>\n",
              "    <tr>\n",
              "      <th>29</th>\n",
              "      <td>1989</td>\n",
              "      <td>3.459575e+11</td>\n",
              "    </tr>\n",
              "    <tr>\n",
              "      <th>30</th>\n",
              "      <td>1990</td>\n",
              "      <td>3.589732e+11</td>\n",
              "    </tr>\n",
              "    <tr>\n",
              "      <th>31</th>\n",
              "      <td>1991</td>\n",
              "      <td>3.814547e+11</td>\n",
              "    </tr>\n",
              "    <tr>\n",
              "      <th>32</th>\n",
              "      <td>1992</td>\n",
              "      <td>4.249341e+11</td>\n",
              "    </tr>\n",
              "    <tr>\n",
              "      <th>33</th>\n",
              "      <td>1993</td>\n",
              "      <td>4.428746e+11</td>\n",
              "    </tr>\n",
              "    <tr>\n",
              "      <th>34</th>\n",
              "      <td>1994</td>\n",
              "      <td>5.622611e+11</td>\n",
              "    </tr>\n",
              "    <tr>\n",
              "      <th>35</th>\n",
              "      <td>1995</td>\n",
              "      <td>7.320320e+11</td>\n",
              "    </tr>\n",
              "    <tr>\n",
              "      <th>36</th>\n",
              "      <td>1996</td>\n",
              "      <td>8.608441e+11</td>\n",
              "    </tr>\n",
              "    <tr>\n",
              "      <th>37</th>\n",
              "      <td>1997</td>\n",
              "      <td>9.581594e+11</td>\n",
              "    </tr>\n",
              "    <tr>\n",
              "      <th>38</th>\n",
              "      <td>1998</td>\n",
              "      <td>1.025277e+12</td>\n",
              "    </tr>\n",
              "    <tr>\n",
              "      <th>39</th>\n",
              "      <td>1999</td>\n",
              "      <td>1.089447e+12</td>\n",
              "    </tr>\n",
              "    <tr>\n",
              "      <th>40</th>\n",
              "      <td>2000</td>\n",
              "      <td>1.205261e+12</td>\n",
              "    </tr>\n",
              "    <tr>\n",
              "      <th>41</th>\n",
              "      <td>2001</td>\n",
              "      <td>1.332235e+12</td>\n",
              "    </tr>\n",
              "    <tr>\n",
              "      <th>42</th>\n",
              "      <td>2002</td>\n",
              "      <td>1.461906e+12</td>\n",
              "    </tr>\n",
              "    <tr>\n",
              "      <th>43</th>\n",
              "      <td>2003</td>\n",
              "      <td>1.649929e+12</td>\n",
              "    </tr>\n",
              "    <tr>\n",
              "      <th>44</th>\n",
              "      <td>2004</td>\n",
              "      <td>1.941746e+12</td>\n",
              "    </tr>\n",
              "    <tr>\n",
              "      <th>45</th>\n",
              "      <td>2005</td>\n",
              "      <td>2.268599e+12</td>\n",
              "    </tr>\n",
              "    <tr>\n",
              "      <th>46</th>\n",
              "      <td>2006</td>\n",
              "      <td>2.729784e+12</td>\n",
              "    </tr>\n",
              "    <tr>\n",
              "      <th>47</th>\n",
              "      <td>2007</td>\n",
              "      <td>3.523094e+12</td>\n",
              "    </tr>\n",
              "    <tr>\n",
              "      <th>48</th>\n",
              "      <td>2008</td>\n",
              "      <td>4.558431e+12</td>\n",
              "    </tr>\n",
              "    <tr>\n",
              "      <th>49</th>\n",
              "      <td>2009</td>\n",
              "      <td>5.059420e+12</td>\n",
              "    </tr>\n",
              "    <tr>\n",
              "      <th>50</th>\n",
              "      <td>2010</td>\n",
              "      <td>6.039659e+12</td>\n",
              "    </tr>\n",
              "    <tr>\n",
              "      <th>51</th>\n",
              "      <td>2011</td>\n",
              "      <td>7.492432e+12</td>\n",
              "    </tr>\n",
              "    <tr>\n",
              "      <th>52</th>\n",
              "      <td>2012</td>\n",
              "      <td>8.461623e+12</td>\n",
              "    </tr>\n",
              "    <tr>\n",
              "      <th>53</th>\n",
              "      <td>2013</td>\n",
              "      <td>9.490603e+12</td>\n",
              "    </tr>\n",
              "    <tr>\n",
              "      <th>54</th>\n",
              "      <td>2014</td>\n",
              "      <td>1.035483e+13</td>\n",
              "    </tr>\n",
              "  </tbody>\n",
              "</table>\n",
              "</div>"
            ],
            "text/plain": [
              "    Year         Value\n",
              "0   1960  5.918412e+10\n",
              "1   1961  4.955705e+10\n",
              "2   1962  4.668518e+10\n",
              "3   1963  5.009730e+10\n",
              "4   1964  5.906225e+10\n",
              "5   1965  6.970915e+10\n",
              "6   1966  7.587943e+10\n",
              "7   1967  7.205703e+10\n",
              "8   1968  6.999350e+10\n",
              "9   1969  7.871882e+10\n",
              "10  1970  9.150621e+10\n",
              "11  1971  9.856202e+10\n",
              "12  1972  1.121598e+11\n",
              "13  1973  1.367699e+11\n",
              "14  1974  1.422547e+11\n",
              "15  1975  1.611625e+11\n",
              "16  1976  1.516277e+11\n",
              "17  1977  1.723490e+11\n",
              "18  1978  1.483821e+11\n",
              "19  1979  1.768565e+11\n",
              "20  1980  1.896500e+11\n",
              "21  1981  1.943690e+11\n",
              "22  1982  2.035496e+11\n",
              "23  1983  2.289502e+11\n",
              "24  1984  2.580821e+11\n",
              "25  1985  3.074796e+11\n",
              "26  1986  2.988058e+11\n",
              "27  1987  2.713498e+11\n",
              "28  1988  3.107222e+11\n",
              "29  1989  3.459575e+11\n",
              "30  1990  3.589732e+11\n",
              "31  1991  3.814547e+11\n",
              "32  1992  4.249341e+11\n",
              "33  1993  4.428746e+11\n",
              "34  1994  5.622611e+11\n",
              "35  1995  7.320320e+11\n",
              "36  1996  8.608441e+11\n",
              "37  1997  9.581594e+11\n",
              "38  1998  1.025277e+12\n",
              "39  1999  1.089447e+12\n",
              "40  2000  1.205261e+12\n",
              "41  2001  1.332235e+12\n",
              "42  2002  1.461906e+12\n",
              "43  2003  1.649929e+12\n",
              "44  2004  1.941746e+12\n",
              "45  2005  2.268599e+12\n",
              "46  2006  2.729784e+12\n",
              "47  2007  3.523094e+12\n",
              "48  2008  4.558431e+12\n",
              "49  2009  5.059420e+12\n",
              "50  2010  6.039659e+12\n",
              "51  2011  7.492432e+12\n",
              "52  2012  8.461623e+12\n",
              "53  2013  9.490603e+12\n",
              "54  2014  1.035483e+13"
            ]
          },
          "execution_count": 16,
          "metadata": {},
          "output_type": "execute_result"
        }
      ],
      "source": [
        "df"
      ]
    },
    {
      "cell_type": "markdown",
      "metadata": {},
      "source": [
        "#### Làm thế nào chúng ta tìm ra các thông số tốt nhất cho fit line?\n",
        "\n",
        "Chúng ta có thể dùng **curve_fit** sử dụng bình phương tối thiểu phi tuyến tính để fit hàm sigmoid với dữ liệu. Giá trị tối ưu cho các tham số để tổng bình phương phần dư của sigmoid (xdata,* popt) - ydata được giảm thiểu.\n",
        "\n",
        "popt là các thông số được tối ưu hóa.\n"
      ]
    },
    {
      "cell_type": "code",
      "execution_count": 78,
      "metadata": {
        "id": "d893wJlrlIP5"
      },
      "outputs": [
        {
          "name": "stdout",
          "output_type": "stream",
          "text": [
            "Mean absolute error: 0.03\n",
            "Residual sum of squares (MSE): 0.00\n",
            "R2-score: 0.90\n"
          ]
        }
      ],
      "source": [
        "# Nhập code của bạn tại đây\n",
        "\n",
        "# Split data into train/test\n",
        "msk = np.random.rand(len(df)) < 0.8\n",
        "train_x = xdata[msk]\n",
        "test_x = xdata[~msk]\n",
        "train_y = ydata[msk]\n",
        "test_y = ydata[~msk]\n",
        "\n",
        "# build the model using train set\n",
        "popt, pcov = curve_fit(sigmoid, train_x, train_y)\n",
        "\n",
        "# predict using test set\n",
        "y_hat = sigmoid(test_x, *popt)\n",
        "\n",
        "# evaluation\n",
        "print(\"Mean absolute error: %.2f\" % np.mean(np.absolute(y_hat - test_y)))\n",
        "print(\"Residual sum of squares (MSE): %.2f\" % np.mean((y_hat - test_y) ** 2))\n",
        "from sklearn.metrics import r2_score\n",
        "print(\"R2-score: %.2f\" % r2_score(y_hat, test_y))"
      ]
    },
    {
      "cell_type": "code",
      "execution_count": 66,
      "metadata": {},
      "outputs": [],
      "source": [
        "# # split data into train/test\n",
        "# msk = np.random.rand(len(df)) < 0.8\n",
        "# train_x = xdata[msk]\n",
        "# test_x = xdata[~msk]\n",
        "# train_y = ydata[msk]\n",
        "# test_y = ydata[~msk]\n",
        "\n",
        "# # build the model using train set\n",
        "# popt, pcov = curve_fit(sigmoid, train_x, train_y)\n",
        "\n",
        "# # predict using test set\n",
        "# y_hat = sigmoid(test_x, *popt)\n",
        "\n",
        "# # evaluation\n",
        "# print(\"Mean absolute error: %.2f\" % np.mean(np.absolute(y_hat - test_y)))\n",
        "# print(\"Residual sum of squares (MSE): %.2f\" % np.mean((y_hat - test_y) ** 2))\n",
        "# from sklearn.metrics import r2_score\n",
        "# print(\"R2-score: %.2f\" % r2_score(y_hat , test_y) )"
      ]
    },
    {
      "cell_type": "markdown",
      "metadata": {
        "id": "bdQk6tRvlIP5"
      },
      "source": [
        "<details><summary>Click vào đây để xem lời giải</summary>\n",
        "\n",
        "```python\n",
        "# split data into train/test\n",
        "msk = np.random.rand(len(df)) < 0.8\n",
        "train_x = xdata[msk]\n",
        "test_x = xdata[~msk]\n",
        "train_y = ydata[msk]\n",
        "test_y = ydata[~msk]\n",
        "\n",
        "# build the model using train set\n",
        "popt, pcov = curve_fit(sigmoid, train_x, train_y)\n",
        "\n",
        "# predict using test set\n",
        "y_hat = sigmoid(test_x, *popt)\n",
        "\n",
        "# evaluation\n",
        "print(\"Mean absolute error: %.2f\" % np.mean(np.absolute(y_hat - test_y)))\n",
        "print(\"Residual sum of squares (MSE): %.2f\" % np.mean((y_hat - test_y) ** 2))\n",
        "from sklearn.metrics import r2_score\n",
        "print(\"R2-score: %.2f\" % r2_score(y_hat , test_y) )\n",
        "\n",
        "```\n",
        "\n",
        "</details>\n"
      ]
    },
    {
      "cell_type": "markdown",
      "metadata": {
        "id": "PJKgYVEvlIP7"
      },
      "source": [
        "### Cảm ơn bạn đã hoàn thành lab này!\n",
        "\n",
        "Nguồn bài Lab: **IBM**"
      ]
    }
  ],
  "metadata": {
    "colab": {
      "collapsed_sections": [],
      "provenance": []
    },
    "kernelspec": {
      "display_name": "Python 3.10.6 64-bit",
      "language": "python",
      "name": "python3"
    },
    "language_info": {
      "codemirror_mode": {
        "name": "ipython",
        "version": 3
      },
      "file_extension": ".py",
      "mimetype": "text/x-python",
      "name": "python",
      "nbconvert_exporter": "python",
      "pygments_lexer": "ipython3",
      "version": "3.10.6"
    },
    "vscode": {
      "interpreter": {
        "hash": "9ad7f758c7f2ebdda2cc4f553f1363ed8fbfe288e0aece9aaf2ec73dff90b611"
      }
    }
  },
  "nbformat": 4,
  "nbformat_minor": 0
}
