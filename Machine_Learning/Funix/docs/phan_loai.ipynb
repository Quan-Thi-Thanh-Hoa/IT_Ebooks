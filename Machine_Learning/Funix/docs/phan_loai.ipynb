{
 "cells": [
  {
   "cell_type": "markdown",
   "metadata": {},
   "source": [
    "# Phân loại và k-nearest neighbours"
   ]
  },
  {
   "cell_type": "markdown",
   "metadata": {},
   "source": [
    "Phân loại là một phương pháp học có giám sát có thể được coi là một cách để **chia hoặc phân loại một số phần tử chưa biết thành một tập hợp các lớp riêng biệt.** Phân loại cố gắng **tìm hiểu mối quan hệ giữa một tập hợp các biến thuộc tính** và một biến mục tiêu quan tâm. "
   ]
  },
  {
   "cell_type": "markdown",
   "metadata": {},
   "source": [
    "**Thuộc tính mục tiêu (target attribute)** trong phân loại là một **biến kiểu phân loại với các giá trị rời rạc.** Với một tập hợp các điểm dữ liệu huấn luyện cùng với các nhãn mục tiêu, phân loại xác định nhãn lớp cho trường hợp kiểm tra không dán nhãn."
   ]
  },
  {
   "cell_type": "markdown",
   "metadata": {},
   "source": [
    "Phân loại dữ liệu có **một số ứng dụng trong nhiều ngành công nghiệp.** Nhiều vấn đề có thể được thể hiện dưới dạng liên kết giữa các biến thuộc tính và biến mục tiêu, đặc biệt là khi dữ liệu được dán nhãn có sẵn. Điều này cung cấp một phạm vi rộng của khả năng ứng dụng để phân loại. Ví dụ, được sử dụng để lọc email, nhận dạng giọng nói, nhận dạng chữ viết tay, nhận dạng sinh trắc học, phân loại tài liệu và nhiều hơn nữa."
   ]
  },
  {
   "cell_type": "markdown",
   "metadata": {},
   "source": [
    "Ở đây chúng ta có các loại thuật toán phân loại trong học máy như:\n",
    "\n",
    "- Cây quyết định\n",
    "- Naive Bayes\n",
    "- Phân tích phân biệt tuyến tính\n",
    "- k-Nearest Neighbors\n",
    "- Hồi quy logistic\n",
    "- Neural networks\n",
    "- Support vector machines"
   ]
  },
  {
   "cell_type": "markdown",
   "metadata": {},
   "source": [
    "Thuật toán k-Nearest Neighbors là một thuật toán lấy một loạt các điểm được gắn nhãn và sử dụng chúng để tìm hiểu cách gắn nhãn các điểm khác. Phân loại các trường hợp **dựa trên sự giống nhau của chúng với các trường hợp khác.** Trong KNN, **các điểm dữ liệu gần nhau được gọi là neighbors.** Để kiểm tra sự giống nhau hoặc khác biệt của 2 trường hợp, thuật toán tính khoảng cách của 2 trường hợp. Ví dụ như bằng công thức khoảng cách Euclide."
   ]
  },
  {
   "cell_type": "markdown",
   "metadata": {},
   "source": [
    "Thuật toán k-Nearest Neighbors hoạt động như sau:\n",
    "\n",
    "1. Chọn một giá trị nguyên cho k.\n",
    "2. Tính khoảng cách từ trường hợp mới đến mỗi trường hợp trong tập dữ liệu.\n",
    "3. Tìm kiếm k quan sát trong dữ liệu huấn luyện gần nhất với các phép đo của điểm dữ liệu chưa biết.\n",
    "4. Dự đoán phản hồi của điểm dữ liệu chưa biết bằng cách sử dụng giá trị phản hồi phổ biến nhất từ k-Nearest Neighbors."
   ]
  },
  {
   "cell_type": "markdown",
   "metadata": {},
   "source": [
    "Làm thế nào để chọn đúng k: \n",
    "\n",
    "- Giá trị k thấp khiến mô hình phức tạp, dẫn đến overfitting, có nghĩa là quá trình dự đoán không đủ khái quát để được sử dụng cho các trường hợp ngoài mẫu.\n",
    "- Nếu chúng ta chọn giá trị k rất cao như k bằng 20, thì mô hình trở nên quá khái quát.\n",
    "- Giải pháp chung là dành một phần dữ liệu của bạn để kiểm tra độ chính xác của mô hình. Chọn k bằng một và sau đó sử dụng phần huấn luyện để lập mô hình và tính toán độ chính xác của dự đoán bằng cách sử dụng tất cả các mẫu trong bộ thử nghiệm của bạn. Lặp lại quá trình này để tăng k và xem k nào là tốt nhất cho mô hình của bạn.\n",
    "- Thuật toán KNN cũng có thể được sử dụng để tính toán các giá trị cho một mục tiêu liên tục (tức là hồi quy). Trong tình huống này, giá trị mục tiêu sẽ bằng trung bình hoặc trung vị của các Nearest Neighbors."
   ]
  },
  {
   "cell_type": "markdown",
   "metadata": {},
   "source": [
    "Bộ cơ sở dữ liệu Iris (Iris flower dataset).\n",
    "\n",
    "Iris flower dataset là một bộ dữ liệu nhỏ (nhỏ hơn rất nhiều so với MNIST. Bộ dữ liệu này bao gồm thông tin của ba loại hoa Iris (một loài hoa lan) khác nhau: Iris setosa, Iris virginica và Iris versicolor. Mỗi loại có 50 bông hoa được đo với dữ liệu là 4 thông tin: chiều dài, chiều rộng đài hoa (sepal), và chiều dài, chiều rộng cánh hoa (petal). Dưới đây là ví dụ về hình ảnh của ba loại hoa. (Chú ý, đây không phải là bộ cơ sở dữ liệu ảnh như MNIST, mỗi điểm dữ liệu trong tập này chỉ là một vector 4 chiều)."
   ]
  },
  {
   "cell_type": "markdown",
   "metadata": {},
   "source": [
    "Bộ dữ liệu nhỏ này thường được sử dụng trong nhiều thuật toán Machine Learning trong các lớp học. Tôi sẽ giải thích lý do không chọn MNIST vào phần sau.\n",
    "\n",
    "Thí nghiệm\n",
    "\n",
    "Trong phần này, chúng ta sẽ tách 150 dữ liệu trong Iris flower dataset ra thành 2 phần, gọi là training set và test set. Thuật toán KNN sẽ dựa vào trông tin ở training set để dự đoán xem mỗi dữ liệu trong test set tương ứng với loại hoa nào. Dữ liệu được dự đoán này sẽ được đối chiếu với loại hoa thật của mỗi dữ liệu trong test set để đánh giá hiệu quả của KNN.\n",
    "\n",
    "Trước tiên, chúng ta cần khai báo vài thư viện.\n",
    "\n",
    "Iris flower dataset có sẵn trong thư viện scikit-learn."
   ]
  },
  {
   "cell_type": "code",
   "execution_count": 1,
   "metadata": {},
   "outputs": [],
   "source": [
    "import numpy as np\n",
    "import matplotlib.pyplot as plt\n",
    "from sklearn import neighbors, datasets"
   ]
  },
  {
   "cell_type": "code",
   "execution_count": 4,
   "metadata": {},
   "outputs": [
    {
     "name": "stdout",
     "output_type": "stream",
     "text": [
      "Number of classes: 3\n",
      "Number of data points: 150\n",
      "\n",
      "Samples from class 0:\n",
      " [[5.1 3.5 1.4 0.2]\n",
      " [4.9 3.  1.4 0.2]\n",
      " [4.7 3.2 1.3 0.2]\n",
      " [4.6 3.1 1.5 0.2]\n",
      " [5.  3.6 1.4 0.2]]\n",
      "\n",
      "Samples from class 1:\n",
      " [[7.  3.2 4.7 1.4]\n",
      " [6.4 3.2 4.5 1.5]\n",
      " [6.9 3.1 4.9 1.5]\n",
      " [5.5 2.3 4.  1.3]\n",
      " [6.5 2.8 4.6 1.5]]\n",
      "\n",
      "Samples from class 2:\n",
      " [[6.3 3.3 6.  2.5]\n",
      " [5.8 2.7 5.1 1.9]\n",
      " [7.1 3.  5.9 2.1]\n",
      " [6.3 2.9 5.6 1.8]\n",
      " [6.5 3.  5.8 2.2]]\n"
     ]
    }
   ],
   "source": [
    "iris = datasets.load_iris()\n",
    "iris_X = iris.data\n",
    "iris_y = iris.target\n",
    "print('Number of classes: %d' %len(np.unique(iris_y)))\n",
    "print('Number of data points: %d' %len(iris_y))\n",
    "\n",
    "\n",
    "X0 = iris_X[iris_y == 0,:]\n",
    "print('\\nSamples from class 0:\\n', X0[:5,:])\n",
    "\n",
    "X1 = iris_X[iris_y == 1,:]\n",
    "print('\\nSamples from class 1:\\n', X1[:5,:])\n",
    "\n",
    "X2 = iris_X[iris_y == 2,:]\n",
    "print('\\nSamples from class 2:\\n', X2[:5,:])"
   ]
  },
  {
   "cell_type": "markdown",
   "metadata": {},
   "source": [
    "Nếu nhìn vào vài dữ liệu mẫu, chúng ta thấy rằng hai cột cuối mang khá nhiều thông tin giúp chúng ta có thể phân biệt được chúng. Chúng ta dự đoán rằng kết quả classification cho cơ sở dữ liệu này sẽ tương đối cao."
   ]
  },
  {
   "cell_type": "markdown",
   "metadata": {},
   "source": [
    "Tách training và test sets\n",
    "\n",
    "Giả sử chúng ta muốn dùng 50 điểm dữ liệu cho test set, 100 điểm còn lại cho training set. Scikit-learn có một hàm số cho phép chúng ta ngẫu nhiên lựa chọn các điểm này, như sau:"
   ]
  },
  {
   "cell_type": "code",
   "execution_count": 6,
   "metadata": {},
   "outputs": [
    {
     "name": "stdout",
     "output_type": "stream",
     "text": [
      "Training size: 100\n",
      "Test size    : 50\n"
     ]
    }
   ],
   "source": [
    "from sklearn.model_selection import train_test_split\n",
    "X_train, X_test, y_train, y_test = train_test_split(\n",
    "     iris_X, iris_y, test_size=50)\n",
    "\n",
    "print(\"Training size: %d\" %len(y_train))\n",
    "print(\"Test size    : %d\" %len(y_test))"
   ]
  },
  {
   "cell_type": "markdown",
   "metadata": {},
   "source": [
    "Sau đây, tôi trước hết xét trường hợp đơn giản K = 1, tức là với mỗi điểm test data, ta chỉ xét 1 điểm training data gần nhất và lấy label của điểm đó để dự đoán cho điểm test này."
   ]
  },
  {
   "cell_type": "code",
   "execution_count": 7,
   "metadata": {},
   "outputs": [
    {
     "name": "stdout",
     "output_type": "stream",
     "text": [
      "Print results for 20 test data points:\n",
      "Predicted labels:  [1 0 1 0 1 0 0 1 2 2 1 1 0 0 1 0 0 1 2 2]\n",
      "Ground truth    :  [1 0 1 0 1 0 0 1 2 2 1 1 0 0 1 0 0 1 2 2]\n"
     ]
    }
   ],
   "source": [
    "clf = neighbors.KNeighborsClassifier(n_neighbors = 1, p = 2)\n",
    "clf.fit(X_train, y_train)\n",
    "y_pred = clf.predict(X_test)\n",
    "\n",
    "print(\"Print results for 20 test data points:\")\n",
    "print(\"Predicted labels: \", y_pred[20:40])\n",
    "print(\"Ground truth    : \", y_test[20:40])"
   ]
  },
  {
   "cell_type": "markdown",
   "metadata": {},
   "source": [
    "Kết quả cho thấy label dự đoán gần giống với label thật của test data, chỉ có 2 điểm trong số 20 điểm được hiển thị có kết quả sai lệch. Ở đây chúng ta làm quen với khái niệm mới: ground truth. Một cách đơn giản, ground truth chính là nhãn/label/đầu ra thực sự của các điểm trong test data. Khái niệm này được dùng nhiều trong Machine Learning, hy vọng lần tới các bạn gặp thì sẽ nhớ ngay nó là gì.\n",
    "\n",
    "Phương pháp đánh giá (evaluation method)\n",
    "\n",
    "Để đánh giá độ chính xác của thuật toán KNN classifier này, chúng ta xem xem có bao nhiêu điểm trong test data được dự đoán đúng. Lấy số lượng này chia cho tổng số lượng trong tập test data sẽ ra độ chính xác. Scikit-learn cung cấp hàm số accuracy_score để thực hiện công việc này."
   ]
  },
  {
   "cell_type": "code",
   "execution_count": 9,
   "metadata": {},
   "outputs": [
    {
     "name": "stdout",
     "output_type": "stream",
     "text": [
      "Accuracy of 1NN: 98.00 %\n"
     ]
    }
   ],
   "source": [
    "from sklearn.metrics import accuracy_score\n",
    "print(\"Accuracy of 1NN: %.2f %%\" %(100*accuracy_score(y_test, y_pred)))"
   ]
  },
  {
   "cell_type": "markdown",
   "metadata": {},
   "source": [
    "1NN đã cho chúng ta kết quả là 94%, không tệ! Chú ý rằng đây là một cơ sở dữ liệu dễ vì chỉ với dữ liệu ở hai cột cuối cùng, chúng ta đã có thể suy ra quy luật. Trong ví dụ này, tôi sử dụng p = 2 nghĩa là khoảng cách ở đây được tính là khoảng cách theo norm 2. Các bạn cũng có thể thử bằng cách thay p = 1 cho norm 1, hoặc các gía trị p khác cho norm khác. (Xem thêm sklearn.neighbors.KNeighborsClassifier)\n",
    "\n",
    "Nhận thấy rằng chỉ xét 1 điểm gần nhất có thể dẫn đến kết quả sai nếu điểm đó là nhiễu. Một cách có thể làm tăng độ chính xác là tăng số lượng điểm lân cận lên, ví dụ 10 điểm, và xem xem trong 10 điểm gần nhất, class nào chiếm đa số thì dự đoán kết quả là class đó. Kỹ thuật dựa vào đa số này được gọi là major voting."
   ]
  },
  {
   "cell_type": "code",
   "execution_count": 11,
   "metadata": {},
   "outputs": [
    {
     "name": "stdout",
     "output_type": "stream",
     "text": [
      "Accuracy of 10NN with major voting: 98.00 %\n"
     ]
    }
   ],
   "source": [
    "clf = neighbors.KNeighborsClassifier(n_neighbors = 10, p = 2)\n",
    "clf.fit(X_train, y_train)\n",
    "y_pred = clf.predict(X_test)\n",
    "\n",
    "print(\"Accuracy of 10NN with major voting: %.2f %%\" %(100*accuracy_score(y_test, y_pred)))"
   ]
  },
  {
   "cell_type": "markdown",
   "metadata": {},
   "source": [
    "Đánh trọng số cho các điểm lân cận\n",
    "\n",
    "Là một kẻ tham lam, tôi chưa muốn dừng kết quả ở đây vì thấy rằng mình vẫn có thể cải thiện được. Trong kỹ thuật major voting bên trên, mỗi trong 10 điểm gần nhất được coi là có vai trò như nhau và giá trị lá phiếu của mỗi điểm này là như nhau. Tôi cho rằng như thế là không công bằng, vì rõ ràng rằng những điểm gần hơn nên có trọng số cao hơn (càng thân cận thì càng tin tưởng). Vậy nên tôi sẽ đánh trọng số khác nhau cho mỗi trong 10 điểm gần nhất này. Cách đánh trọng số phải thoải mãn điều kiện là một điểm càng gần điểm test data thì phải được đánh trọng số càng cao (tin tưởng hơn). Cách đơn giản nhất là lấy nghịch đảo của khoảng cách này. (Trong trường hợp test data trùng với 1 điểm dữ liệu trong training data, tức khoảng cách bằng 0, ta lấy luôn label của điểm training data).\n",
    "\n",
    "Scikit-learn giúp chúng ta đơn giản hóa việc này bằng cách gán gía trị weights = 'distance'. (Giá trị mặc định của weights là 'uniform', tương ứng với việc coi tất cả các điểm lân cận có giá trị như nhau như ở trên)."
   ]
  },
  {
   "cell_type": "code",
   "execution_count": 13,
   "metadata": {},
   "outputs": [
    {
     "name": "stdout",
     "output_type": "stream",
     "text": [
      "Accuracy of 10NN (1/distance weights): 98.00 %\n"
     ]
    }
   ],
   "source": [
    "clf = neighbors.KNeighborsClassifier(n_neighbors = 10, p = 2, weights = 'distance')\n",
    "clf.fit(X_train, y_train)\n",
    "y_pred = clf.predict(X_test)\n",
    "\n",
    "print(\"Accuracy of 10NN (1/distance weights): %.2f %%\" %(100*accuracy_score(y_test, y_pred)))"
   ]
  },
  {
   "cell_type": "code",
   "execution_count": 14,
   "metadata": {},
   "outputs": [
    {
     "name": "stdout",
     "output_type": "stream",
     "text": [
      "Accuracy of 10NN (customized weights): 98.00 %\n"
     ]
    }
   ],
   "source": [
    "def myweight(distances):\n",
    "    sigma2 = .5 # we can change this number\n",
    "    return np.exp(-distances**2/sigma2)\n",
    "\n",
    "clf = neighbors.KNeighborsClassifier(n_neighbors = 10, p = 2, weights = myweight)\n",
    "clf.fit(X_train, y_train)\n",
    "y_pred = clf.predict(X_test)\n",
    "\n",
    "print(\"Accuracy of 10NN (customized weights): %.2f %%\" %(100*accuracy_score(y_test, y_pred)))"
   ]
  },
  {
   "cell_type": "markdown",
   "metadata": {},
   "source": [
    "Trong trường hợp này, kết quả tương đương với kỹ thuật major voting. Để đánh giá chính xác hơn kết quả của KNN với K khác nhau, cách định nghĩa khoảng cách khác nhau và cách đánh trọng số khác nhau, chúng ta cần thực hiện quá trình trên với nhiều cách chia dữ liệu training và test khác nhau rồi lấy kết quả trung bình, vì rất có thể dữ liệu phân chia trong 1 trường hợp cụ thể là rất tốt hoặc rất xấu (bias). Đây cũng là cách thường được dùng khi đánh giá hiệu năng của một thuật toán cụ thể nào đó."
   ]
  },
  {
   "cell_type": "markdown",
   "metadata": {},
   "source": [
    "## Phương thức đánh giá mô hình phân loại"
   ]
  },
  {
   "cell_type": "markdown",
   "metadata": {},
   "source": [
    "Evaluation Metric (phương thức đánh giá) giải thích về hiệu suất của một mô hình. Chúng dựa vào kết quả so sánh các giá trị thực tế trong tập thử nghiệm với các giá trị được dự đoán bởi mô hình, để tính toán độ chính xác của mô hình. Các phương thức đánh giá có một vai trò quan trọng trong việc phát triển một mô hình, vì chúng cung cấp insight (hiểu sâu) cho các khu vực có thể cần cải thiện.\n",
    "\n",
    "Phương thức đánh giá **Jaccard** được tính toán bằng **kích thước phần giao** chia **kích thước phần hợp của hai bộ nhãn.**"
   ]
  },
  {
   "cell_type": "markdown",
   "metadata": {},
   "source": [
    "![Picture](https://firebasestorage.googleapis.com/v0/b/funix-way.appspot.com/o/xSeries%2FData%20Science%20%2FDSP303x_1.2_VN%2FContent_Image%2FDSP303x_1.2_L04_H01.png?alt=media&token=fc1df6df-e9be-4be9-866c-09222f157b63)"
   ]
  },
  {
   "cell_type": "markdown",
   "metadata": {},
   "source": [
    "Công thức của Jaccard như sau:"
   ]
  },
  {
   "cell_type": "markdown",
   "metadata": {},
   "source": [
    "![Jaccard](https://firebasestorage.googleapis.com/v0/b/funix-way.appspot.com/o/xSeries%2FData%20Science%20%2FDSP303x_1.2_VN%2FContent_Image%2FDSP303x_1.2_L04_H02.png?alt=media&token=27dbe2d9-3644-4e4b-8ef4-a146234aa227)"
   ]
  },
  {
   "cell_type": "markdown",
   "metadata": {},
   "source": [
    "**Confusion matrix (ma trận nhầm lẫn)** cho thấy các dự đoán chính xác và sai lầm so với các nhãn thực tế. Ưu điểm của nó cho thấy khả năng mô hình hóa để dự đoán chính xác hoặc tách các lớp. Trong trường hợp cụ thể của phân loại nhị phân, chúng ta có thể hiểu các con số này là số lượng **True Positive, False Positive, True Negative và False Negative.**"
   ]
  },
  {
   "cell_type": "markdown",
   "metadata": {},
   "source": [
    "![CM](https://firebasestorage.googleapis.com/v0/b/funix-way.appspot.com/o/xSeries%2FData%20Science%20%2FDSP303x_1.2_VN%2FContent_Image%2FDSP303x_1.2_L04_H03.png?alt=media&token=cf0cbb32-5033-421a-bb65-4d16078a5da4)"
   ]
  },
  {
   "cell_type": "markdown",
   "metadata": {},
   "source": [
    "Dựa trên số lượng của từng phần, chúng ta có thể tính toán **Precision, Recall và F1 score** của từng nhãn. Nó được định nghĩa bởi:\n",
    "\n",
    "- Precision = True Positive/(True Positive + False Positive)\n",
    "- Recall = True Positive/(True Positive + False Negative)\n",
    "- F1 = (2 * Precision * Recall)/(Precision + Recall)\n",
    "\n",
    "F1 score là **trung bình hài hòa của Precision và Recall**, trong đó F1 score đạt giá trị tốt nhất ở 1 (đại diện cho precision và recall hoàn hảo) và kém nhất ở 0. Nó là **một cách tốt để chỉ ra rằng một trình phân loại có giá trị tốt cho cả Recall and Precision.**\n",
    "\n",
    "Trong một số trường hợp, đầu ra của một trình phân loại là **xác suất của một lớp, thay vì là nhãn. Logarithmic Loss (Log Loss)** cho phép đo hiệu suất của trình phân loại với đầu ra dự đoán là giá trị xác suất trong khoảng từ 0 đến 1. Log Loss càng nhỏ thì độ chính xác càng cao."
   ]
  },
  {
   "cell_type": "markdown",
   "metadata": {},
   "source": [
    "![PL](https://firebasestorage.googleapis.com/v0/b/funix-way.appspot.com/o/xSeries%2FData%20Science%20%2FDSP303x_1.2_VN%2FContent_Image%2FDSP303x_1.2_L04_H04.png?alt=media&token=0730ea05-0d81-4f79-8914-f0e10d4c934e)"
   ]
  },
  {
   "cell_type": "markdown",
   "metadata": {},
   "source": [
    "Hoàn thành bài học này, chúng ta đã nắm được các nội dung chính như sau:\n",
    "\n",
    "- Phân loại là một phương pháp học có giám sát để phân loại một số phần tử chưa biết thành một tập hợp các lớp riêng biệt.\n",
    "- Phân loại cố gắng tìm hiểu mối quan hệ giữa một tập hợp các biến thuộc tính và một biến mục tiêu quan tâm. \n",
    "- Thuật toán k-Nearest Neighbors là một thuật toán phân loại dựa vào sự giống nhau của trường hợp cần phân loại với các trường hợp khác.\n",
    "- Để chọn K hợp lý cho thuật toán k-Nearest Neighbors, chúng ta sẽ thử lần lượt k từ 2 và tăng dần, sau đó chọn ra k có độ chính xác dự đoán tốt nhất.\n",
    "- Các phương thức đánh giá cho mô hình phân loại là Jaccard, Confusion matrix, Precision, Recall, F1 score, Logarithmic Loss (khi mô hình trả về xác suất dự đoán thuộc về 1 lớp)."
   ]
  },
  {
   "cell_type": "markdown",
   "metadata": {},
   "source": [
    "## Hoi quy Logistic"
   ]
  },
  {
   "cell_type": "markdown",
   "metadata": {},
   "source": [
    "Trong bài học này, bạn sẽ tìm hiểu về thuật toán phổ biến nhất trong phân loại - hồi quy Logistic. Sau đó bạn sẽ được tìm hiểu về mối quan hệ giữa hồi quy Logistic và hồi quy tuyến tính. Tiếp theo đó bạn sẽ được tìm hiểu về Overfitting (quá khớp), một vấn đề vô cùng quan trọng trong học máy có thể khiến cho chất lượng mô hình giảm sút và dự đoán thiếu chính xác. "
   ]
  },
  {
   "cell_type": "markdown",
   "metadata": {},
   "source": [
    "Hồi quy Logistic là một kỹ thuật thống kê để phân loại các mẫu quan sát của bộ dữ liệu dựa trên giá trị của các trường đầu vào. Hồi quy Logistic **tương tự như hồi quy tuyến tính, nhưng để dự đoán trường mục tiêu phân loại hoặc rời rạc thay vì trường số.** Trong hồi quy Logistic, biến phụ thuộc nên là dạng số (0 hoặc 1). Nếu là phân loại (dạng chữ), chúng phải là dummy coded (mã giải) hoặc indicator coded (mã hóa chỉ số). Điều này có nghĩa là chúng ta phải chuyển đổi chúng thành một giá trị liên tục. Hồi quy Logistic có thể được sử dụng cho cả phân loại nhị phân và phân loại đa lớp."
   ]
  },
  {
   "cell_type": "markdown",
   "metadata": {},
   "source": [
    "Khi nào chúng ta nên sử dụng hồi quy Logistic :\n",
    "\n",
    "- Trường mục tiêu trong dữ liệu là kiểu phân loại hoặc cụ thể là nhị phân.\n",
    "- Bạn cần xác suất cho dự đoán của bạn.\n",
    "- Nếu dữ liệu của bạn có thể phân tách tuyến tính.\n",
    "- Bạn cần hiểu tác động của các thuộc tính đối với biến mục tiêu."
   ]
  },
  {
   "cell_type": "markdown",
   "metadata": {},
   "source": [
    "![HQ](https://firebasestorage.googleapis.com/v0/b/funix-way.appspot.com/o/xSeries%2FData%20Science%20%2FDSP303x_1.2_VN%2FContent_Image%2FDSP303x_1.2_L05_H01.png?alt=media&token=6ff33401-5203-44cb-8ace-864bde1a21c4)"
   ]
  },
  {
   "cell_type": "markdown",
   "metadata": {},
   "source": [
    "Bạn có thể chọn các thuộc tính tốt nhất dựa trên ý nghĩa thống kê của các hệ số hoặc tham số mô hình hồi quy Logistic. Nghĩa là, sau khi tìm thấy các tham số tối ưu, một thuộc tính có tham số θ càng nhỏ thì mức độ ảnh hưởng so với mục tiêu càng nhỏ. Điều đó có nghĩa là thuộc tính X1 có tham số θ1 nhỏ hơn tham số θ2 của thuộc tính X2 thì ảnh hưởng của thuộc tính X2 lớn hơn so với X1."
   ]
  },
  {
   "cell_type": "markdown",
   "metadata": {},
   "source": [
    "Với hồi quy tuyến tính, chúng ta có thể khớp dữ liệu giữa biến độc lập và biến phụ thuộc thông qua một đường thẳng hoặc siêu mặt phẳng. Tương tự với bài toán phân loại nhị phân, chúng ta cũng có thể sử dụng một đường thẳng để khớp giữa 2 biến này và sử dụng một ngưỡng để phân loại 2 lớp. Giả sử lớn hơn 0.5 là YES và nhỏ hơn 0.5 là NO."
   ]
  },
  {
   "cell_type": "markdown",
   "metadata": {},
   "source": [
    "![M](https://firebasestorage.googleapis.com/v0/b/funix-way.appspot.com/o/xSeries%2FData%20Science%20%2FDSP303x_1.2_VN%2FContent_Image%2FDSP303x_1.2_L05_H02.png?alt=media&token=20410ed1-2072-432a-8c85-224f4885f65e)"
   ]
  },
  {
   "cell_type": "markdown",
   "metadata": {},
   "source": [
    "Tuy nhiên, nhược điểm của điều này là chúng không thể trả về một xác suất để giúp chúng ta hiểu đối tượng mà chúng ta muốn phân loại có bao nhiêu khả năng thuộc về một lớp. Điều này là cực kì quan trọng đối với nhiều tác vụ. Cụ thể đối với ngân hàng, họ cần phải xác định xem bao nhiêu phần trăm khách hàng của họ có thể trả nợ nếu cho vay mượn. Nếu xác suất này chỉ 60%, mặc dù có thể thu hồi được khoảng vay nhưng rủi ro vẫn có thể xảy ra. Do đó ngoài việc phân lớp mà quan trọng hơn vẫn là xác suất thuộc về một lớp của một đối tượng cần dự đoán. Để khắc phục được điều này, chúng ta có thể sử dụng một hàm được gọi là Sigmoid:"
   ]
  },
  {
   "cell_type": "markdown",
   "metadata": {},
   "source": [
    "![A](https://firebasestorage.googleapis.com/v0/b/funix-way.appspot.com/o/xSeries%2FData%20Science%20%2FDSP303x_1.2_VN%2FContent_Image%2FDSP303x_1.2_L05_H03.png?alt=media&token=6a43d72f-6353-42b1-9f3b-8689274c981b)"
   ]
  },
  {
   "cell_type": "markdown",
   "metadata": {},
   "source": [
    "Công thức:"
   ]
  },
  {
   "cell_type": "markdown",
   "metadata": {},
   "source": [
    "![S](https://firebasestorage.googleapis.com/v0/b/funix-way.appspot.com/o/xSeries%2FData%20Science%20%2FDSP303x_1.2_VN%2FContent_Image%2FDSP303x_1.2_L05_H04.png?alt=media&token=926a7888-80aa-4fab-a5a9-7ecdf79d8f9c)"
   ]
  },
  {
   "cell_type": "markdown",
   "metadata": {},
   "source": [
    "Hàm này có ưu điểm trả về một giá trị liên tục từ 0 đến 1. Rất phù hợp để giải thích kết quả là xác suất."
   ]
  },
  {
   "cell_type": "code",
   "execution_count": 4,
   "metadata": {},
   "outputs": [
    {
     "name": "stdout",
     "output_type": "stream",
     "text": [
      "(1, 20)\n"
     ]
    }
   ],
   "source": [
    "# To support both python 2 and python 3\n",
    "# các tính năng chỉ khả dụng bằng cách sử dụng __future__ vì chúng không phải là tiêu chuẩn hiện tại.\n",
    "from __future__ import division, print_function, unicode_literals\n",
    "import numpy as np \n",
    "import matplotlib.pyplot as plt\n",
    "np.random.seed(2)\n",
    "\n",
    "X = np.array([[0.50, 0.75, 1.00, 1.25, 1.50, 1.75, 1.75, 2.00, 2.25, 2.50, \n",
    "              2.75, 3.00, 3.25, 3.50, 4.00, 4.25, 4.50, 4.75, 5.00, 5.50]])\n",
    "y = np.array([0, 0, 0, 0, 0, 0, 1, 0, 1, 0, 1, 0, 1, 0, 1, 1, 1, 1, 1, 1])\n",
    "print(X.shape)\n",
    "# extended data \n",
    "X = np.concatenate((np.ones((1, X.shape[1])), X), axis = 0)"
   ]
  },
  {
   "cell_type": "code",
   "execution_count": 5,
   "metadata": {},
   "outputs": [
    {
     "name": "stdout",
     "output_type": "stream",
     "text": [
      "(2, 20) (20,)\n"
     ]
    }
   ],
   "source": [
    "print(X.shape, y.shape)"
   ]
  },
  {
   "cell_type": "code",
   "execution_count": 6,
   "metadata": {},
   "outputs": [
    {
     "data": {
      "text/plain": [
       "array([[1.  , 1.  , 1.  , 1.  , 1.  , 1.  , 1.  , 1.  , 1.  , 1.  , 1.  ,\n",
       "        1.  , 1.  , 1.  , 1.  , 1.  , 1.  , 1.  , 1.  , 1.  ],\n",
       "       [0.5 , 0.75, 1.  , 1.25, 1.5 , 1.75, 1.75, 2.  , 2.25, 2.5 , 2.75,\n",
       "        3.  , 3.25, 3.5 , 4.  , 4.25, 4.5 , 4.75, 5.  , 5.5 ]])"
      ]
     },
     "execution_count": 6,
     "metadata": {},
     "output_type": "execute_result"
    }
   ],
   "source": [
    "X"
   ]
  },
  {
   "cell_type": "code",
   "execution_count": 2,
   "metadata": {},
   "outputs": [
    {
     "name": "stdout",
     "output_type": "stream",
     "text": [
      "[[-4.092695  ]\n",
      " [ 1.55277242]]\n"
     ]
    }
   ],
   "source": [
    "def sigmoid(s):\n",
    "    return 1/(1 + np.exp(-s))\n",
    "\n",
    "def logistic_sigmoid_regression(X, y, w_init, eta, tol = 1e-4, max_count = 10000):\n",
    "    w = [w_init]    \n",
    "    it = 0\n",
    "    N = X.shape[1]\n",
    "    d = X.shape[0]\n",
    "    count = 0\n",
    "    check_w_after = 20\n",
    "    while count < max_count:\n",
    "        # mix data \n",
    "        mix_id = np.random.permutation(N)\n",
    "        for i in mix_id:\n",
    "            xi = X[:, i].reshape(d, 1)\n",
    "            yi = y[i]\n",
    "            zi = sigmoid(np.dot(w[-1].T, xi))\n",
    "            w_new = w[-1] + eta*(yi - zi)*xi\n",
    "            count += 1\n",
    "            # stopping criteria\n",
    "            if count%check_w_after == 0:                \n",
    "                if np.linalg.norm(w_new - w[-check_w_after]) < tol:\n",
    "                    return w\n",
    "            w.append(w_new)\n",
    "    return w\n",
    "eta = .05 \n",
    "d = X.shape[0]\n",
    "w_init = np.random.randn(d, 1)\n",
    "\n",
    "w = logistic_sigmoid_regression(X, y, w_init, eta)\n",
    "print(w[-1])"
   ]
  },
  {
   "cell_type": "code",
   "execution_count": 10,
   "metadata": {},
   "outputs": [
    {
     "name": "stdout",
     "output_type": "stream",
     "text": [
      "(20, 1) (20, 1)\n"
     ]
    },
    {
     "data": {
      "image/png": "[encoded data removed]",
      "text/plain": [
       "<Figure size 432x288 with 1 Axes>"
      ]
     },
     "metadata": {},
     "output_type": "display_data"
    },
    {
     "name": "stdout",
     "output_type": "stream",
     "text": [
      "[[-41.90206792  12.66196586]]\n",
      "(20, 1) (20, 1)\n"
     ]
    },
    {
     "data": {
      "image/png": "[encoded data removed]",
      "text/plain": [
       "<Figure size 432x288 with 1 Axes>"
      ]
     },
     "metadata": {},
     "output_type": "display_data"
    },
    {
     "name": "stdout",
     "output_type": "stream",
     "text": [
      "[[-52.79321911  27.33320281  -2.85491906]]\n",
      "(20, 1) (20, 1)\n"
     ]
    },
    {
     "data": {
      "image/png": "[encoded data removed]",
      "text/plain": [
       "<Figure size 432x288 with 1 Axes>"
      ]
     },
     "metadata": {},
     "output_type": "display_data"
    },
    {
     "name": "stdout",
     "output_type": "stream",
     "text": [
      "[[-70.86022078  78.7687132  -28.99387406   3.4286372 ]]\n",
      "(20, 1) (20, 1)\n"
     ]
    },
    {
     "data": {
      "image/png": "[encoded data removed]",
      "text/plain": [
       "<Figure size 432x288 with 1 Axes>"
      ]
     },
     "metadata": {},
     "output_type": "display_data"
    },
    {
     "name": "stdout",
     "output_type": "stream",
     "text": [
      "[[-70.11099235  74.66197229 -24.91080481   2.11241837   0.13285956]]\n",
      "(20, 1) (20, 1)\n"
     ]
    },
    {
     "data": {
      "image/png": "[encoded data removed]",
      "text/plain": [
       "<Figure size 432x288 with 1 Axes>"
      ]
     },
     "metadata": {},
     "output_type": "display_data"
    },
    {
     "name": "stdout",
     "output_type": "stream",
     "text": [
      "[[-8.31452004e+01  3.47714187e+02 -1.03309551e+03  1.48372383e+03\n",
      "  -1.08580923e+03  4.36091506e+02 -9.77083149e+01  1.14715264e+01\n",
      "  -5.50276444e-01]]\n",
      "(20, 1) (20, 1)\n"
     ]
    },
    {
     "data": {
      "image/png": "[encoded data removed]",
      "text/plain": [
       "<Figure size 432x288 with 1 Axes>"
      ]
     },
     "metadata": {},
     "output_type": "display_data"
    },
    {
     "name": "stdout",
     "output_type": "stream",
     "text": [
      "[[-1.13971257e+02  1.48508047e+03 -1.06959529e+04  3.60291758e+04\n",
      "  -6.18737068e+04  5.04162026e+04 -1.05534162e+03 -3.90923464e+04\n",
      "   4.21730838e+04 -2.45089845e+04  9.16647447e+03 -2.30845780e+03\n",
      "   3.91276328e+02 -4.30326740e+01  2.80078928e+00 -8.49956533e-02\n",
      "   3.07312582e-04]]\n"
     ]
    }
   ],
   "source": [
    "# To support both python 2 and python 3\n",
    "from __future__ import division, print_function, unicode_literals\n",
    "import numpy as np \n",
    "import matplotlib\n",
    "import matplotlib.pyplot as plt\n",
    "np.random.seed(4)\n",
    "from sklearn import datasets, linear_model\n",
    "\n",
    "N = 30\n",
    "N_test = 20 \n",
    "X = np.random.rand(N, 1)*5\n",
    "y = 3*(X -2) * (X - 3)*(X-4) +  10*np.random.randn(N, 1)\n",
    "\n",
    "X_test = (np.random.rand(N_test,1) - 1/8) *10\n",
    "y_test = 3*(X_test -2) * (X_test - 3)*(X_test-4) +  10*np.random.randn(N_test, 1)\n",
    "\n",
    "def buildX(X, d = 2):\n",
    "    res = np.ones((X.shape[0], 1))\n",
    "    for i in range(1, d+1):\n",
    "        res = np.concatenate((res, X**i), axis = 1)\n",
    "    return res \n",
    "\n",
    "def myfit(X, y, d):\n",
    "    Xbar = buildX(X, d)\n",
    "    regr = linear_model.LinearRegression(fit_intercept=False) # fit_intercept = False for calculating the bias\n",
    "    regr.fit(Xbar, y)\n",
    "\n",
    "    w = regr.coef_\n",
    "    # Display result\n",
    "    w_0 = w[0][0]\n",
    "    w_1 = w[0][1]\n",
    "    x0 = np.linspace(-2, 7, 200, endpoint=True)\n",
    "    y0 = np.zeros_like(x0)\n",
    "    ytrue = 5*(x0 - 2)*(x0-3)*(x0-4)\n",
    "    for i in range(d+1):\n",
    "        y0 += w[0][i]*x0**i\n",
    "\n",
    "    # Draw the fitting line \n",
    "    plt.scatter(X.T, y.T, c = 'r', s = 40, label = 'Training samples')     # data \n",
    "    print(X_test.shape, y_test.shape)\n",
    "    plt.scatter(X_test.T, y_test.T, c = 'y', s = 40, label = 'Test samples')     # data \n",
    "    \n",
    "    plt.plot(x0, y0, 'b', linewidth = 2, label = \"Trained model\")   # the fitting line\n",
    "    plt.plot(x0, ytrue, 'g', linewidth = 2, label = \"True model\")   # the fitting line\n",
    "    plt.xticks([], [])\n",
    "    plt.yticks([], [])\n",
    "    if d < 3:\n",
    "        str1 = 'Underfitting'\n",
    "    elif d > 4:\n",
    "        str1 = 'Overfitting'\n",
    "    else:\n",
    "        str1 = 'Good fit'\n",
    "    str0 = 'Degree = ' + str(d) + ': ' + str1\n",
    "    plt.title(str0)\n",
    "    plt.axis([-4, 10, np.amin(y_test) - 100, np.amax(y) + 100])\n",
    "    plt.legend(loc=\"best\")\n",
    "    \n",
    "    fn = 'linreg_' + str(d) + '.png'\n",
    "    \n",
    "    plt.xlabel('$x$', fontsize = 20);\n",
    "    plt.ylabel('$y$', fontsize = 20);\n",
    "    \n",
    "    plt.savefig(fn, bbox_inches='tight', dpi = 600)\n",
    "    \n",
    "    plt.show()\n",
    "    print(w)\n",
    "\n",
    "myfit(X, y, 1)\n",
    "myfit(X, y, 2)\n",
    "myfit(X, y, 3)\n",
    "myfit(X, y, 4)\n",
    "myfit(X, y, 8)\n",
    "myfit(X, y, 16)"
   ]
  },
  {
   "cell_type": "code",
   "execution_count": 11,
   "metadata": {},
   "outputs": [
    {
     "data": {
      "image/png": "[encoded data removed]",
      "text/plain": [
       "<Figure size 432x288 with 1 Axes>"
      ]
     },
     "metadata": {
      "needs_background": "light"
     },
     "output_type": "display_data"
    }
   ],
   "source": [
    "# To support both python 2 and python 3\n",
    "from __future__ import division, print_function, unicode_literals\n",
    "import math\n",
    "import numpy as np \n",
    "import matplotlib.pyplot as plt\n",
    "np.random.seed(4)\n",
    "\n",
    "means = [[-1, -1], [1, -1], [0, 1]]\n",
    "cov = [[1, 0], [0, 1]]\n",
    "N = 20\n",
    "X0 = np.random.multivariate_normal(means[0], cov, N)\n",
    "X1 = np.random.multivariate_normal(means[1], cov, N)\n",
    "X2 = np.random.multivariate_normal(means[2], cov, N)\n",
    "\n",
    "X = np.concatenate((X0, X1, X2), axis = 0)\n",
    "K = 3\n",
    "\n",
    "original_label = np.asarray([0]*N + [1]*N + [2]*N).T\n",
    "\n",
    "\n",
    "def kmeans_display(X, label):\n",
    "    K = np.amax(label) + 1\n",
    "    X0 = X[label == 0, :]\n",
    "    X1 = X[label == 1, :]\n",
    "    X2 = X[label == 2, :]\n",
    "    \n",
    "    plt.plot(X0[:, 0], X0[:, 1], 'b^', markersize = 6, alpha = .8)\n",
    "    plt.plot(X1[:, 0], X1[:, 1], 'go', markersize = 6, alpha = .8)\n",
    "    plt.plot(X2[:, 0], X2[:, 1], 'rs', markersize = 6, alpha = .8)\n",
    "\n",
    "#     plt.axis('equal')\n",
    "    plt.plot()\n",
    "#     plt.show()\n",
    "    \n",
    "kmeans_display(X, original_label)\n",
    "plt.show()\n",
    "y = original_label.T\n",
    "X = X.T"
   ]
  },
  {
   "cell_type": "code",
   "execution_count": 13,
   "metadata": {},
   "outputs": [
    {
     "name": "stdout",
     "output_type": "stream",
     "text": [
      "iter 0, loss: 1.098675\n",
      "iter 1000, loss: 0.345588\n",
      "iter 2000, loss: 0.324392\n",
      "iter 3000, loss: 0.442391\n",
      "iter 4000, loss: 0.306727\n",
      "iter 5000, loss: 0.316579\n",
      "iter 6000, loss: 0.300782\n",
      "iter 7000, loss: 0.348352\n",
      "iter 8000, loss: 0.291680\n",
      "iter 9000, loss: 0.294407\n",
      "training accuracy: 93.33 %\n",
      "(1, 89600)\n"
     ]
    },
    {
     "data": {
      "image/png": "[encoded data removed]",
      "text/plain": [
       "<Figure size 432x288 with 1 Axes>"
      ]
     },
     "metadata": {},
     "output_type": "display_data"
    }
   ],
   "source": [
    "def softmax(V):\n",
    "    e_V = np.exp(V - np.max(V, axis = 0, keepdims = True))\n",
    "    Z = e_V / e_V.sum(axis = 0)\n",
    "    return Z\n",
    "\n",
    "## One-hot coding\n",
    "from scipy import sparse \n",
    "def convert_labels(y, C = 3):\n",
    "    Y = sparse.coo_matrix((np.ones_like(y), \n",
    "        (y, np.arange(len(y)))), shape = (C, len(y))).toarray()\n",
    "    return Y \n",
    "\n",
    "# cost or loss function  \n",
    "lam = 0.001 # regularization parameter \n",
    "def cost(Y, Yhat, W1, W2, lam):    \n",
    "    return -np.sum(Y*np.log(Yhat))/Y.shape[1] + \\\n",
    "        lam*(np.linalg.norm(W1)**2 + np.linalg.norm(W2)**2)\n",
    "\n",
    "d0 = 2\n",
    "d1 = h = 100 # size of hidden layer \n",
    "d2 = C = 3\n",
    "\n",
    "def mynet(lam):\n",
    "    # initialize parameters randomely \n",
    "    W1 = 0.01*np.random.randn(d0, d1)\n",
    "    b1 = np.zeros((d1, 1))\n",
    "    W2 = 0.01*np.random.randn(d1, d2)\n",
    "    b2 = np.zeros((d2, 1))\n",
    "\n",
    "    # X = X.T # each column of X is a data point \n",
    "    Y = convert_labels(y, C)\n",
    "    N = X.shape[1]\n",
    "    eta = 1 # learning rate \n",
    "    for i in range(10000):\n",
    "        ## Feedforward \n",
    "        Z1 = np.dot(W1.T, X) + b1 \n",
    "        A1 = np.maximum(Z1, 0)\n",
    "        Z2 = np.dot(W2.T, A1) + b2\n",
    "        # import pdb; pdb.set_trace()  # breakpoint 035ab9b5 //\n",
    "        Yhat = softmax(Z2)\n",
    "\n",
    "        # compute the loss: average cross-entropy loss\n",
    "        \n",
    "\n",
    "        # print loss after each 1000 iterations\n",
    "        if i %1000 == 0: \n",
    "            loss = cost(Y, Yhat, W1, W2, lam)\n",
    "            print(\"iter %d, loss: %f\" %(i, loss))\n",
    "\n",
    "        # backpropagation\n",
    "        E2 = (Yhat - Y )/N\n",
    "        dW2 = np.dot(A1, E2.T) + lam*W2\n",
    "        db2 = np.sum(E2, axis = 1, keepdims = True)\n",
    "        E1 = np.dot(W2, E2)\n",
    "        E1[Z1 <= 0] = 0 # gradient of ReLU \n",
    "        dW1 = np.dot(X, E1.T) + lam*W1\n",
    "        db1 = np.sum(E1, axis = 1, keepdims = True)\n",
    "\n",
    "        # Gradient Descent update \n",
    "        # import pdb; pdb.set_trace()  # breakpoint 47741f63 //\n",
    "        W1 += -eta*dW1 \n",
    "        b1 += -eta*db1 \n",
    "        W2 += -eta*dW2\n",
    "        b2 += -eta*db2 \n",
    "#     return (W1, W2, b1, b2)\n",
    "\n",
    "\n",
    "\n",
    "\n",
    "    Z1 = np.dot(W1.T, X) + b1 \n",
    "    A1 = np.maximum(Z1, 0)\n",
    "    Z2 = np.dot(W2.T, A1) + b2\n",
    "    predicted_class = np.argmax(Z2, axis=0)\n",
    "    acc = (100*np.mean(predicted_class == y))\n",
    "    print('training accuracy: %.2f %%' % acc)\n",
    "\n",
    "\n",
    "    xm = np.arange(-3, 4, 0.025)\n",
    "    xlen = len(xm)\n",
    "    ym = np.arange(-4, 4, 0.025)\n",
    "    ylen = len(ym)\n",
    "    xx, yy = np.meshgrid(xm, ym)\n",
    "\n",
    "    print(np.ones((1, xx.size)).shape)\n",
    "    xx1 = xx.ravel().reshape(1, xx.size)\n",
    "    yy1 = yy.ravel().reshape(1, yy.size)\n",
    "\n",
    "    X0 = np.vstack((xx1, yy1))\n",
    "\n",
    "    Z1 = np.dot(W1.T, X0) + b1 \n",
    "    A1 = np.maximum(Z1, 0)\n",
    "    Z2 = np.dot(W2.T, A1) + b2\n",
    "    # predicted class \n",
    "    Z = np.argmax(Z2, axis=0)\n",
    "\n",
    "    Z = Z.reshape(xx.shape)\n",
    "    CS = plt.contourf(xx, yy, Z, 200, cmap='jet', alpha = .1)\n",
    "\n",
    "    kmeans_display(X.T, original_label.T)\n",
    "\n",
    "    cur_axes = plt.gca()\n",
    "    cur_axes.axes.get_xaxis().set_ticks([])\n",
    "    cur_axes.axes.get_yaxis().set_ticks([])\n",
    "    \n",
    "    plt.title('$\\lambda =$' + str(lam), fontsize = 20)\n",
    "    fn = 'nnet_reg'+ str(lam) + '.png'\n",
    "    plt.savefig(fn, bbox_inches='tight', dpi = 600)\n",
    "    \n",
    "    plt.show()\n",
    "\n",
    "\n",
    "# mynet(0)\n",
    "# mynet(0.1)\n",
    "# mynet(0.01)\n",
    "mynet(0.001)"
   ]
  },
  {
   "cell_type": "markdown",
   "metadata": {},
   "source": [
    "- Hồi quy Logistic là một kỹ thuật thống kê để phân loại.\n",
    "- Hồi quy Logistic tương tự như hồi quy tuyến tính, nhưng để dự đoán trường mục tiêu phân loại hoặc rời rạc thay vì trường số.\n",
    "- Trong hồi quy Logistic thuộc tính có tham số θ càng nhỏ thì mức độ ảnh hưởng so với mục tiêu càng nhỏ và ngược lại.\n",
    "- Để trả về xác suất, hồi quy Logistic cũng hàm Sigmoid để giới hạn đầu ra từ 0 đến 1.\n",
    "- Để huấn luyện mô hình hồi quy Logistic, chúng ta có thể sử dụng phương pháp tối ưu hóa Gradient Descent.\n",
    "- Underfitting, hay độ lệch cao, gây ra bởi một hàm giả thuyết ánh xạ kém theo xu hướng của dữ liệu.\n",
    "- Overfitting, hoặc phương sai cao, gây ra bởi một hàm giả thuyết khớp với dữ liệu có sẵn nhưng không khái quát tốt để dự đoán dữ liệu mới.\n",
    "- Để giải quyết Overfitting, chúng ta có thể sử dụng phương pháp giảm số lượng thuộc tính hoặc chính quy hóa."
   ]
  },
  {
   "cell_type": "markdown",
   "metadata": {},
   "source": [
    "# Cây quyết định"
   ]
  },
  {
   "cell_type": "markdown",
   "metadata": {},
   "source": [
    "Cây quyết định là một công cụ hỗ trợ quyết định, sử dụng mô hình dạng cây để trả về kết quả phân loại bao gồm cả khả năng xảy ra kết quả. Cây quyết định là thuật toán chỉ chứa các câu lệnh điều khiển có điều kiện.\n",
    "\n",
    "Cây quyết định thường được sử dụng trong nghiên cứu hoạt động, cụ thể là trong phân tích quyết định, để giúp xác định chiến lược có khả năng đạt được mục tiêu nhất.\n",
    "\n",
    "Thuật toán Cây quyết định trong học máy được xây dựng bằng cách chia tập huấn luyện vào các node (lá/nút) riêng biệt thông qua điều kiện, các điều kiện dựa vào các thuộc tính của tập huấn luyện để phân chia, khi phân chia một node sẽ chứa tất cả hoặc hầu hết cùng một lớp. Sau khi xây dựng Cây quyết định, mô hình có thể được sử dụng để dự đoán một trường hợp mới dựa trên đặc điểm của trường hợp đó."
   ]
  },
  {
   "cell_type": "markdown",
   "metadata": {},
   "source": [
    "![A](https://firebasestorage.googleapis.com/v0/b/funix-way.appspot.com/o/xSeries%2FData%20Science%20%2FDSP303x_1.2_VN%2FContent_Image%2FDSP303x_1.2_L06_H01.png?alt=media&token=5a28e638-c73c-478f-ae97-9527d6d7179c)"
   ]
  },
  {
   "cell_type": "markdown",
   "metadata": {},
   "source": [
    "Để phân chia dữ liệu, Cây quyết định sẽ chọn thuộc tính để phân chia. Do đó việc lựa chọn thuộc tính để phân chia dữ liệu là rất quan trọng. Phải chọn thuộc tính sao cho độ tinh khiết của node sau khi chia là thuần khiết nhất. Một node trong cây được coi là thuần khiết nếu trong 100% các trường hợp, các nút rơi vào một lớp, điều này có nghĩa là bất cứ trường hợp mới nào rơi vào lá này cũng chắc chắn 100% thuộc về lớp này.\n",
    "\n",
    "Trong thực tế, phương thức sử dụng phân vùng đệ quy để phân chia thành các phân đoạn bằng cách giảm thiểu tạp chất ở mỗi bước. Tạp chất của các node được tính bằng entropy của dữ liệu trong node. "
   ]
  },
  {
   "cell_type": "markdown",
   "metadata": {},
   "source": [
    "![A](https://firebasestorage.googleapis.com/v0/b/funix-way.appspot.com/o/xSeries%2FData%20Science%20%2FDSP303x_1.2_VN%2FContent_Image%2FDSP303x_1.2_L06_H02.png?alt=media&token=0f1583d8-47af-46b3-9d41-67fabc5a10bc)"
   ]
  },
  {
   "cell_type": "markdown",
   "metadata": {},
   "source": [
    "Trong đó:\n",
    "\n",
    "- p(A) là tỉ lệ phần trăm trường hợp của lớp A trong node.\n",
    "- p(B) là tỉ lệ phần trăm trường hợp của lớp B trong node."
   ]
  },
  {
   "cell_type": "markdown",
   "metadata": {},
   "source": [
    "Entropy là lượng rối loạn thông tin hoặc lượng ngẫu nhiên trong dữ liệu. Trong các Cây quyết định, chúng ta tìm kiếm những cây có Entropy nhỏ nhất trong các node của chúng. Nếu các trường hợp trong node là hoàn toàn đồng nhất, Entropy bằng 0 và nếu các mẫu được chia đều thì nó có Entropy là 1."
   ]
  },
  {
   "cell_type": "markdown",
   "metadata": {},
   "source": [
    "![B](https://firebasestorage.googleapis.com/v0/b/funix-way.appspot.com/o/xSeries%2FData%20Science%20%2FDSP303x_1.2_VN%2FContent_Image%2FDSP303x_1.2_L06_H03.png?alt=media&token=ce51b2fb-2674-429b-9d69-eff173e41522)"
   ]
  },
  {
   "cell_type": "markdown",
   "metadata": {},
   "source": [
    "Thông tin đạt được (Information gain) là thông tin có thể làm tăng mức độ chắc chắn sau khi chia tách dữ liệu. Đó là Entropy của một cây trước khi phân tách trừ đi entropy có trọng số sau khi chia bởi một thuộc tính."
   ]
  },
  {
   "cell_type": "markdown",
   "metadata": {},
   "source": [
    "Information gain = (Entropy trước khi chia) - (Trọng số Entropy sau khi chia)"
   ]
  },
  {
   "cell_type": "markdown",
   "metadata": {},
   "source": [
    "Chúng ta có thể nghĩ về việc đạt được thông tin và Entropy là đối nghịch. Khi Entropy giảm, mức tăng thông tin hoặc mức độ chắc chắn sẽ tăng và ngược lại. Vì vậy, khi xây dựng một Cây quyết định, quan trọng nhất là việc tìm kiếm các thuộc tính trả lại mức tăng thông tin cao nhất. Chúng ta nên lặp lại quy trình cho từng nhánh và kiểm tra từng thuộc tính khác để tiếp tục đạt được những chiếc lá tinh khiết nhất. Đây là cách bạn xây dựng một Cây quyết định."
   ]
  },
  {
   "cell_type": "code",
   "execution_count": 5,
   "metadata": {},
   "outputs": [],
   "source": [
    "# Xây dựng class TreeNode\n",
    "\n",
    "from __future__ import print_function \n",
    "import numpy as np \n",
    "import pandas as pd \n",
    "\n",
    "\n",
    "class TreeNode(object):\n",
    "    def __init__(self, ids = None, children = [], entropy = 0, depth = 0):\n",
    "        self.ids = ids           # index of data in this node\n",
    "        self.entropy = entropy   # entropy, will fill later\n",
    "        self.depth = depth       # distance to root node\n",
    "        self.split_attribute = None # which attribute is chosen, it non-leaf\n",
    "        self.children = children # list of its child nodes\n",
    "        self.order = None       # order of values of split_attribute in children\n",
    "        self.label = None       # label of node if it is a leaf\n",
    "\n",
    "    def set_properties(self, split_attribute, order):\n",
    "        self.split_attribute = split_attribute\n",
    "        self.order = order\n",
    "\n",
    "    def set_label(self, label):\n",
    "        self.label = label"
   ]
  },
  {
   "cell_type": "markdown",
   "metadata": {},
   "source": [
    "Hàm tính entropy dựa trên tần suất\n",
    "\n",
    "Trong hàm này, chúng ta phải chú ý bỏ các tần suất bằng 0 đi vì logarit tại đây không xác định."
   ]
  },
  {
   "cell_type": "code",
   "execution_count": 6,
   "metadata": {},
   "outputs": [],
   "source": [
    "def entropy(freq):\n",
    "    # remove prob 0 \n",
    "    freq_0 = freq[np.array(freq).nonzero()[0]]\n",
    "    prob_0 = freq_0/float(freq_0.sum())\n",
    "    return -np.sum(prob_0*np.log(prob_0))"
   ]
  },
  {
   "cell_type": "markdown",
   "metadata": {},
   "source": [
    "Dữ liệu trong trong ví dụ được được lưu trong file weather.csv. Việc huấn luyện decision tree dựa trên ID3 cho tập dữ liệu này và đầu ra dự đoán cho training set được cho bởi"
   ]
  },
  {
   "cell_type": "code",
   "execution_count": 3,
   "metadata": {},
   "outputs": [
    {
     "name": "stdout",
     "output_type": "stream",
     "text": [
      "['no', 'no', 'yes', 'yes', 'yes', 'no', 'yes', 'no', 'yes', 'yes', 'yes', 'yes', 'yes', 'no']\n"
     ]
    }
   ],
   "source": [
    "class DecisionTreeID3(object):\n",
    "    def __init__(self, max_depth= 10, min_samples_split = 2, min_gain = 1e-4):\n",
    "        self.root = None\n",
    "        self.max_depth = max_depth \n",
    "        self.min_samples_split = min_samples_split \n",
    "        self.Ntrain = 0\n",
    "        self.min_gain = min_gain\n",
    "    \n",
    "    def fit(self, data, target):\n",
    "        self.Ntrain = data.count()[0]\n",
    "        self.data = data \n",
    "        self.attributes = list(data)\n",
    "        self.target = target \n",
    "        self.labels = target.unique()\n",
    "        \n",
    "        ids = range(self.Ntrain)\n",
    "        self.root = TreeNode(ids = ids, entropy = self._entropy(ids), depth = 0)\n",
    "        queue = [self.root]\n",
    "        while queue:\n",
    "            node = queue.pop()\n",
    "            if node.depth < self.max_depth or node.entropy < self.min_gain:\n",
    "                node.children = self._split(node)\n",
    "                if not node.children: #leaf node\n",
    "                    self._set_label(node)\n",
    "                queue += node.children\n",
    "            else:\n",
    "                self._set_label(node)\n",
    "                \n",
    "    def _entropy(self, ids):\n",
    "        # calculate entropy of a node with index ids\n",
    "        if len(ids) == 0: return 0\n",
    "        ids = [i+1 for i in ids] # panda series index starts from 1\n",
    "        freq = np.array(self.target[ids].value_counts())\n",
    "        return entropy(freq)\n",
    "\n",
    "    def _set_label(self, node):\n",
    "        # find label for a node if it is a leaf\n",
    "        # simply chose by major voting \n",
    "        target_ids = [i + 1 for i in node.ids]  # target is a series variable\n",
    "        node.set_label(self.target[target_ids].mode()[0]) # most frequent label\n",
    "    \n",
    "    def _split(self, node):\n",
    "        ids = node.ids \n",
    "        best_gain = 0\n",
    "        best_splits = []\n",
    "        best_attribute = None\n",
    "        order = None\n",
    "        sub_data = self.data.iloc[ids, :]\n",
    "        for i, att in enumerate(self.attributes):\n",
    "            values = self.data.iloc[ids, i].unique().tolist()\n",
    "            if len(values) == 1: continue # entropy = 0\n",
    "            splits = []\n",
    "            for val in values: \n",
    "                sub_ids = sub_data.index[sub_data[att] == val].tolist()\n",
    "                splits.append([sub_id-1 for sub_id in sub_ids])\n",
    "            # don't split if a node has too small number of points\n",
    "            if min(map(len, splits)) < self.min_samples_split: continue\n",
    "            # information gain\n",
    "            HxS= 0\n",
    "            for split in splits:\n",
    "                HxS += len(split)*self._entropy(split)/len(ids)\n",
    "            gain = node.entropy - HxS \n",
    "            if gain < self.min_gain: continue # stop if small gain \n",
    "            if gain > best_gain:\n",
    "                best_gain = gain \n",
    "                best_splits = splits\n",
    "                best_attribute = att\n",
    "                order = values\n",
    "        node.set_properties(best_attribute, order)\n",
    "        child_nodes = [TreeNode(ids = split,\n",
    "                     entropy = self._entropy(split), depth = node.depth + 1) for split in best_splits]\n",
    "        return child_nodes\n",
    "\n",
    "    def predict(self, new_data):\n",
    "        \"\"\"\n",
    "        :param new_data: a new dataframe, each row is a datapoint\n",
    "        :return: predicted labels for each row\n",
    "        \"\"\"\n",
    "        npoints = new_data.count()[0]\n",
    "        labels = [None]*npoints\n",
    "        for n in range(npoints):\n",
    "            x = new_data.iloc[n, :] # one point \n",
    "            # start from root and recursively travel if not meet a leaf \n",
    "            node = self.root\n",
    "            while node.children: \n",
    "                node = node.children[node.order.index(x[node.split_attribute])]\n",
    "            labels[n] = node.label\n",
    "            \n",
    "        return labels\n",
    "\n",
    "if __name__ == \"__main__\":\n",
    "    df = pd.read_csv(r'C:\\Users\\Quan Thi Thanh Hoa\\AppData\\Funix\\asm2.ipynb\\DSP303\\machine learning\\weather.csv', index_col = 0, parse_dates = True)\n",
    "    X = df.iloc[:, :-1]\n",
    "    y = df.iloc[:, -1]\n",
    "    tree = DecisionTreeID3(max_depth = 3, min_samples_split = 2)\n",
    "    tree.fit(X, y)\n",
    "    print(tree.predict(X))"
   ]
  },
  {
   "cell_type": "markdown",
   "metadata": {},
   "source": [
    "Bài học về Cây quyết định giúp chúng ta nắm được các nội dung như:\n",
    "\n",
    "- Cây quyết định là một công cụ hỗ trợ quyết định.\n",
    "- Cây quyết định sử dụng mô hình dạng cây để trả về kết quả phân loại bao gồm cả khả năng xảy ra kết quả.\n",
    "- Cây quyết định được xây dựng bằng cách chia tập huấn luyện vào các node riêng biệt thông qua điều kiện.\n",
    "- Việc lựa chọn thuộc tính để phân chia dữ liệu Cây quyết định cho là rất quan trọng.\n",
    "- Độ thuần khiến của mỗi node trong Cây quyết định được tính bằng công thức Entropy.\n",
    "- Entropy càng nhỏ thì độ thuần khiết càng tốt.\n",
    "- Thông tin đạt được (Information gain) là thông tin có thể làm tăng mức độ chắc chắn sau khi chia tách dữ liệu.\n",
    "- Information gain được tính bằng Entropy trước khi chia trừ Entropy sau khi chia nhân trọng số.\n",
    "- Cây quyết định tốt nhất là cây có Entropy nhỏ nhất ở từng node và lớn nhất ở Information gain."
   ]
  },
  {
   "cell_type": "markdown",
   "metadata": {},
   "source": [
    "# Bài 7 - Suport Vector Machine và Ensemble Learning "
   ]
  },
  {
   "cell_type": "markdown",
   "metadata": {},
   "source": [
    "Trong bài học này, bạn sẽ tìm hiểu về phân loại với một thuật toán vô cùng mạnh mẽ: Support Vector Machine. Sau đó bạn sẽ tìm hiểu về kỹ thuật kết hợp các mô hình học máy để khiến chất lượng dự đoán trở nên mạnh mẽ và chính xác hơn. Cuối cùng bạn sẽ được thực hành với Support Vector Machine thông qua bài Lab."
   ]
  },
  {
   "cell_type": "markdown",
   "metadata": {},
   "source": [
    "Support Vector Machine là một thuật toán có giám sát. Hoạt động bằng cách ánh xạ dữ liệu vào không gian đặc trưng có chiều lớn để có thể phân loại các điểm dữ liệu, ngay cả khi dữ liệu không được phân tách tuyến tính. Sau đó, một phân tách được ước tính cho dữ liệu."
   ]
  },
  {
   "cell_type": "markdown",
   "metadata": {},
   "source": [
    "![A](https://firebasestorage.googleapis.com/v0/b/funix-way.appspot.com/o/xSeries%2FData%20Science%20%2FDSP303x_1.2_VN%2FContent_Image%2FDSP303x_1.2_L07_H01.png?alt=media&token=35421b05-777d-43d7-81dd-fcf8235906ac)"
   ]
  },
  {
   "cell_type": "markdown",
   "metadata": {},
   "source": [
    "Ánh xạ dữ liệu vào một không gian có chiều cao hơn được gọi là kernelling. Hàm toán học được sử dụng cho phép biến đổi được gọi là hàm kernel và có thể có các loại khác nhau như tuyến tính, đa thức, RBF và sigmoid.\n",
    "\n",
    "SVM dựa trên ý tưởng tìm siêu phẳng chia một tập dữ liệu một cách tốt nhất thành hai lớp. Một lựa chọn hợp lý cho siêu phẳng tốt nhất là lựa chọn thể hiện sự phân tách hoặc bản lề giữa hai lớp lớn nhất."
   ]
  },
  {
   "cell_type": "markdown",
   "metadata": {},
   "source": [
    "![B](https://firebasestorage.googleapis.com/v0/b/funix-way.appspot.com/o/xSeries%2FData%20Science%20%2FDSP303x_1.2_VN%2FContent_Image%2FDSP303x_1.2_L07_H02.png?alt=media&token=3079e13f-abeb-4bd9-9f99-2164a41a3ba2)"
   ]
  },
  {
   "cell_type": "markdown",
   "metadata": {},
   "source": [
    "Các biên độ này phụ thuộc vào vectơ hỗ trợ có ý nghĩa để đạt được mục tiêu. Do đó mục tiêu cuối cùng của SVM là cố gắng tìm siêu phẳng theo cách mà nó có khoảng cách tối đa tới các vector hỗ trợ."
   ]
  },
  {
   "cell_type": "markdown",
   "metadata": {},
   "source": [
    "SVM cũng có thể được huấn luyện bằng phương pháp tối ưu hóa Gradient Descent để tìm ra tham số w và b để thiết lập được siêu mặt phẳng phân tách dữ liệu. "
   ]
  },
  {
   "cell_type": "markdown",
   "metadata": {},
   "source": [
    "Hai ưu điểm chính của SVM:\n",
    "\n",
    "- Chính xác trong không gian chiều cao.\n",
    "- Chỉ sử dụng tập hợp con của các điểm huấn luyện trong hàm quyết định được gọi là, các support vector, vì vậy nó cũng hiệu quả cho bộ nhớ."
   ]
  },
  {
   "cell_type": "markdown",
   "metadata": {},
   "source": [
    "Nhược điểm của SVM:\n",
    "\n",
    "- Thuật toán dễ bị over-fitting nếu số lượng thuộc tính lớn hơn nhiều so với số lượng mẫu.\n",
    "- Không trực tiếp cung cấp ước tính xác suất, đó là mong muốn trong hầu hết các bài toán phân loại .\n",
    "- Không quá hiệu quả trong tính toán nếu tập dữ liệu của bạn rất lớn, chẳng hạn như khi bạn có hơn 1.000 hàng."
   ]
  },
  {
   "cell_type": "markdown",
   "metadata": {},
   "source": [
    "## Tình huống nào nên sử dụng SVM?"
   ]
  },
  {
   "cell_type": "markdown",
   "metadata": {},
   "source": [
    "- Nhiệm vụ phân tích hình ảnh, chẳng hạn phân loại hình ảnh và nhận dạng chữ số tay. \n",
    "- Hiệu quả trong nhiệm vụ khai thác văn bản, đặc biệt do tính hiệu quả của nó trong việc xử lý dữ liệu chiều cao. \n",
    "- ví dụ: được sử dụng trong phát hiện thư rác, phân loại văn bản và phân tích tình cảm. \n",
    "- Một ứng dụng khác của SVM là phân loại dữ liệu biểu đồ gen, một lần nữa, vì sức mạnh của nó trong phân loại dữ liệu chiều cao.    \n",
    "- SVM cũng có thể được sử dụng cho các loại bài toán học máy khác, chẳng hạn như hồi quy, phát hiện ngoại lệ và phân cụm. "
   ]
  },
  {
   "cell_type": "code",
   "execution_count": 1,
   "metadata": {},
   "outputs": [],
   "source": [
    "from __future__ import print_function\n",
    "import numpy as np \n",
    "import matplotlib.pyplot as plt\n",
    "from scipy.spatial.distance import cdist\n",
    "np.random.seed(22)\n",
    "\n",
    "means = [[2, 2], [4, 2]]\n",
    "cov = [[.3, .2], [.2, .3]]\n",
    "N = 10\n",
    "X0 = np.random.multivariate_normal(means[0], cov, N) # class 1\n",
    "X1 = np.random.multivariate_normal(means[1], cov, N) # class -1 \n",
    "X = np.concatenate((X0.T, X1.T), axis = 1) # all data \n",
    "y = np.concatenate((np.ones((1, N)), -1*np.ones((1, N))), axis = 1) # labels"
   ]
  },
  {
   "cell_type": "code",
   "execution_count": 4,
   "metadata": {},
   "outputs": [
    {
     "name": "stdout",
     "output_type": "stream",
     "text": [
      "means: [[2, 2], [4, 2]]\n",
      "cov: [[0.3, 0.2], [0.2, 0.3]]\n"
     ]
    }
   ],
   "source": [
    "print(\"means:\", means)\n",
    "print(\"cov:\", cov)"
   ]
  },
  {
   "cell_type": "code",
   "execution_count": 3,
   "metadata": {},
   "outputs": [
    {
     "name": "stdout",
     "output_type": "stream",
     "text": [
      "X0: [[2.37319011 1.71875981]\n",
      " [1.51261889 1.40558943]\n",
      " [2.4696794  2.02144973]\n",
      " [1.78736889 1.29380961]\n",
      " [1.81231157 1.56119497]\n",
      " [2.03717355 1.93397133]\n",
      " [1.53790057 1.87434722]\n",
      " [2.29312867 2.76537389]\n",
      " [1.38805594 1.86419379]\n",
      " [1.57279694 0.90707347]]\n",
      "X1: [[3.42746579 0.71254431]\n",
      " [4.24760864 2.39846497]\n",
      " [3.33595491 1.61731637]\n",
      " [3.69420104 1.94273986]\n",
      " [4.53897645 2.54957308]\n",
      " [3.3071994  0.19362396]\n",
      " [4.13924705 2.09561534]\n",
      " [4.47383468 2.41269466]\n",
      " [4.00512009 1.89290099]\n",
      " [4.28205624 1.79675607]]\n",
      "X: [[2.37319011 1.51261889 2.4696794  1.78736889 1.81231157 2.03717355\n",
      "  1.53790057 2.29312867 1.38805594 1.57279694 3.42746579 4.24760864\n",
      "  3.33595491 3.69420104 4.53897645 3.3071994  4.13924705 4.47383468\n",
      "  4.00512009 4.28205624]\n",
      " [1.71875981 1.40558943 2.02144973 1.29380961 1.56119497 1.93397133\n",
      "  1.87434722 2.76537389 1.86419379 0.90707347 0.71254431 2.39846497\n",
      "  1.61731637 1.94273986 2.54957308 0.19362396 2.09561534 2.41269466\n",
      "  1.89290099 1.79675607]]\n",
      "y: [[ 1.  1.  1.  1.  1.  1.  1.  1.  1.  1. -1. -1. -1. -1. -1. -1. -1. -1.\n",
      "  -1. -1.]]\n"
     ]
    }
   ],
   "source": [
    "print(\"X0:\", X0)\n",
    "print(\"X1:\", X1)\n",
    "print(\"X:\", X)\n",
    "print(\"y:\", y)"
   ]
  },
  {
   "cell_type": "code",
   "execution_count": 2,
   "metadata": {},
   "outputs": [
    {
     "name": "stdout",
     "output_type": "stream",
     "text": [
      "lambda = \n",
      "[[8.54018321e-01 2.89132533e-10 1.37095535e+00 6.36030818e-10\n",
      "  4.04317408e-10 8.82390106e-10 6.35001881e-10 5.49567576e-10\n",
      "  8.33359230e-10 1.20982928e-10 6.86678649e-10 1.25039745e-10\n",
      "  2.22497367e+00 4.05417905e-09 1.26763684e-10 1.99008949e-10\n",
      "  2.13742578e-10 1.51537487e-10 3.75329509e-10 3.56161975e-10]]\n"
     ]
    }
   ],
   "source": [
    "from cvxopt import matrix, solvers\n",
    "# build K\n",
    "V = np.concatenate((X0.T, -X1.T), axis = 1)\n",
    "K = matrix(V.T.dot(V)) # see definition of V, K near eq (8)\n",
    "\n",
    "p = matrix(-np.ones((2*N, 1))) # all-one vector \n",
    "# build A, b, G, h \n",
    "G = matrix(-np.eye(2*N)) # for all lambda_n >= 0\n",
    "h = matrix(np.zeros((2*N, 1)))\n",
    "A = matrix(y) # the equality constrain is actually y^T lambda = 0\n",
    "b = matrix(np.zeros((1, 1))) \n",
    "solvers.options['show_progress'] = False\n",
    "sol = solvers.qp(K, p, G, h, A, b)\n",
    "\n",
    "l = np.array(sol['x'])\n",
    "print('lambda = ')\n",
    "print(l.T)"
   ]
  },
  {
   "cell_type": "code",
   "execution_count": 9,
   "metadata": {},
   "outputs": [
    {
     "name": "stdout",
     "output_type": "stream",
     "text": [
      "h: [ 0.00e+00]\n",
      "[ 0.00e+00]\n",
      "[ 0.00e+00]\n",
      "[ 0.00e+00]\n",
      "[ 0.00e+00]\n",
      "[ 0.00e+00]\n",
      "[ 0.00e+00]\n",
      "[ 0.00e+00]\n",
      "[ 0.00e+00]\n",
      "[ 0.00e+00]\n",
      "[ 0.00e+00]\n",
      "[ 0.00e+00]\n",
      "[ 0.00e+00]\n",
      "[ 0.00e+00]\n",
      "[ 0.00e+00]\n",
      "[ 0.00e+00]\n",
      "[ 0.00e+00]\n",
      "[ 0.00e+00]\n",
      "[ 0.00e+00]\n",
      "[ 0.00e+00]\n",
      "\n"
     ]
    }
   ],
   "source": [
    "print(\"h:\", h)"
   ]
  },
  {
   "cell_type": "code",
   "execution_count": 10,
   "metadata": {},
   "outputs": [
    {
     "name": "stdout",
     "output_type": "stream",
     "text": [
      "V: [[ 2.37319011  1.51261889  2.4696794   1.78736889  1.81231157  2.03717355\n",
      "   1.53790057  2.29312867  1.38805594  1.57279694 -3.42746579 -4.24760864\n",
      "  -3.33595491 -3.69420104 -4.53897645 -3.3071994  -4.13924705 -4.47383468\n",
      "  -4.00512009 -4.28205624]\n",
      " [ 1.71875981  1.40558943  2.02144973  1.29380961  1.56119497  1.93397133\n",
      "   1.87434722  2.76537389  1.86419379  0.90707347 -0.71254431 -2.39846497\n",
      "  -1.61731637 -1.94273986 -2.54957308 -0.19362396 -2.09561534 -2.41269466\n",
      "  -1.89290099 -1.79675607]]\n",
      "K: [ 8.59e+00  6.01e+00  9.34e+00  6.47e+00  6.98e+00  8.16e+00  6.87e+00 ... ]\n",
      "[ 6.01e+00  4.26e+00  6.58e+00  4.52e+00  4.94e+00  5.80e+00  4.96e+00 ... ]\n",
      "[ 9.34e+00  6.58e+00  1.02e+01  7.03e+00  7.63e+00  8.94e+00  7.59e+00 ... ]\n",
      "[ 6.47e+00  4.52e+00  7.03e+00  4.87e+00  5.26e+00  6.14e+00  5.17e+00 ... ]\n",
      "[ 6.98e+00  4.94e+00  7.63e+00  5.26e+00  5.72e+00  6.71e+00  5.71e+00 ... ]\n",
      "[ 8.16e+00  5.80e+00  8.94e+00  6.14e+00  6.71e+00  7.89e+00  6.76e+00 ... ]\n",
      "[ 6.87e+00  4.96e+00  7.59e+00  5.17e+00  5.71e+00  6.76e+00  5.88e+00 ... ]\n",
      "[ 1.02e+01  7.36e+00  1.13e+01  7.68e+00  8.47e+00  1.00e+01  8.71e+00 ... ]\n",
      "[ 6.50e+00  4.72e+00  7.20e+00  4.89e+00  5.43e+00  6.43e+00  5.63e+00 ... ]\n",
      "[ 5.29e+00  3.65e+00  5.72e+00  3.98e+00  4.27e+00  4.96e+00  4.12e+00 ... ]\n",
      "[-9.36e+00 -6.19e+00 -9.91e+00 -7.05e+00 -7.32e+00 -8.36e+00 -6.61e+00 ... ]\n",
      "[-1.42e+01 -9.80e+00 -1.53e+01 -1.07e+01 -1.14e+01 -1.33e+01 -1.10e+01 ... ]\n",
      "[-1.07e+01 -7.32e+00 -1.15e+01 -8.06e+00 -8.57e+00 -9.92e+00 -8.16e+00 ... ]\n",
      "[-1.21e+01 -8.32e+00 -1.31e+01 -9.12e+00 -9.73e+00 -1.13e+01 -9.32e+00 ... ]\n",
      "[-1.52e+01 -1.04e+01 -1.64e+01 -1.14e+01 -1.22e+01 -1.42e+01 -1.18e+01 ... ]\n",
      "[-8.18e+00 -5.27e+00 -8.56e+00 -6.16e+00 -6.30e+00 -7.11e+00 -5.45e+00 ... ]\n",
      "[-1.34e+01 -9.21e+00 -1.45e+01 -1.01e+01 -1.08e+01 -1.25e+01 -1.03e+01 ... ]\n",
      "[-1.48e+01 -1.02e+01 -1.59e+01 -1.11e+01 -1.19e+01 -1.38e+01 -1.14e+01 ... ]\n",
      "[-1.28e+01 -8.72e+00 -1.37e+01 -9.61e+00 -1.02e+01 -1.18e+01 -9.71e+00 ... ]\n",
      "[-1.33e+01 -9.00e+00 -1.42e+01 -9.98e+00 -1.06e+01 -1.22e+01 -9.95e+00 ... ]\n",
      "\n"
     ]
    }
   ],
   "source": [
    "print(\"V:\", V)\n",
    "print(\"K:\", K)"
   ]
  },
  {
   "cell_type": "code",
   "execution_count": 11,
   "metadata": {},
   "outputs": [
    {
     "name": "stdout",
     "output_type": "stream",
     "text": [
      "p: [-1.00e+00]\n",
      "[-1.00e+00]\n",
      "[-1.00e+00]\n",
      "[-1.00e+00]\n",
      "[-1.00e+00]\n",
      "[-1.00e+00]\n",
      "[-1.00e+00]\n",
      "[-1.00e+00]\n",
      "[-1.00e+00]\n",
      "[-1.00e+00]\n",
      "[-1.00e+00]\n",
      "[-1.00e+00]\n",
      "[-1.00e+00]\n",
      "[-1.00e+00]\n",
      "[-1.00e+00]\n",
      "[-1.00e+00]\n",
      "[-1.00e+00]\n",
      "[-1.00e+00]\n",
      "[-1.00e+00]\n",
      "[-1.00e+00]\n",
      "\n",
      "G: [-1.00e+00 -0.00e+00 -0.00e+00 -0.00e+00 -0.00e+00 -0.00e+00 -0.00e+00 ... ]\n",
      "[-0.00e+00 -1.00e+00 -0.00e+00 -0.00e+00 -0.00e+00 -0.00e+00 -0.00e+00 ... ]\n",
      "[-0.00e+00 -0.00e+00 -1.00e+00 -0.00e+00 -0.00e+00 -0.00e+00 -0.00e+00 ... ]\n",
      "[-0.00e+00 -0.00e+00 -0.00e+00 -1.00e+00 -0.00e+00 -0.00e+00 -0.00e+00 ... ]\n",
      "[-0.00e+00 -0.00e+00 -0.00e+00 -0.00e+00 -1.00e+00 -0.00e+00 -0.00e+00 ... ]\n",
      "[-0.00e+00 -0.00e+00 -0.00e+00 -0.00e+00 -0.00e+00 -1.00e+00 -0.00e+00 ... ]\n",
      "[-0.00e+00 -0.00e+00 -0.00e+00 -0.00e+00 -0.00e+00 -0.00e+00 -1.00e+00 ... ]\n",
      "[-0.00e+00 -0.00e+00 -0.00e+00 -0.00e+00 -0.00e+00 -0.00e+00 -0.00e+00 ... ]\n",
      "[-0.00e+00 -0.00e+00 -0.00e+00 -0.00e+00 -0.00e+00 -0.00e+00 -0.00e+00 ... ]\n",
      "[-0.00e+00 -0.00e+00 -0.00e+00 -0.00e+00 -0.00e+00 -0.00e+00 -0.00e+00 ... ]\n",
      "[-0.00e+00 -0.00e+00 -0.00e+00 -0.00e+00 -0.00e+00 -0.00e+00 -0.00e+00 ... ]\n",
      "[-0.00e+00 -0.00e+00 -0.00e+00 -0.00e+00 -0.00e+00 -0.00e+00 -0.00e+00 ... ]\n",
      "[-0.00e+00 -0.00e+00 -0.00e+00 -0.00e+00 -0.00e+00 -0.00e+00 -0.00e+00 ... ]\n",
      "[-0.00e+00 -0.00e+00 -0.00e+00 -0.00e+00 -0.00e+00 -0.00e+00 -0.00e+00 ... ]\n",
      "[-0.00e+00 -0.00e+00 -0.00e+00 -0.00e+00 -0.00e+00 -0.00e+00 -0.00e+00 ... ]\n",
      "[-0.00e+00 -0.00e+00 -0.00e+00 -0.00e+00 -0.00e+00 -0.00e+00 -0.00e+00 ... ]\n",
      "[-0.00e+00 -0.00e+00 -0.00e+00 -0.00e+00 -0.00e+00 -0.00e+00 -0.00e+00 ... ]\n",
      "[-0.00e+00 -0.00e+00 -0.00e+00 -0.00e+00 -0.00e+00 -0.00e+00 -0.00e+00 ... ]\n",
      "[-0.00e+00 -0.00e+00 -0.00e+00 -0.00e+00 -0.00e+00 -0.00e+00 -0.00e+00 ... ]\n",
      "[-0.00e+00 -0.00e+00 -0.00e+00 -0.00e+00 -0.00e+00 -0.00e+00 -0.00e+00 ... ]\n",
      "\n"
     ]
    }
   ],
   "source": [
    "print(\"p:\", p)\n",
    "print(\"G:\", G)"
   ]
  },
  {
   "cell_type": "markdown",
   "metadata": {},
   "source": [
    "Đây chính là các giá trị bằng 0 nhưng vì sai số tính toán nên nó khác 0 một chút. Chỉ có 3 giá trị khác 0, ta dự đoán là sẽ có 3 điểm là support vectors."
   ]
  },
  {
   "cell_type": "markdown",
   "metadata": {},
   "source": [
    "1. Phân loại là học có giám sát\n",
    "\n",
    "- Chia loại hoặc phân loại một số mục chưa biết thành một tập hợp các lớp riêng biệt.\n",
    "- Tìm hiểu mối quan hệ giữa một tập hợp các biến đặc tính và biến mục tiêu quan tâm.\n",
    "\n",
    "2. Các thuật toán khác nhau trong Phân loại\n",
    "\n",
    "- k-Nearest Neighbors\n",
    "- Hồi quy Logistic\n",
    "- Cây quyết định\n",
    "- Support Vector Machine\n",
    "\n",
    "3. Evaluation Metrics trong Phân loại\n",
    "\n",
    "- Jaccard index\n",
    "- F1-score: Precision, Recall\n",
    "- Log Loss: Xác suất của một nhãn lớp\n",
    "\n",
    "4. Vấn đề của Overfitting\n",
    "\n",
    "- Định nghĩa Overfitting/Underfitting\n",
    "- Cách giảm overfitting: giảm số lượng đặc tính, chính quy hóa\n",
    "\n",
    "5. Các phương pháp kết hợp\n",
    "\n",
    "- Bagging (đóng gói)\n",
    "- Boosting (tăng cường)\n",
    "- Stacking (xếp chồng)"
   ]
  },
  {
   "cell_type": "markdown",
   "metadata": {},
   "source": []
  }
 ],
 "metadata": {
  "kernelspec": {
   "display_name": "Python 3.10.6 64-bit",
   "language": "python",
   "name": "python3"
  },
  "language_info": {
   "codemirror_mode": {
    "name": "ipython",
    "version": 3
   },
   "file_extension": ".py",
   "mimetype": "text/x-python",
   "name": "python",
   "nbconvert_exporter": "python",
   "pygments_lexer": "ipython3",
   "version": "3.10.6"
  },
  "orig_nbformat": 4,
  "vscode": {
   "interpreter": {
    "hash": "9ad7f758c7f2ebdda2cc4f553f1363ed8fbfe288e0aece9aaf2ec73dff90b611"
   }
  }
 },
 "nbformat": 4,
 "nbformat_minor": 2
}
