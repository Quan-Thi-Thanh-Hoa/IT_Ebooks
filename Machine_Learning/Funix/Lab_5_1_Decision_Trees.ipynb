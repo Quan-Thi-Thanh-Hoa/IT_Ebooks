{
  "nbformat": 4,
  "nbformat_minor": 0,
  "metadata": {
    "anaconda-cloud": {},
    "kernelspec": {
      "display_name": "Python 3",
      "language": "python",
      "name": "python3"
    },
    "language_info": {
      "codemirror_mode": {
        "name": "ipython",
        "version": 3
      },
      "file_extension": ".py",
      "mimetype": "text/x-python",
      "name": "python",
      "nbconvert_exporter": "python",
      "pygments_lexer": "ipython3",
      "version": "3.7.6"
    },
    "colab": {
      "provenance": []
    }
  },
  "cells": [
    {
      "cell_type": "markdown",
      "metadata": {
        "button": false,
        "new_sheet": false,
        "run_control": {
          "read_only": false
        },
        "id": "cQYaPasJ0vaO"
      },
      "source": [
        "# Cây quyết định (Decision Trees )\n",
        "\n",
        "Thời lượng ước tính: **45** phút\n",
        "\n",
        "## Mục tiêu\n",
        "\n",
        "Sau khi hoàn thành lab này, bạn sẽ có thể:\n",
        "\n",
        "-   Xây dựng mô hình phân loại sử dụng Thuật toán cây quyết định\n"
      ]
    },
    {
      "cell_type": "markdown",
      "metadata": {
        "button": false,
        "new_sheet": false,
        "run_control": {
          "read_only": false
        },
        "id": "QM1Q9ZR60vae"
      },
      "source": [
        "Trong bài lab này, bạn sẽ học một thuật toán học máy phổ biến là Cây quyết định. Bạn sẽ sử dụng thuật toán phân loại này để xây dựng mô hình từ dữ liệu lịch sử của bệnh nhân và phản ứng của họ với các loại thuốc khác nhau. Sau đó, bạn sử dụng cây quyết định đã huấn luyện để dự đoán lớp bệnh nhân chưa biết hoặc để tìm loại thuốc thích hợp cho bệnh nhân mới.\n"
      ]
    },
    {
      "cell_type": "markdown",
      "metadata": {
        "id": "ChBRgAYt0vag"
      },
      "source": [
        "<h1>Mục lục</h1>\n",
        "\n",
        "<div class=\"alert alert-block alert-info\" style=\"margin-top: 20px\">\n",
        "    <ol>\n",
        "        <li><a href=\"#about_dataset\">Về tập dữ liệu</a></li>\n",
        "        <li><a href=\"#pre-processing\">Tiền xử lý</a></li>\n",
        "        <li><a href=\"#setting_up_tree\">Thiết lập cây quyết định</a></li>\n",
        "        <li><a href=\"#modeling\">Mô hình hóa</a></li>\n",
        "        <li><a href=\"#prediction\">Dự đoán</a></li>\n",
        "        <li><a href=\"#evaluation\">Đánh giá</a></li>\n",
        "        <li><a href=\"#visualization\">Trực quan hóa</a></li>\n",
        "    </ol>\n",
        "</div>\n",
        "<br>\n",
        "<hr>\n"
      ]
    },
    {
      "cell_type": "markdown",
      "metadata": {
        "button": false,
        "new_sheet": false,
        "run_control": {
          "read_only": false
        },
        "id": "pEB9pHK20vah"
      },
      "source": [
        "Import các thư viện sau:\n",
        "\n",
        "<ul>\n",
        "    <li> <b>numpy (as np)</b> </li>\n",
        "    <li> <b>pandas</b> </li>\n",
        "    <li> <b>DecisionTreeClassifier</b> từ <b>sklearn.tree</b> </li>\n",
        "</ul>\n"
      ]
    },
    {
      "cell_type": "code",
      "metadata": {
        "button": false,
        "new_sheet": false,
        "run_control": {
          "read_only": false
        },
        "id": "1z5emdka0vai"
      },
      "source": [
        "import numpy as np \n",
        "import pandas as pd\n",
        "from sklearn.tree import DecisionTreeClassifier"
      ],
      "execution_count": null,
      "outputs": []
    },
    {
      "cell_type": "markdown",
      "metadata": {
        "button": false,
        "new_sheet": false,
        "run_control": {
          "read_only": false
        },
        "id": "1QxDQDGY0vaj"
      },
      "source": [
        "<div id=\"about_dataset\">\n",
        "    <h2>Về tập dữ liệu</h2>\n",
        "    Hãy tưởng tượng rằng bạn là một nhà nghiên cứu y tế đang biên soạn dữ liệu cho một nghiên cứu. Bạn đã thu thập dữ liệu về một nhóm bệnh nhân, tất cả đều mắc bệnh giống nhau. Trong quá trình điều trị, mỗi bệnh nhân phản ứng với một trong 5 loại thuốc: Drug A, Drug B, Drug c, Drug x và Drug y.\n",
        "    <br>\n",
        "    <br>\n",
        "    Một phần công việc của bạn là xây dựng một mô hình để tìm ra loại thuốc nào thích hợp cho một bệnh nhân mắc bệnh tương tự trong tương lai. Các tập thuộc tính của tập dữ liệu này là Age (Tuổi), Sex (Giới tính), (Pressure) Huyết áp và Cholesterol (Cholesterol) của bệnh nhân và mục tiêu là loại thuốc mà mỗi bệnh nhân sử dụng.\n",
        "    <br>\n",
        "    <br>\n",
        "    Đây là một mẫu của bộ phân loại đa lớp và bạn có thể sử dụng phần huấn luyện của tập dữ liệu để xây dựng cây quyết định, và sau đó sử dụng nó để dự đoán lớp của một bệnh nhân chưa biết hoặc để kê đơn cho một bệnh nhân mới.\n",
        "</div>\n"
      ]
    },
    {
      "cell_type": "markdown",
      "metadata": {
        "id": "JDQgxXYF0vam"
      },
      "source": [
        "Bây giờ, hãy đọc dữ liệu bằng khung dữ liệu pandas:\n"
      ]
    },
    {
      "cell_type": "code",
      "metadata": {
        "button": false,
        "new_sheet": false,
        "run_control": {
          "read_only": false
        },
        "id": "bDA9cctY0van"
      },
      "source": [
        "my_data = pd.read_csv(\"drug200.csv\", delimiter=\",\")\n",
        "my_data[0:5]"
      ],
      "execution_count": null,
      "outputs": []
    },
    {
      "cell_type": "markdown",
      "metadata": {
        "button": false,
        "new_sheet": false,
        "run_control": {
          "read_only": false
        },
        "id": "VgNzZf_K0van"
      },
      "source": [
        "<div id=\"practice\"> \n",
        "    <h3>Thực hành</h3> \n",
        "    Kích thước của dữ liệu là gì?\n",
        "</div>\n"
      ]
    },
    {
      "cell_type": "code",
      "metadata": {
        "button": false,
        "new_sheet": false,
        "run_control": {
          "read_only": false
        },
        "id": "LSQDmukQ0vao"
      },
      "source": [
        "# Nhập code của bạn ở đấy\n",
        "\n",
        "\n"
      ],
      "execution_count": null,
      "outputs": []
    },
    {
      "cell_type": "markdown",
      "metadata": {
        "id": "YZA_CLqn0vao"
      },
      "source": [
        "<details><summary>Click vào đây để xem lời giải</summary>\n",
        "\n",
        "```python\n",
        "my_data.shape\n",
        "\n",
        "```\n",
        "\n",
        "</details>\n"
      ]
    },
    {
      "cell_type": "markdown",
      "metadata": {
        "id": "DZ2dIbiK0vap"
      },
      "source": [
        "<div href=\"pre-processing\">\n",
        "    <h2>Tiền xử lý</h2>\n",
        "</div>\n"
      ]
    },
    {
      "cell_type": "markdown",
      "metadata": {
        "button": false,
        "new_sheet": false,
        "run_control": {
          "read_only": false
        },
        "id": "M-6Nceih0vap"
      },
      "source": [
        "Sử dụng <b>my_data</b> là dữ liệu csv đọc bởi pandas Drug.csv, khai báo các biến sau: <br>\n",
        "\n",
        "<ul>\n",
        "    <li> <b> X </b> là <b> ma trận Feature </b> (dữ liệu của my_data) </li>\n",
        "    <li> <b> y </b> là <b> vectơ response (đích) </b> </li>\n",
        "</ul>\n"
      ]
    },
    {
      "cell_type": "markdown",
      "metadata": {
        "button": false,
        "new_sheet": false,
        "run_control": {
          "read_only": false
        },
        "id": "gf7ivAex0vaq"
      },
      "source": [
        "Loại bỏ cột chứa tên đích vì nó không chứa các giá trị số.\n"
      ]
    },
    {
      "cell_type": "code",
      "metadata": {
        "id": "_kZNDT_V0vaq"
      },
      "source": [
        "X = my_data[['Age', 'Sex', 'BP', 'Cholesterol', 'Na_to_K']].values\n",
        "X[0:5]\n"
      ],
      "execution_count": null,
      "outputs": []
    },
    {
      "cell_type": "markdown",
      "metadata": {
        "id": "gA9OuFbE0var"
      },
      "source": [
        "Như bạn nhận thấy, một số thuộc tính(feature) trong tập dữ liệu này có tính phân loại, chẳng hạn như **Sex** hoặc **BP**. Thật không may, Cây quyết định Sklearn không xử lý các biến phân loại. Nhưng chúng ta vẫn có thể chuyển đổi các thuộc tính này thành các giá trị số. **pandas.get_dummies()**\n",
        "Chuyển đổi biến phân loại thành biến giả/chỉ số.\n"
      ]
    },
    {
      "cell_type": "code",
      "metadata": {
        "id": "lOtGRMkQ0var"
      },
      "source": [
        "from sklearn import preprocessing\n",
        "le_sex = preprocessing.LabelEncoder()\n",
        "le_sex.fit(['F','M'])\n",
        "X[:,1] = le_sex.transform(X[:,1]) \n",
        "\n",
        "\n",
        "le_BP = preprocessing.LabelEncoder()\n",
        "le_BP.fit([ 'LOW', 'NORMAL', 'HIGH'])\n",
        "X[:,2] = le_BP.transform(X[:,2])\n",
        "\n",
        "\n",
        "le_Chol = preprocessing.LabelEncoder()\n",
        "le_Chol.fit([ 'NORMAL', 'HIGH'])\n",
        "X[:,3] = le_Chol.transform(X[:,3]) \n",
        "\n",
        "X[0:5]\n"
      ],
      "execution_count": null,
      "outputs": []
    },
    {
      "cell_type": "markdown",
      "metadata": {
        "id": "a_IbDhHT0vas"
      },
      "source": [
        "Bây giờ chúng ta có thể điền biến đích.\n"
      ]
    },
    {
      "cell_type": "code",
      "metadata": {
        "button": false,
        "new_sheet": false,
        "run_control": {
          "read_only": false
        },
        "id": "RfdxD7QX0vat"
      },
      "source": [
        "y = my_data[\"Drug\"]\n",
        "y[0:5]"
      ],
      "execution_count": null,
      "outputs": []
    },
    {
      "cell_type": "markdown",
      "metadata": {
        "button": false,
        "new_sheet": false,
        "run_control": {
          "read_only": false
        },
        "id": "1zQG8qAG0vau"
      },
      "source": [
        "<hr>\n",
        "\n",
        "<div id=\"setting_up_tree\">\n",
        "    <h2>Thiết lập Cây quyết định</h2>\n",
        "    Ta sẽ sử dụng <b>train/test split</b> trên <b>cây quyết định</b>. Hãy nhập <b>train_test_split</b> từ <b>sklearn.cross_validation</b>.\n",
        "</div>\n"
      ]
    },
    {
      "cell_type": "code",
      "metadata": {
        "button": false,
        "new_sheet": false,
        "run_control": {
          "read_only": false
        },
        "id": "wn-6yRSv0vau"
      },
      "source": [
        "from sklearn.model_selection import train_test_split"
      ],
      "execution_count": null,
      "outputs": []
    },
    {
      "cell_type": "markdown",
      "metadata": {
        "button": false,
        "new_sheet": false,
        "run_control": {
          "read_only": false
        },
        "id": "_yL-L50q0vav"
      },
      "source": [
        "Bây giờ <b> train_test_split </b> sẽ trả về 4 tham số khác nhau. Chúng ta sẽ đặt tên cho chúng là: <br>\n",
        "X_trainset, X_testset, y_trainset, y_testset <br> <br>\n",
        "<b> train_test_split </b> sẽ cần các tham số: <br>\n",
        "X, y, test_size=0.3 và random_state=3. <br> <br>\n",
        "<b>X</b> và <b>y</b> là các mảng bắt buộc phải có trước khi tách, <b>test_size</b> đại diện cho tỷ lệ của tập dữ liệu thử nghiệm và <b>random_state</b> đảm bảo rằng chúng ta có được các phần chia tương tự.\n"
      ]
    },
    {
      "cell_type": "code",
      "metadata": {
        "button": false,
        "new_sheet": false,
        "run_control": {
          "read_only": false
        },
        "id": "F22nCUNb0vav"
      },
      "source": [
        "X_trainset, X_testset, y_trainset, y_testset = train_test_split(X, y, test_size=0.3, random_state=3)"
      ],
      "execution_count": null,
      "outputs": []
    },
    {
      "cell_type": "markdown",
      "metadata": {
        "button": false,
        "new_sheet": false,
        "run_control": {
          "read_only": false
        },
        "id": "UlQHhycX0vaw"
      },
      "source": [
        "<h3>Thực hành</h3>\n",
        "In shape của X_trainset và y_trainset. Đảm bảo rằng các chiều phù hợp\n"
      ]
    },
    {
      "cell_type": "code",
      "metadata": {
        "button": false,
        "new_sheet": false,
        "run_control": {
          "read_only": false
        },
        "id": "vNbJ7IH60vax"
      },
      "source": [
        "# Nhập code của bạn ở đấy\n",
        "\n"
      ],
      "execution_count": null,
      "outputs": []
    },
    {
      "cell_type": "markdown",
      "metadata": {
        "id": "Lg_StlJP0vax"
      },
      "source": [
        "<details><summary>Click vào đây để xem lời giải</summary>\n",
        "\n",
        "```python\n",
        "print('Shape of X training set {}'.format(X_trainset.shape),'&',' Size of Y training set {}'.format(y_trainset.shape))\n",
        "\n",
        "```\n",
        "\n",
        "</details>\n"
      ]
    },
    {
      "cell_type": "markdown",
      "metadata": {
        "button": false,
        "new_sheet": false,
        "run_control": {
          "read_only": false
        },
        "id": "otTi8Ynh0vax"
      },
      "source": [
        "In shape của X_testset và y_testset. Đảm bảo rằng các chiều phù hợp\n"
      ]
    },
    {
      "cell_type": "code",
      "metadata": {
        "button": false,
        "new_sheet": false,
        "run_control": {
          "read_only": false
        },
        "id": "xAM9tImt0vay"
      },
      "source": [
        "# Nhập code của bạn ở đấy\n",
        "\n"
      ],
      "execution_count": null,
      "outputs": []
    },
    {
      "cell_type": "markdown",
      "metadata": {
        "id": "3QudCF660vay"
      },
      "source": [
        "<details><summary>Click vào đây để xem lời giải</summary>\n",
        "\n",
        "```python\n",
        "print('Shape of X training set {}'.format(X_testset.shape),'&',' Size of Y training set {}'.format(y_testset.shape))\n",
        "\n",
        "```\n",
        "\n",
        "</details>\n"
      ]
    },
    {
      "cell_type": "markdown",
      "metadata": {
        "button": false,
        "new_sheet": false,
        "run_control": {
          "read_only": false
        },
        "id": "KQYzpmR40vaz"
      },
      "source": [
        "<hr>\n",
        "\n",
        "<div id=\"modeling\">\n",
        "    <h2>Mô hình hóa</h2>\n",
        "   Đầu tiên, chúng ta sẽ tạo một thực thể của <b>DecisionTreeClassifier (Bộ phân loại cây quyết định)</b> là <b> drugTree </b>. <br>\n",
        "     Bên trong bộ phân loại, chỉ định <i> criterion=\"entropy\" </i> để chúng ta có thể thấy mức tăng thông tin của mỗi nút.\n",
        "</div>\n"
      ]
    },
    {
      "cell_type": "code",
      "metadata": {
        "button": false,
        "new_sheet": false,
        "run_control": {
          "read_only": false
        },
        "id": "ZgFXLHqs0vaz"
      },
      "source": [
        "drugTree = DecisionTreeClassifier(criterion=\"entropy\", max_depth = 4)\n",
        "drugTree # hiện tham số mặc định"
      ],
      "execution_count": null,
      "outputs": []
    },
    {
      "cell_type": "markdown",
      "metadata": {
        "button": false,
        "new_sheet": false,
        "run_control": {
          "read_only": false
        },
        "id": "KRK7M3Rh0va0"
      },
      "source": [
        "Tiếp theo, chúng ta sẽ khớp dữ liệu với ma trận thuộc tính huấn luyện <b> X_trainset </b>  và vectơ phản hồi huấn luyện <b> y_trainset </b>\n"
      ]
    },
    {
      "cell_type": "code",
      "metadata": {
        "button": false,
        "new_sheet": false,
        "run_control": {
          "read_only": false
        },
        "id": "zO9YKlEv0va0"
      },
      "source": [
        "drugTree.fit(X_trainset,y_trainset)"
      ],
      "execution_count": null,
      "outputs": []
    },
    {
      "cell_type": "markdown",
      "metadata": {
        "button": false,
        "new_sheet": false,
        "run_control": {
          "read_only": false
        },
        "id": "mxgsjVIN0va0"
      },
      "source": [
        "<hr>\n",
        "\n",
        "<div id=\"prediction\">\n",
        "    <h2>Dự đoán</h2>\n",
        "    Hãy đưa ra một số <b>dự đoán</b> về tập dữ liệu testing và lưu trữ nó vào biến <b>predTree</b>.\n",
        "</div>\n"
      ]
    },
    {
      "cell_type": "code",
      "metadata": {
        "button": false,
        "new_sheet": false,
        "run_control": {
          "read_only": false
        },
        "id": "R0dexqDr0va1"
      },
      "source": [
        "predTree = drugTree.predict(X_testset)"
      ],
      "execution_count": null,
      "outputs": []
    },
    {
      "cell_type": "markdown",
      "metadata": {
        "button": false,
        "new_sheet": false,
        "run_control": {
          "read_only": false
        },
        "id": "RqKnRM1Z0va1"
      },
      "source": [
        "Có thể in ra <b>predTree</b> và <b>y_testset</b> nếu bạn muốn so sánh trực quan dự đoán với các giá trị thực tế.\n"
      ]
    },
    {
      "cell_type": "code",
      "metadata": {
        "button": false,
        "new_sheet": false,
        "run_control": {
          "read_only": false
        },
        "scrolled": true,
        "id": "_IDQKFz_0va1"
      },
      "source": [
        "print (predTree [0:5])\n",
        "print (y_testset [0:5])\n"
      ],
      "execution_count": null,
      "outputs": []
    },
    {
      "cell_type": "markdown",
      "metadata": {
        "button": false,
        "new_sheet": false,
        "run_control": {
          "read_only": false
        },
        "id": "el_sypu50va2"
      },
      "source": [
        "<hr>\n",
        "\n",
        "<div id=\"evaluation\">\n",
        "    <h2>Đánh giá</h2>\n",
        "    Tiếp theo, hãy import <b>metrics</b> từ sklearn và kiểm tra độ chính xác của mô hình.\n",
        "</div>\n"
      ]
    },
    {
      "cell_type": "code",
      "metadata": {
        "button": false,
        "new_sheet": false,
        "run_control": {
          "read_only": false
        },
        "id": "LxvF_W7a0va2"
      },
      "source": [
        "from sklearn import metrics\n",
        "import matplotlib.pyplot as plt\n",
        "print(\"DecisionTrees's Accuracy: \", metrics.accuracy_score(y_testset, predTree))"
      ],
      "execution_count": null,
      "outputs": []
    },
    {
      "cell_type": "markdown",
      "metadata": {
        "button": false,
        "new_sheet": false,
        "run_control": {
          "read_only": false
        },
        "id": "IbM_EEgm0va3"
      },
      "source": [
        "**Hệ số phân loại độ chính xác** tính toán độ chính xác của tập hợp con: tập các nhãn được dự đoán cho một mẫu phải khớp chính xác với tập các nhãn tương ứng trong y_true.\n",
        "\n",
        "Trong phân loại đa nhãn, hàm sẽ trả về độ chính xác của tập hợp con. Nếu toàn bộ tập các nhãn được dự đoán cho một mẫu hoàn toàn khớp với tập các nhãn thực, thì độ chính xác của tập hợp con là 1.0; nếu không thì là 0.0.\n"
      ]
    },
    {
      "cell_type": "markdown",
      "metadata": {
        "id": "LDFaKFg20va3"
      },
      "source": [
        "<hr>\n",
        "\n",
        "<div id=\"visualization\">\n",
        "    <h2>Trực quan hóa</h2>\n",
        "    \n",
        "    \n",
        "Hãy trực quan hóa cây\n",
        "</div>\n"
      ]
    },
    {
      "cell_type": "code",
      "metadata": {
        "id": "tXP8UFtq0va3"
      },
      "source": [
        "# Lưu ý: Bạn có thể cần bỏ ghi chú và cài đặt các thư viện pydotplus và graphviz nếu bạn chưa cài đặt các thư viện này trước đây\n",
        "# !conda install -c conda-forge pydotplus -y\n",
        "# !conda install -c conda-forge python-graphviz -y"
      ],
      "execution_count": null,
      "outputs": []
    },
    {
      "cell_type": "code",
      "metadata": {
        "button": false,
        "new_sheet": false,
        "run_control": {
          "read_only": false
        },
        "id": "VGgw80SS0va4"
      },
      "source": [
        "from  io import StringIO\n",
        "import pydotplus\n",
        "import matplotlib.image as mpimg\n",
        "from sklearn import tree\n",
        "%matplotlib inline "
      ],
      "execution_count": null,
      "outputs": []
    },
    {
      "cell_type": "code",
      "metadata": {
        "button": false,
        "new_sheet": false,
        "run_control": {
          "read_only": false
        },
        "id": "LTPv8H570va4"
      },
      "source": [
        "dot_data = StringIO()\n",
        "filename = \"drugtree.png\"\n",
        "featureNames = my_data.columns[0:5]\n",
        "out=tree.export_graphviz(drugTree,feature_names=featureNames, out_file=dot_data, class_names= np.unique(y_trainset), filled=True,  special_characters=True,rotate=False)  \n",
        "graph = pydotplus.graph_from_dot_data(dot_data.getvalue())  \n",
        "graph.write_png(filename)\n",
        "img = mpimg.imread(filename)\n",
        "plt.figure(figsize=(100, 200))\n",
        "plt.imshow(img,interpolation='nearest')"
      ],
      "execution_count": null,
      "outputs": []
    },
    {
      "cell_type": "markdown",
      "source": [
        "### Cảm ơn bạn đã hoàn thành lab này!\n",
        "\n",
        "Nguồn bài Lab: **IBM**"
      ],
      "metadata": {
        "id": "RvBt99ZYae0i"
      }
    }
  ]
}