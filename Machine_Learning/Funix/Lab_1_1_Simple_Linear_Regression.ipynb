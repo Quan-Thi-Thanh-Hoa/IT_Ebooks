{
  "cells": [
    {
      "cell_type": "markdown",
      "metadata": {
        "button": false,
        "id": "a7q0CmXmNVAX",
        "new_sheet": false,
        "run_control": {
          "read_only": false
        }
      },
      "source": [
        "# Hồi Quy Tuyến Tính Đơn Giản\n",
        "\n",
        "Thời lượng ước tính: **45** phút\n",
        "\n",
        "## Mục tiêu\n",
        "\n",
        "Sau khi hoàn thành bài lab này bạn sẽ có thể:\n",
        "\n",
        "-   Sử dụng scikit-learn để triển khai Hồi Quy Tuyến Tính Đơn Giản\n",
        "-   Tạo một mô hình, huấn luyện, kiểm tra và sử dụng mô hình\n"
      ]
    },
    {
      "cell_type": "markdown",
      "metadata": {
        "button": false,
        "id": "2OO80p-WNVAi",
        "new_sheet": false,
        "run_control": {
          "read_only": false
        }
      },
      "source": [
        "### Import các gói cần thiết\n"
      ]
    },
    {
      "cell_type": "code",
      "execution_count": 1,
      "metadata": {
        "button": false,
        "id": "u8UFlPnSNVAj",
        "new_sheet": false,
        "run_control": {
          "read_only": false
        }
      },
      "outputs": [],
      "source": [
        "import matplotlib.pyplot as plt\n",
        "import pandas as pd\n",
        "import pylab as pl\n",
        "import numpy as np\n",
        "%matplotlib inline"
      ]
    },
    {
      "cell_type": "markdown",
      "metadata": {
        "button": false,
        "id": "51Vt5h2xNVAl",
        "new_sheet": false,
        "run_control": {
          "read_only": false
        }
      },
      "source": [
        "## Hiểu dữ liệu\n",
        "\n",
        "### `FuelConsumption.csv`:\n",
        "\n",
        "Chúng tôi đã download tập dữ liệu tiêu thụ nhiên liệu **`FuelConsumption.csv`**, chứa xếp hạng mức tiêu thụ nhiên liệu cụ thể cho từng mẫu xe và lượng khí thải CO2 ước tính cho các loại xe hạng nhẹ bán lẻ mới ở Canada. [Nguồn tập dữ liệu](http://open.canada.ca/data/en/dataset/98f1a129-f628-4ce4-b24d-6f16bf24dd64?cm_mmc=Email_Newsletter-_-Developer_Ed%2BTech-_-WW_WW-_-SkillsNetwork-Courses-IBMDeveloperSkillsNetwork-ML0101EN-SkillsNetwork-20718538&cm_mmca1=000026UJ&cm_mmca2=10006555&cm_mmca3=M12345678&cvosrc=email.Newsletter.M12345678&cvo_campaign=000026UJ&cm_mmc=Email_Newsletter-_-Developer_Ed%2BTech-_-WW_WW-_-SkillsNetwork-Courses-IBMDeveloperSkillsNetwork-ML0101EN-SkillsNetwork-20718538&cm_mmca1=000026UJ&cm_mmca2=10006555&cm_mmca3=M12345678&cvosrc=email.Newsletter.M12345678&cvo_campaign=000026UJ&cm_mmc=Email_Newsletter-_-Developer_Ed%2BTech-_-WW_WW-_-SkillsNetwork-Courses-IBMDeveloperSkillsNetwork-ML0101EN-SkillsNetwork-20718538&cm_mmca1=000026UJ&cm_mmca2=10006555&cm_mmca3=M12345678&cvosrc=email.Newsletter.M12345678&cvo_campaign=000026UJ&cm_mmc=Email_Newsletter-_-Developer_Ed%2BTech-_-WW_WW-_-SkillsNetwork-Courses-IBMDeveloperSkillsNetwork-ML0101EN-SkillsNetwork-20718538&cm_mmca1=000026UJ&cm_mmca2=10006555&cm_mmca3=M12345678&cvosrc=email.Newsletter.M12345678&cvo_campaign=000026UJ)\n",
        "\n",
        "-   **MODELYEAR** ví dụ: 2014\n",
        "-   **MAKE** ví dụ: Acura\n",
        "-   **MODEL** ví dụ: ILX\n",
        "-   **VEHICLE CLASS** ví dụ: SUV\n",
        "-   **ENGINE SIZE** ví dụ: 4.7\n",
        "-   **CYLINDERS** ví dụ: 6\n",
        "-   **TRANSMISSION** ví dụ: A6\n",
        "-   **FUEL CONSUMPTION in CITY(L/100 km)** ví dụ: 9.9\n",
        "-   **FUEL CONSUMPTION in HWY (L/100 km)** ví dụ: 8.9\n",
        "-   **FUEL CONSUMPTION COMB (L/100 km)** ví dụ: 9.2\n",
        "-   **CO2 EMISSIONS (g/km)** ví dụ: 182   --> low --> 0\n"
      ]
    },
    {
      "cell_type": "markdown",
      "metadata": {
        "button": false,
        "id": "MdBLdnk9NVAm",
        "new_sheet": false,
        "run_control": {
          "read_only": false
        }
      },
      "source": [
        "## Đọc dữ liệu vào\n"
      ]
    },
    {
      "cell_type": "code",
      "execution_count": 2,
      "metadata": {
        "button": false,
        "id": "YxPh0V8gNVAm",
        "new_sheet": false,
        "run_control": {
          "read_only": false
        }
      },
      "outputs": [
        {
          "data": {
            "text/html": [
              "<div>\n",
              "<style scoped>\n",
              "    .dataframe tbody tr th:only-of-type {\n",
              "        vertical-align: middle;\n",
              "    }\n",
              "\n",
              "    .dataframe tbody tr th {\n",
              "        vertical-align: top;\n",
              "    }\n",
              "\n",
              "    .dataframe thead th {\n",
              "        text-align: right;\n",
              "    }\n",
              "</style>\n",
              "<table border=\"1\" class=\"dataframe\">\n",
              "  <thead>\n",
              "    <tr style=\"text-align: right;\">\n",
              "      <th></th>\n",
              "      <th>MODELYEAR</th>\n",
              "      <th>MAKE</th>\n",
              "      <th>MODEL</th>\n",
              "      <th>VEHICLECLASS</th>\n",
              "      <th>ENGINESIZE</th>\n",
              "      <th>CYLINDERS</th>\n",
              "      <th>TRANSMISSION</th>\n",
              "      <th>FUELTYPE</th>\n",
              "      <th>FUELCONSUMPTION_CITY</th>\n",
              "      <th>FUELCONSUMPTION_HWY</th>\n",
              "      <th>FUELCONSUMPTION_COMB</th>\n",
              "      <th>FUELCONSUMPTION_COMB_MPG</th>\n",
              "      <th>CO2EMISSIONS</th>\n",
              "    </tr>\n",
              "  </thead>\n",
              "  <tbody>\n",
              "    <tr>\n",
              "      <th>0</th>\n",
              "      <td>2014</td>\n",
              "      <td>ACURA</td>\n",
              "      <td>ILX</td>\n",
              "      <td>COMPACT</td>\n",
              "      <td>2.0</td>\n",
              "      <td>4</td>\n",
              "      <td>AS5</td>\n",
              "      <td>Z</td>\n",
              "      <td>9.9</td>\n",
              "      <td>6.7</td>\n",
              "      <td>8.5</td>\n",
              "      <td>33</td>\n",
              "      <td>196</td>\n",
              "    </tr>\n",
              "    <tr>\n",
              "      <th>1</th>\n",
              "      <td>2014</td>\n",
              "      <td>ACURA</td>\n",
              "      <td>ILX</td>\n",
              "      <td>COMPACT</td>\n",
              "      <td>2.4</td>\n",
              "      <td>4</td>\n",
              "      <td>M6</td>\n",
              "      <td>Z</td>\n",
              "      <td>11.2</td>\n",
              "      <td>7.7</td>\n",
              "      <td>9.6</td>\n",
              "      <td>29</td>\n",
              "      <td>221</td>\n",
              "    </tr>\n",
              "    <tr>\n",
              "      <th>2</th>\n",
              "      <td>2014</td>\n",
              "      <td>ACURA</td>\n",
              "      <td>ILX HYBRID</td>\n",
              "      <td>COMPACT</td>\n",
              "      <td>1.5</td>\n",
              "      <td>4</td>\n",
              "      <td>AV7</td>\n",
              "      <td>Z</td>\n",
              "      <td>6.0</td>\n",
              "      <td>5.8</td>\n",
              "      <td>5.9</td>\n",
              "      <td>48</td>\n",
              "      <td>136</td>\n",
              "    </tr>\n",
              "    <tr>\n",
              "      <th>3</th>\n",
              "      <td>2014</td>\n",
              "      <td>ACURA</td>\n",
              "      <td>MDX 4WD</td>\n",
              "      <td>SUV - SMALL</td>\n",
              "      <td>3.5</td>\n",
              "      <td>6</td>\n",
              "      <td>AS6</td>\n",
              "      <td>Z</td>\n",
              "      <td>12.7</td>\n",
              "      <td>9.1</td>\n",
              "      <td>11.1</td>\n",
              "      <td>25</td>\n",
              "      <td>255</td>\n",
              "    </tr>\n",
              "    <tr>\n",
              "      <th>4</th>\n",
              "      <td>2014</td>\n",
              "      <td>ACURA</td>\n",
              "      <td>RDX AWD</td>\n",
              "      <td>SUV - SMALL</td>\n",
              "      <td>3.5</td>\n",
              "      <td>6</td>\n",
              "      <td>AS6</td>\n",
              "      <td>Z</td>\n",
              "      <td>12.1</td>\n",
              "      <td>8.7</td>\n",
              "      <td>10.6</td>\n",
              "      <td>27</td>\n",
              "      <td>244</td>\n",
              "    </tr>\n",
              "  </tbody>\n",
              "</table>\n",
              "</div>"
            ],
            "text/plain": [
              "   MODELYEAR   MAKE       MODEL VEHICLECLASS  ENGINESIZE  CYLINDERS  \\\n",
              "0       2014  ACURA         ILX      COMPACT         2.0          4   \n",
              "1       2014  ACURA         ILX      COMPACT         2.4          4   \n",
              "2       2014  ACURA  ILX HYBRID      COMPACT         1.5          4   \n",
              "3       2014  ACURA     MDX 4WD  SUV - SMALL         3.5          6   \n",
              "4       2014  ACURA     RDX AWD  SUV - SMALL         3.5          6   \n",
              "\n",
              "  TRANSMISSION FUELTYPE  FUELCONSUMPTION_CITY  FUELCONSUMPTION_HWY  \\\n",
              "0          AS5        Z                   9.9                  6.7   \n",
              "1           M6        Z                  11.2                  7.7   \n",
              "2          AV7        Z                   6.0                  5.8   \n",
              "3          AS6        Z                  12.7                  9.1   \n",
              "4          AS6        Z                  12.1                  8.7   \n",
              "\n",
              "   FUELCONSUMPTION_COMB  FUELCONSUMPTION_COMB_MPG  CO2EMISSIONS  \n",
              "0                   8.5                        33           196  \n",
              "1                   9.6                        29           221  \n",
              "2                   5.9                        48           136  \n",
              "3                  11.1                        25           255  \n",
              "4                  10.6                        27           244  "
            ]
          },
          "execution_count": 2,
          "metadata": {},
          "output_type": "execute_result"
        }
      ],
      "source": [
        "df = pd.read_csv(\"FuelConsumption.csv\")\n",
        "\n",
        "# xem tập dữ liệu\n",
        "df.head()"
      ]
    },
    {
      "cell_type": "markdown",
      "metadata": {
        "button": false,
        "id": "5MaXmkDQNVAn",
        "new_sheet": false,
        "run_control": {
          "read_only": false
        }
      },
      "source": [
        "### Khám phá Dữ liệu\n",
        "\n",
        "Trước tiên, hãy khám phá mô tả về dữ liệu.\n"
      ]
    },
    {
      "cell_type": "code",
      "execution_count": 3,
      "metadata": {
        "button": false,
        "id": "MWz7jmIQNVAn",
        "new_sheet": false,
        "run_control": {
          "read_only": false
        }
      },
      "outputs": [
        {
          "data": {
            "text/html": [
              "<div>\n",
              "<style scoped>\n",
              "    .dataframe tbody tr th:only-of-type {\n",
              "        vertical-align: middle;\n",
              "    }\n",
              "\n",
              "    .dataframe tbody tr th {\n",
              "        vertical-align: top;\n",
              "    }\n",
              "\n",
              "    .dataframe thead th {\n",
              "        text-align: right;\n",
              "    }\n",
              "</style>\n",
              "<table border=\"1\" class=\"dataframe\">\n",
              "  <thead>\n",
              "    <tr style=\"text-align: right;\">\n",
              "      <th></th>\n",
              "      <th>MODELYEAR</th>\n",
              "      <th>ENGINESIZE</th>\n",
              "      <th>CYLINDERS</th>\n",
              "      <th>FUELCONSUMPTION_CITY</th>\n",
              "      <th>FUELCONSUMPTION_HWY</th>\n",
              "      <th>FUELCONSUMPTION_COMB</th>\n",
              "      <th>FUELCONSUMPTION_COMB_MPG</th>\n",
              "      <th>CO2EMISSIONS</th>\n",
              "    </tr>\n",
              "  </thead>\n",
              "  <tbody>\n",
              "    <tr>\n",
              "      <th>count</th>\n",
              "      <td>1067.0</td>\n",
              "      <td>1067.000000</td>\n",
              "      <td>1067.000000</td>\n",
              "      <td>1067.000000</td>\n",
              "      <td>1067.000000</td>\n",
              "      <td>1067.000000</td>\n",
              "      <td>1067.000000</td>\n",
              "      <td>1067.000000</td>\n",
              "    </tr>\n",
              "    <tr>\n",
              "      <th>mean</th>\n",
              "      <td>2014.0</td>\n",
              "      <td>3.346298</td>\n",
              "      <td>5.794752</td>\n",
              "      <td>13.296532</td>\n",
              "      <td>9.474602</td>\n",
              "      <td>11.580881</td>\n",
              "      <td>26.441425</td>\n",
              "      <td>256.228679</td>\n",
              "    </tr>\n",
              "    <tr>\n",
              "      <th>std</th>\n",
              "      <td>0.0</td>\n",
              "      <td>1.415895</td>\n",
              "      <td>1.797447</td>\n",
              "      <td>4.101253</td>\n",
              "      <td>2.794510</td>\n",
              "      <td>3.485595</td>\n",
              "      <td>7.468702</td>\n",
              "      <td>63.372304</td>\n",
              "    </tr>\n",
              "    <tr>\n",
              "      <th>min</th>\n",
              "      <td>2014.0</td>\n",
              "      <td>1.000000</td>\n",
              "      <td>3.000000</td>\n",
              "      <td>4.600000</td>\n",
              "      <td>4.900000</td>\n",
              "      <td>4.700000</td>\n",
              "      <td>11.000000</td>\n",
              "      <td>108.000000</td>\n",
              "    </tr>\n",
              "    <tr>\n",
              "      <th>25%</th>\n",
              "      <td>2014.0</td>\n",
              "      <td>2.000000</td>\n",
              "      <td>4.000000</td>\n",
              "      <td>10.250000</td>\n",
              "      <td>7.500000</td>\n",
              "      <td>9.000000</td>\n",
              "      <td>21.000000</td>\n",
              "      <td>207.000000</td>\n",
              "    </tr>\n",
              "    <tr>\n",
              "      <th>50%</th>\n",
              "      <td>2014.0</td>\n",
              "      <td>3.400000</td>\n",
              "      <td>6.000000</td>\n",
              "      <td>12.600000</td>\n",
              "      <td>8.800000</td>\n",
              "      <td>10.900000</td>\n",
              "      <td>26.000000</td>\n",
              "      <td>251.000000</td>\n",
              "    </tr>\n",
              "    <tr>\n",
              "      <th>75%</th>\n",
              "      <td>2014.0</td>\n",
              "      <td>4.300000</td>\n",
              "      <td>8.000000</td>\n",
              "      <td>15.550000</td>\n",
              "      <td>10.850000</td>\n",
              "      <td>13.350000</td>\n",
              "      <td>31.000000</td>\n",
              "      <td>294.000000</td>\n",
              "    </tr>\n",
              "    <tr>\n",
              "      <th>max</th>\n",
              "      <td>2014.0</td>\n",
              "      <td>8.400000</td>\n",
              "      <td>12.000000</td>\n",
              "      <td>30.200000</td>\n",
              "      <td>20.500000</td>\n",
              "      <td>25.800000</td>\n",
              "      <td>60.000000</td>\n",
              "      <td>488.000000</td>\n",
              "    </tr>\n",
              "  </tbody>\n",
              "</table>\n",
              "</div>"
            ],
            "text/plain": [
              "       MODELYEAR   ENGINESIZE    CYLINDERS  FUELCONSUMPTION_CITY  \\\n",
              "count     1067.0  1067.000000  1067.000000           1067.000000   \n",
              "mean      2014.0     3.346298     5.794752             13.296532   \n",
              "std          0.0     1.415895     1.797447              4.101253   \n",
              "min       2014.0     1.000000     3.000000              4.600000   \n",
              "25%       2014.0     2.000000     4.000000             10.250000   \n",
              "50%       2014.0     3.400000     6.000000             12.600000   \n",
              "75%       2014.0     4.300000     8.000000             15.550000   \n",
              "max       2014.0     8.400000    12.000000             30.200000   \n",
              "\n",
              "       FUELCONSUMPTION_HWY  FUELCONSUMPTION_COMB  FUELCONSUMPTION_COMB_MPG  \\\n",
              "count          1067.000000           1067.000000               1067.000000   \n",
              "mean              9.474602             11.580881                 26.441425   \n",
              "std               2.794510              3.485595                  7.468702   \n",
              "min               4.900000              4.700000                 11.000000   \n",
              "25%               7.500000              9.000000                 21.000000   \n",
              "50%               8.800000             10.900000                 26.000000   \n",
              "75%              10.850000             13.350000                 31.000000   \n",
              "max              20.500000             25.800000                 60.000000   \n",
              "\n",
              "       CO2EMISSIONS  \n",
              "count   1067.000000  \n",
              "mean     256.228679  \n",
              "std       63.372304  \n",
              "min      108.000000  \n",
              "25%      207.000000  \n",
              "50%      251.000000  \n",
              "75%      294.000000  \n",
              "max      488.000000  "
            ]
          },
          "execution_count": 3,
          "metadata": {},
          "output_type": "execute_result"
        }
      ],
      "source": [
        "# tóm tắt dữ liệu\n",
        "df.describe()"
      ]
    },
    {
      "cell_type": "markdown",
      "metadata": {
        "id": "OthZiUHsNVAo"
      },
      "source": [
        "Hãy chọn một số đặc trưng để khám phá thêm.\n"
      ]
    },
    {
      "cell_type": "code",
      "execution_count": 4,
      "metadata": {
        "button": false,
        "id": "aChrO148NVAo",
        "new_sheet": false,
        "run_control": {
          "read_only": false
        }
      },
      "outputs": [
        {
          "data": {
            "text/html": [
              "<div>\n",
              "<style scoped>\n",
              "    .dataframe tbody tr th:only-of-type {\n",
              "        vertical-align: middle;\n",
              "    }\n",
              "\n",
              "    .dataframe tbody tr th {\n",
              "        vertical-align: top;\n",
              "    }\n",
              "\n",
              "    .dataframe thead th {\n",
              "        text-align: right;\n",
              "    }\n",
              "</style>\n",
              "<table border=\"1\" class=\"dataframe\">\n",
              "  <thead>\n",
              "    <tr style=\"text-align: right;\">\n",
              "      <th></th>\n",
              "      <th>ENGINESIZE</th>\n",
              "      <th>CYLINDERS</th>\n",
              "      <th>FUELCONSUMPTION_COMB</th>\n",
              "      <th>CO2EMISSIONS</th>\n",
              "    </tr>\n",
              "  </thead>\n",
              "  <tbody>\n",
              "    <tr>\n",
              "      <th>0</th>\n",
              "      <td>2.0</td>\n",
              "      <td>4</td>\n",
              "      <td>8.5</td>\n",
              "      <td>196</td>\n",
              "    </tr>\n",
              "    <tr>\n",
              "      <th>1</th>\n",
              "      <td>2.4</td>\n",
              "      <td>4</td>\n",
              "      <td>9.6</td>\n",
              "      <td>221</td>\n",
              "    </tr>\n",
              "    <tr>\n",
              "      <th>2</th>\n",
              "      <td>1.5</td>\n",
              "      <td>4</td>\n",
              "      <td>5.9</td>\n",
              "      <td>136</td>\n",
              "    </tr>\n",
              "    <tr>\n",
              "      <th>3</th>\n",
              "      <td>3.5</td>\n",
              "      <td>6</td>\n",
              "      <td>11.1</td>\n",
              "      <td>255</td>\n",
              "    </tr>\n",
              "    <tr>\n",
              "      <th>4</th>\n",
              "      <td>3.5</td>\n",
              "      <td>6</td>\n",
              "      <td>10.6</td>\n",
              "      <td>244</td>\n",
              "    </tr>\n",
              "    <tr>\n",
              "      <th>5</th>\n",
              "      <td>3.5</td>\n",
              "      <td>6</td>\n",
              "      <td>10.0</td>\n",
              "      <td>230</td>\n",
              "    </tr>\n",
              "    <tr>\n",
              "      <th>6</th>\n",
              "      <td>3.5</td>\n",
              "      <td>6</td>\n",
              "      <td>10.1</td>\n",
              "      <td>232</td>\n",
              "    </tr>\n",
              "    <tr>\n",
              "      <th>7</th>\n",
              "      <td>3.7</td>\n",
              "      <td>6</td>\n",
              "      <td>11.1</td>\n",
              "      <td>255</td>\n",
              "    </tr>\n",
              "    <tr>\n",
              "      <th>8</th>\n",
              "      <td>3.7</td>\n",
              "      <td>6</td>\n",
              "      <td>11.6</td>\n",
              "      <td>267</td>\n",
              "    </tr>\n",
              "  </tbody>\n",
              "</table>\n",
              "</div>"
            ],
            "text/plain": [
              "   ENGINESIZE  CYLINDERS  FUELCONSUMPTION_COMB  CO2EMISSIONS\n",
              "0         2.0          4                   8.5           196\n",
              "1         2.4          4                   9.6           221\n",
              "2         1.5          4                   5.9           136\n",
              "3         3.5          6                  11.1           255\n",
              "4         3.5          6                  10.6           244\n",
              "5         3.5          6                  10.0           230\n",
              "6         3.5          6                  10.1           232\n",
              "7         3.7          6                  11.1           255\n",
              "8         3.7          6                  11.6           267"
            ]
          },
          "execution_count": 4,
          "metadata": {},
          "output_type": "execute_result"
        }
      ],
      "source": [
        "cdf = df[['ENGINESIZE','CYLINDERS','FUELCONSUMPTION_COMB','CO2EMISSIONS']]\n",
        "cdf.head(9)"
      ]
    },
    {
      "cell_type": "markdown",
      "metadata": {
        "id": "Aw7pA5hYNVAo"
      },
      "source": [
        "Chúng ta có thể vẽ biểu đồ từng đặc trưng sau:\n"
      ]
    },
    {
      "cell_type": "code",
      "execution_count": 5,
      "metadata": {
        "button": false,
        "id": "i9hpYYGHNVAp",
        "new_sheet": false,
        "run_control": {
          "read_only": false
        }
      },
      "outputs": [
        {
          "data": {
            "image/png": "[encoded data removed]",
            "text/plain": [
              "<Figure size 432x288 with 4 Axes>"
            ]
          },
          "metadata": {
            "needs_background": "light"
          },
          "output_type": "display_data"
        }
      ],
      "source": [
        "viz = cdf[['CYLINDERS','ENGINESIZE','CO2EMISSIONS','FUELCONSUMPTION_COMB']]\n",
        "viz.hist()\n",
        "plt.show()"
      ]
    },
    {
      "cell_type": "markdown",
      "metadata": {
        "id": "7dtGBcC3NVAp"
      },
      "source": [
        "Bây giờ, hãy vẽ biểu đồ của từng đặc trưng này với Emission để xem mối quan hệ của chúng tuyến tính như thế nào:\n"
      ]
    },
    {
      "cell_type": "code",
      "execution_count": 6,
      "metadata": {
        "button": false,
        "id": "jY0tONupNVAp",
        "new_sheet": false,
        "run_control": {
          "read_only": false
        }
      },
      "outputs": [
        {
          "data": {
            "image/png": "[encoded data removed]",
            "text/plain": [
              "<Figure size 432x288 with 1 Axes>"
            ]
          },
          "metadata": {
            "needs_background": "light"
          },
          "output_type": "display_data"
        }
      ],
      "source": [
        "plt.scatter(cdf.FUELCONSUMPTION_COMB, cdf.CO2EMISSIONS,  color='blue')\n",
        "plt.xlabel(\"FUELCONSUMPTION_COMB\")\n",
        "plt.ylabel(\"Emission\")\n",
        "plt.show()"
      ]
    },
    {
      "cell_type": "code",
      "execution_count": 7,
      "metadata": {
        "button": false,
        "id": "uwKVVEVNNVAq",
        "new_sheet": false,
        "run_control": {
          "read_only": false
        },
        "scrolled": true
      },
      "outputs": [
        {
          "data": {
            "image/png": "[encoded data removed]",
            "text/plain": [
              "<Figure size 432x288 with 1 Axes>"
            ]
          },
          "metadata": {
            "needs_background": "light"
          },
          "output_type": "display_data"
        }
      ],
      "source": [
        "plt.scatter(cdf.ENGINESIZE, cdf.CO2EMISSIONS,  color='blue')\n",
        "plt.xlabel(\"Engine size\")\n",
        "plt.ylabel(\"Emission\")\n",
        "plt.show()"
      ]
    },
    {
      "cell_type": "markdown",
      "metadata": {
        "id": "cc-QRWVGNVAq"
      },
      "source": [
        "## Luyện tập\n",
        "\n",
        "Vẽ biểu đồ **CYLINDER** với Emission, để xem mối quan hệ của chúng tuyến tính như thế nào:\n"
      ]
    },
    {
      "cell_type": "code",
      "execution_count": 8,
      "metadata": {
        "button": false,
        "id": "3FARhq9GNVAq",
        "new_sheet": false,
        "run_control": {
          "read_only": false
        }
      },
      "outputs": [
        {
          "data": {
            "image/png": "[encoded data removed]",
            "text/plain": [
              "<Figure size 432x288 with 1 Axes>"
            ]
          },
          "metadata": {
            "needs_background": "light"
          },
          "output_type": "display_data"
        }
      ],
      "source": [
        "# viết code của bạn ở đây\n",
        "\n",
        "plt.scatter(cdf.CYLINDERS, cdf.CO2EMISSIONS,  color='blue')\n",
        "plt.xlabel(\"Cylinders size\")\n",
        "plt.ylabel(\"Emission\")\n",
        "plt.show()\n"
      ]
    },
    {
      "cell_type": "markdown",
      "metadata": {
        "id": "TWq-l8uzNVAr"
      },
      "source": [
        "<details><summary>Click vào đây để xem lời giải</summary>\n",
        "\n",
        "```python\n",
        "plt.scatter(cdf.CYLINDERS, cdf.CO2EMISSIONS, color='blue')\n",
        "plt.xlabel(\"Cylinders\")\n",
        "plt.ylabel(\"Emission\")\n",
        "plt.show()\n",
        "\n",
        "```\n",
        "\n",
        "</details>\n"
      ]
    },
    {
      "cell_type": "markdown",
      "metadata": {
        "button": false,
        "id": "JSyyyjZONVAr",
        "new_sheet": false,
        "run_control": {
          "read_only": false
        }
      },
      "source": [
        "#### Tạo tập dữ liệu train và test\n",
        "\n",
        "Train/Test Split liên quan đến việc chia nhỏ tập dữ liệu thành training set và test set tương ứng loại trừ lẫn nhau (tập dữ liệu ban đầu được tách thành 2 tập dữ liệu riêng biệt, dữ liệu của tập này không chứa trong tập còn lại). Sau đó, bạn huấn luyện mô hình với training set và kiểm tra với test set.\n",
        "Điều này sẽ cung cấp đánh giá chính xác hơn về độ chính xác ngoài mẫu vì tập dữ liệu testing không phải là một phần của tập dữ liệu được sử dụng để huấn luyện dữ liệu. Nó sát với các vấn đề trong thực tế hơn.\n",
        "\n",
        "Điều này có nghĩa là chúng ta biết kết quả của từng điểm dữ liệu trong tập dữ liệu này, giúp cho việc kiểm tra trở nên tuyệt vời! Và vì dữ liệu này không được sử dụng để huấn luyện mô hình, nên mô hình không có kiến thức về kết quả của các điểm dữ liệu này. Vì vậy, về bản chất, nó thực sự là một testing ngoài mẫu.\n",
        "\n",
        "Hãy chia tập dữ liệu của chúng ta thành train set và test set, 80% toàn bộ dữ liệu cho training và 20% cho testing. Chúng ta tạo một mask để chọn các hàng ngẫu nhiên bằng hàm **np.random.rand()**:\n"
      ]
    },
    {
      "cell_type": "code",
      "execution_count": 9,
      "metadata": {
        "button": false,
        "id": "7uKrPJm0NVAr",
        "new_sheet": false,
        "run_control": {
          "read_only": false
        }
      },
      "outputs": [],
      "source": [
        "msk = np.random.rand(len(df)) < 0.8\n",
        "train = cdf[msk]\n",
        "test = cdf[~msk]"
      ]
    },
    {
      "cell_type": "markdown",
      "metadata": {
        "button": false,
        "id": "ml2byzgTNVAs",
        "new_sheet": false,
        "run_control": {
          "read_only": false
        }
      },
      "source": [
        "### Mô hình Hồi quy đơn giản\n",
        "\n",
        "Hồi quy tuyến tính phù hợp với một mô hình tuyến tính với các hệ số B = (B1, ..., Bn) để giảm 'tổng bình phương phần dư' giữa giá trị thực tế y trong tập dữ liệu và giá trị dự đoán y bằng phép xấp xỉ tuyến tính.\n"
      ]
    },
    {
      "cell_type": "markdown",
      "metadata": {
        "button": false,
        "id": "4IcxYjBPNVAs",
        "new_sheet": false,
        "run_control": {
          "read_only": false
        }
      },
      "source": [
        "#### Phân phối dữ liệu huấn luyện\n"
      ]
    },
    {
      "cell_type": "code",
      "execution_count": 10,
      "metadata": {
        "button": false,
        "id": "Yprn4KauNVAs",
        "new_sheet": false,
        "run_control": {
          "read_only": false
        }
      },
      "outputs": [
        {
          "data": {
            "image/png": "[encoded data removed]",
            "text/plain": [
              "<Figure size 432x288 with 1 Axes>"
            ]
          },
          "metadata": {
            "needs_background": "light"
          },
          "output_type": "display_data"
        }
      ],
      "source": [
        "plt.scatter(train.ENGINESIZE, train.CO2EMISSIONS,  color='blue')\n",
        "plt.xlabel(\"Engine size\")\n",
        "plt.ylabel(\"Emission\")\n",
        "plt.show()"
      ]
    },
    {
      "cell_type": "markdown",
      "metadata": {
        "button": false,
        "id": "hkCLlEpWNVAt",
        "new_sheet": false,
        "run_control": {
          "read_only": false
        }
      },
      "source": [
        "#### Lập mô hình\n",
        "\n",
        "Sử dụng gói sklearn để lập mô hình dữ liệu.\n"
      ]
    },
    {
      "cell_type": "code",
      "execution_count": 11,
      "metadata": {
        "button": false,
        "id": "Q4BKJZc9NVAt",
        "new_sheet": false,
        "run_control": {
          "read_only": false
        }
      },
      "outputs": [
        {
          "name": "stdout",
          "output_type": "stream",
          "text": [
            "Coefficients:  [[39.37345252]]\n",
            "Intercept:  [124.89902318]\n"
          ]
        }
      ],
      "source": [
        "from sklearn import linear_model\n",
        "regr = linear_model.LinearRegression()\n",
        "train_x = np.asanyarray(train[['ENGINESIZE']])\n",
        "train_y = np.asanyarray(train[['CO2EMISSIONS']])\n",
        "regr.fit (train_x, train_y)\n",
        "# The coefficients\n",
        "print ('Coefficients: ', regr.coef_)\n",
        "print ('Intercept: ',regr.intercept_)"
      ]
    },
    {
      "cell_type": "markdown",
      "metadata": {
        "id": "aZNMLhhYNVAt"
      },
      "source": [
        "Như đã đề cập trước đây, **Hệ số (Coefficient)** và **Hệ số chặn (Intercept)** trong hồi quy tuyến tính đơn giản là các tham số của đường hồi quy (Fit line).\n",
        "Biết rằng đây là một hồi quy tuyến tính đơn giản, chỉ có 2 tham số và biết rằng các tham số là điểm chặn và độ dốc của đường, sklearn có thể ước tính chúng trực tiếp từ dữ liệu.\n",
        "Lưu ý rằng tất cả dữ liệu phải có sẵn để duyệt và tính toán các tham số.\n"
      ]
    },
    {
      "cell_type": "markdown",
      "metadata": {
        "button": false,
        "id": "38M7nwZsNVAu",
        "new_sheet": false,
        "run_control": {
          "read_only": false
        }
      },
      "source": [
        "#### Vẽ biểu đồ output\n"
      ]
    },
    {
      "cell_type": "markdown",
      "metadata": {
        "id": "FEJwObweNVAu"
      },
      "source": [
        "Ta có thể vẽ biểu đồ đường hồi quy trên dữ liệu:\n"
      ]
    },
    {
      "cell_type": "code",
      "execution_count": 12,
      "metadata": {
        "button": false,
        "id": "OwW3FXajNVAu",
        "new_sheet": false,
        "run_control": {
          "read_only": false
        }
      },
      "outputs": [
        {
          "data": {
            "text/plain": [
              "Text(0, 0.5, 'Emission')"
            ]
          },
          "execution_count": 12,
          "metadata": {},
          "output_type": "execute_result"
        },
        {
          "data": {
            "image/png": "[encoded data removed]",
            "text/plain": [
              "<Figure size 432x288 with 1 Axes>"
            ]
          },
          "metadata": {
            "needs_background": "light"
          },
          "output_type": "display_data"
        }
      ],
      "source": [
        "plt.scatter(train.ENGINESIZE, train.CO2EMISSIONS,  color='blue')\n",
        "plt.plot(train_x, regr.coef_[0][0]*train_x + regr.intercept_[0], '-r')\n",
        "plt.xlabel(\"Engine size\")\n",
        "plt.ylabel(\"Emission\")"
      ]
    },
    {
      "cell_type": "markdown",
      "metadata": {
        "button": false,
        "id": "_yGXByimNVAv",
        "new_sheet": false,
        "run_control": {
          "read_only": false
        }
      },
      "source": [
        "#### Đánh giá\n",
        "\n",
        "Chúng ta so sánh giá trị thực tế và giá trị đã dự đoán để tính độ chính xác của mô hình hồi quy. Các thước đo đánh giá đóng vai trò quan trọng trong việc phát triển một mô hình, vì nó cung cấp cái nhìn sâu sắc về các phương diện cần cải thiện.\n",
        "\n",
        "Có các số liệu đánh giá mô hình khác nhau, hãy sử dụng MSE ở đây để tính toán độ chính xác của mô hình dựa trên tets set:\n",
        "\n",
        "```\n",
        "- Mean absolute error (Sai số tuyệt đối trung bình): Là giá trị trung bình của giá trị tuyệt đối của các sai số. Đây là chỉ số dễ hiểu nhất vì nó chỉ là sai số trung bình.\n",
        "- Sai số toàn phương trung bình (MSE): là giá trị trung bình của sai số bình phương. Nó phổ biến hơn sai số tuyệt đối trung bình vì tiêu điểm hướng nhiều hơn đến các sai số lớn. Điều này là do thuật ngữ bình phương làm tăng sai số lớn hơn theo cấp số nhân so với số nhỏ hơn.\n",
        "- Sai số bình phương trung bình (RMSE).\n",
        "- R bình phương không phải là sai số, nhưng là một số liệu phổ biến cho độ chính xác của mô hình. Nó thể hiện độ gần của dữ liệu với đường hồi quy được điều chỉnh. R bình phương càng cao thì mô hình càng phù hợp với dữ liệu. Điểm tốt nhất có thể là 1,0 và nó có thể là âm (vì mô hình có thể tệ hơn một cách tùy ý).\n",
        "```\n"
      ]
    },
    {
      "cell_type": "code",
      "execution_count": 14,
      "metadata": {},
      "outputs": [
        {
          "data": {
            "text/plain": [
              "array([[230],\n",
              "       [232],\n",
              "       [212],\n",
              "       [239],\n",
              "       [359],\n",
              "       [354],\n",
              "       [359],\n",
              "       [202],\n",
              "       [230],\n",
              "       [227],\n",
              "       [212],\n",
              "       [294],\n",
              "       [306],\n",
              "       [308],\n",
              "       [281],\n",
              "       [320],\n",
              "       [380],\n",
              "       [380],\n",
              "       [200],\n",
              "       [200],\n",
              "       [237],\n",
              "       [200],\n",
              "       [209],\n",
              "       [230],\n",
              "       [246],\n",
              "       [338],\n",
              "       [338],\n",
              "       [317],\n",
              "       [209],\n",
              "       [260],\n",
              "       [230],\n",
              "       [253],\n",
              "       [320],\n",
              "       [209],\n",
              "       [189],\n",
              "       [228],\n",
              "       [246],\n",
              "       [218],\n",
              "       [232],\n",
              "       [260],\n",
              "       [382],\n",
              "       [340],\n",
              "       [258],\n",
              "       [192],\n",
              "       [163],\n",
              "       [209],\n",
              "       [259],\n",
              "       [366],\n",
              "       [344],\n",
              "       [419],\n",
              "       [182],\n",
              "       [246],\n",
              "       [230],\n",
              "       [294],\n",
              "       [317],\n",
              "       [230],\n",
              "       [230],\n",
              "       [301],\n",
              "       [294],\n",
              "       [237],\n",
              "       [294],\n",
              "       [235],\n",
              "       [317],\n",
              "       [202],\n",
              "       [168],\n",
              "       [179],\n",
              "       [179],\n",
              "       [138],\n",
              "       [281],\n",
              "       [214],\n",
              "       [230],\n",
              "       [368],\n",
              "       [267],\n",
              "       [294],\n",
              "       [308],\n",
              "       [283],\n",
              "       [308],\n",
              "       [343],\n",
              "       [340],\n",
              "       [184],\n",
              "       [205],\n",
              "       [165],\n",
              "       [170],\n",
              "       [166],\n",
              "       [186],\n",
              "       [216],\n",
              "       [292],\n",
              "       [229],\n",
              "       [228],\n",
              "       [297],\n",
              "       [347],\n",
              "       [380],\n",
              "       [344],\n",
              "       [414],\n",
              "       [271],\n",
              "       [276],\n",
              "       [294],\n",
              "       [322],\n",
              "       [317],\n",
              "       [110],\n",
              "       [216],\n",
              "       [159],\n",
              "       [172],\n",
              "       [145],\n",
              "       [248],\n",
              "       [189],\n",
              "       [269],\n",
              "       [271],\n",
              "       [244],\n",
              "       [253],\n",
              "       [345],\n",
              "       [306],\n",
              "       [280],\n",
              "       [301],\n",
              "       [290],\n",
              "       [340],\n",
              "       [225],\n",
              "       [216],\n",
              "       [193],\n",
              "       [223],\n",
              "       [193],\n",
              "       [212],\n",
              "       [276],\n",
              "       [207],\n",
              "       [262],\n",
              "       [246],\n",
              "       [361],\n",
              "       [225],\n",
              "       [277],\n",
              "       [347],\n",
              "       [129],\n",
              "       [244],\n",
              "       [290],\n",
              "       [297],\n",
              "       [380],\n",
              "       [189],\n",
              "       [260],\n",
              "       [281],\n",
              "       [334],\n",
              "       [301],\n",
              "       [159],\n",
              "       [168],\n",
              "       [184],\n",
              "       [212],\n",
              "       [310],\n",
              "       [419],\n",
              "       [324],\n",
              "       [363],\n",
              "       [256],\n",
              "       [207],\n",
              "       [179],\n",
              "       [179],\n",
              "       [200],\n",
              "       [184],\n",
              "       [184],\n",
              "       [191],\n",
              "       [191],\n",
              "       [198],\n",
              "       [202],\n",
              "       [253],\n",
              "       [380],\n",
              "       [186],\n",
              "       [271],\n",
              "       [191],\n",
              "       [152],\n",
              "       [177],\n",
              "       [315],\n",
              "       [237],\n",
              "       [246],\n",
              "       [253],\n",
              "       [251],\n",
              "       [212],\n",
              "       [239],\n",
              "       [212],\n",
              "       [228],\n",
              "       [251],\n",
              "       [255],\n",
              "       [313],\n",
              "       [354],\n",
              "       [324],\n",
              "       [286],\n",
              "       [269],\n",
              "       [262],\n",
              "       [389],\n",
              "       [258],\n",
              "       [267],\n",
              "       [212],\n",
              "       [177],\n",
              "       [221],\n",
              "       [221],\n",
              "       [163],\n",
              "       [196],\n",
              "       [297],\n",
              "       [251],\n",
              "       [271],\n",
              "       [322],\n",
              "       [253],\n",
              "       [197],\n",
              "       [225],\n",
              "       [218],\n",
              "       [186],\n",
              "       [248],\n",
              "       [232],\n",
              "       [271],\n",
              "       [260]], dtype=int64)"
            ]
          },
          "execution_count": 14,
          "metadata": {},
          "output_type": "execute_result"
        }
      ],
      "source": [
        "test_y"
      ]
    },
    {
      "cell_type": "code",
      "execution_count": 15,
      "metadata": {},
      "outputs": [
        {
          "data": {
            "text/plain": [
              "array([[262.706107  ],\n",
              "       [262.706107  ],\n",
              "       [219.39530923],\n",
              "       [262.706107  ],\n",
              "       [357.20239305],\n",
              "       [309.95425002],\n",
              "       [357.20239305],\n",
              "       [203.64592822],\n",
              "       [203.64592822],\n",
              "       [243.01938074],\n",
              "       [203.64592822],\n",
              "       [243.01938074],\n",
              "       [290.26752376],\n",
              "       [290.26752376],\n",
              "       [282.39283326],\n",
              "       [282.39283326],\n",
              "       [361.1397383 ],\n",
              "       [361.1397383 ],\n",
              "       [203.64592822],\n",
              "       [203.64592822],\n",
              "       [243.01938074],\n",
              "       [203.64592822],\n",
              "       [203.64592822],\n",
              "       [243.01938074],\n",
              "       [243.01938074],\n",
              "       [298.14221427],\n",
              "       [298.14221427],\n",
              "       [298.14221427],\n",
              "       [203.64592822],\n",
              "       [243.01938074],\n",
              "       [203.64592822],\n",
              "       [243.01938074],\n",
              "       [298.14221427],\n",
              "       [203.64592822],\n",
              "       [219.39530923],\n",
              "       [203.64592822],\n",
              "       [203.64592822],\n",
              "       [219.39530923],\n",
              "       [203.64592822],\n",
              "       [266.64345225],\n",
              "       [369.0144288 ],\n",
              "       [369.0144288 ],\n",
              "       [369.0144288 ],\n",
              "       [203.64592822],\n",
              "       [180.02185671],\n",
              "       [219.39530923],\n",
              "       [266.64345225],\n",
              "       [333.57832154],\n",
              "       [333.57832154],\n",
              "       [313.89159528],\n",
              "       [195.77123771],\n",
              "       [219.39530923],\n",
              "       [266.64345225],\n",
              "       [349.32770254],\n",
              "       [376.88911931],\n",
              "       [219.39530923],\n",
              "       [266.64345225],\n",
              "       [349.32770254],\n",
              "       [349.32770254],\n",
              "       [266.64345225],\n",
              "       [349.32770254],\n",
              "       [266.64345225],\n",
              "       [376.88911931],\n",
              "       [219.39530923],\n",
              "       [180.02185671],\n",
              "       [180.02185671],\n",
              "       [180.02185671],\n",
              "       [203.64592822],\n",
              "       [270.5807975 ],\n",
              "       [187.89654721],\n",
              "       [203.64592822],\n",
              "       [337.51566679],\n",
              "       [262.706107  ],\n",
              "       [262.706107  ],\n",
              "       [262.706107  ],\n",
              "       [270.5807975 ],\n",
              "       [270.5807975 ],\n",
              "       [321.76628578],\n",
              "       [321.76628578],\n",
              "       [187.89654721],\n",
              "       [203.64592822],\n",
              "       [203.64592822],\n",
              "       [203.64592822],\n",
              "       [203.64592822],\n",
              "       [187.89654721],\n",
              "       [203.64592822],\n",
              "       [321.76628578],\n",
              "       [262.706107  ],\n",
              "       [223.33265448],\n",
              "       [266.64345225],\n",
              "       [294.20486902],\n",
              "       [333.57832154],\n",
              "       [333.57832154],\n",
              "       [313.89159528],\n",
              "       [294.20486902],\n",
              "       [266.64345225],\n",
              "       [333.57832154],\n",
              "       [369.0144288 ],\n",
              "       [333.57832154],\n",
              "       [203.64592822],\n",
              "       [219.39530923],\n",
              "       [183.95920196],\n",
              "       [183.95920196],\n",
              "       [219.39530923],\n",
              "       [270.5807975 ],\n",
              "       [262.706107  ],\n",
              "       [270.5807975 ],\n",
              "       [270.5807975 ],\n",
              "       [262.706107  ],\n",
              "       [262.706107  ],\n",
              "       [345.39035729],\n",
              "       [321.76628578],\n",
              "       [321.76628578],\n",
              "       [321.76628578],\n",
              "       [321.76628578],\n",
              "       [349.32770254],\n",
              "       [203.64592822],\n",
              "       [219.39530923],\n",
              "       [203.64592822],\n",
              "       [187.89654721],\n",
              "       [203.64592822],\n",
              "       [203.64592822],\n",
              "       [262.706107  ],\n",
              "       [187.89654721],\n",
              "       [203.64592822],\n",
              "       [219.39530923],\n",
              "       [329.64097628],\n",
              "       [203.64592822],\n",
              "       [243.01938074],\n",
              "       [321.76628578],\n",
              "       [195.77123771],\n",
              "       [262.706107  ],\n",
              "       [321.76628578],\n",
              "       [306.01690477],\n",
              "       [349.32770254],\n",
              "       [262.706107  ],\n",
              "       [270.5807975 ],\n",
              "       [270.5807975 ],\n",
              "       [274.51814276],\n",
              "       [243.01938074],\n",
              "       [203.64592822],\n",
              "       [223.33265448],\n",
              "       [203.64592822],\n",
              "       [203.64592822],\n",
              "       [341.45301204],\n",
              "       [341.45301204],\n",
              "       [243.01938074],\n",
              "       [341.45301204],\n",
              "       [262.706107  ],\n",
              "       [195.77123771],\n",
              "       [187.89654721],\n",
              "       [187.89654721],\n",
              "       [187.89654721],\n",
              "       [187.89654721],\n",
              "       [187.89654721],\n",
              "       [187.89654721],\n",
              "       [187.89654721],\n",
              "       [203.64592822],\n",
              "       [203.64592822],\n",
              "       [270.5807975 ],\n",
              "       [345.39035729],\n",
              "       [187.89654721],\n",
              "       [262.706107  ],\n",
              "       [223.33265448],\n",
              "       [187.89654721],\n",
              "       [187.89654721],\n",
              "       [282.39283326],\n",
              "       [258.76876175],\n",
              "       [258.76876175],\n",
              "       [274.51814276],\n",
              "       [274.51814276],\n",
              "       [231.20734498],\n",
              "       [258.76876175],\n",
              "       [231.20734498],\n",
              "       [231.20734498],\n",
              "       [266.64345225],\n",
              "       [266.64345225],\n",
              "       [349.32770254],\n",
              "       [349.32770254],\n",
              "       [349.32770254],\n",
              "       [243.01938074],\n",
              "       [266.64345225],\n",
              "       [266.64345225],\n",
              "       [455.63602435],\n",
              "       [223.33265448],\n",
              "       [266.64345225],\n",
              "       [203.64592822],\n",
              "       [203.64592822],\n",
              "       [262.706107  ],\n",
              "       [262.706107  ],\n",
              "       [195.77123771],\n",
              "       [195.77123771],\n",
              "       [282.39283326],\n",
              "       [231.20734498],\n",
              "       [231.20734498],\n",
              "       [282.39283326],\n",
              "       [262.706107  ],\n",
              "       [203.64592822],\n",
              "       [203.64592822],\n",
              "       [223.33265448],\n",
              "       [203.64592822],\n",
              "       [266.64345225],\n",
              "       [223.33265448],\n",
              "       [243.01938074],\n",
              "       [250.89407124]])"
            ]
          },
          "execution_count": 15,
          "metadata": {},
          "output_type": "execute_result"
        }
      ],
      "source": [
        "test_y_"
      ]
    },
    {
      "cell_type": "code",
      "execution_count": 13,
      "metadata": {
        "button": false,
        "id": "EEcDVA0vNVAw",
        "new_sheet": false,
        "run_control": {
          "read_only": false
        },
        "scrolled": true
      },
      "outputs": [
        {
          "name": "stdout",
          "output_type": "stream",
          "text": [
            "Mean absolute error: 24.46\n",
            "Residual sum of squares (MSE): 1043.01\n",
            "R2-score: 0.74\n"
          ]
        }
      ],
      "source": [
        "from sklearn.metrics import r2_score\n",
        "\n",
        "test_x = np.asanyarray(test[['ENGINESIZE']])\n",
        "test_y = np.asanyarray(test[['CO2EMISSIONS']])\n",
        "test_y_ = regr.predict(test_x)\n",
        "\n",
        "print(\"Mean absolute error: %.2f\" % np.mean(np.absolute(test_y_ - test_y)))\n",
        "print(\"Residual sum of squares (MSE): %.2f\" % np.mean((test_y_ - test_y) ** 2))\n",
        "print(\"R2-score: %.2f\" % r2_score(test_y , test_y_) )"
      ]
    },
    {
      "cell_type": "markdown",
      "metadata": {
        "id": "kT1ItRF3NVAy"
      },
      "source": [
        "### Cảm ơn bạn đã hoàn thành lab này!\n",
        "\n",
        "Nguồn bài Lab: **IBM**"
      ]
    }
  ],
  "metadata": {
    "colab": {
      "collapsed_sections": [],
      "provenance": []
    },
    "kernelspec": {
      "display_name": "Python 3.10.6 64-bit",
      "language": "python",
      "name": "python3"
    },
    "language_info": {
      "codemirror_mode": {
        "name": "ipython",
        "version": 3
      },
      "file_extension": ".py",
      "mimetype": "text/x-python",
      "name": "python",
      "nbconvert_exporter": "python",
      "pygments_lexer": "ipython3",
      "version": "3.10.6"
    },
    "vscode": {
      "interpreter": {
        "hash": "9ad7f758c7f2ebdda2cc4f553f1363ed8fbfe288e0aece9aaf2ec73dff90b611"
      }
    }
  },
  "nbformat": 4,
  "nbformat_minor": 0
}
