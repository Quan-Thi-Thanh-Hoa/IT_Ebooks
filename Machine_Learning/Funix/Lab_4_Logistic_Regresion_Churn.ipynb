{
  "nbformat": 4,
  "nbformat_minor": 0,
  "metadata": {
    "kernelspec": {
      "display_name": "Python 3",
      "language": "python",
      "name": "python3"
    },
    "language_info": {
      "codemirror_mode": {
        "name": "ipython",
        "version": 3
      },
      "file_extension": ".py",
      "mimetype": "text/x-python",
      "name": "python",
      "nbconvert_exporter": "python",
      "pygments_lexer": "ipython3",
      "version": "3.7.6"
    },
    "colab": {
      "provenance": []
    }
  },
  "cells": [
    {
      "cell_type": "markdown",
      "metadata": {
        "button": false,
        "new_sheet": false,
        "run_control": {
          "read_only": false
        },
        "id": "gVueffCmmZn0"
      },
      "source": [
        "# Hồi quy Logistic với Python\n",
        "\n",
        "Thời lượng ước tính: **45** phút\n",
        "\n",
        "## Mục tiêu\n",
        "\n",
        "Sau khi hoàn thành lab này, bạn sẽ có thể:\n",
        "\n",
        "-   Sử dụng hồi quy logistic scikit để phân loại\n",
        "- Hiểu ma trận nhầm lẫn (confusion matrix)\n"
      ]
    },
    {
      "cell_type": "markdown",
      "metadata": {
        "id": "F7IxHQ9JmZon"
      },
      "source": [
        "Trong notebook này, bạn sẽ học Hồi quy Logistic (Logistic Regression), sau đó, bạn sẽ giúp một công ty viễn thông tạo ra mô hình dự đoán khi nào khách hàng của họ rời đi đến với đối thủ cạnh tranh để họ có thể thực hiện một số hành động nhằm giữ chân khách hàng."
      ]
    },
    {
      "cell_type": "markdown",
      "metadata": {
        "id": "OXUumL9kmZot"
      },
      "source": [
        "<h1>Mục lục</h1>\n",
        "\n",
        "<div class=\"alert alert-block alert-info\" style=\"margin-top: 20px\">\n",
        "    <ol>\n",
        "        <li><a href=\"#about_dataset\">Về tập dữ liệu</a></li>\n",
        "        <li><a href=\"#preprocessing\">Tiền xử lý (pre-processing) và chọn dữ liệu</a></li>\n",
        "        <li><a href=\"#modeling\">Mô hình hóa (Hồi quy Logistic với Scikit-learn)</a></li>\n",
        "        <li><a href=\"#evaluation\">Đánh giá</a></li>\n",
        "        <li><a href=\"#practice\">Thực hành</a></li>\n",
        "    </ol>\n",
        "</div>\n",
        "<br>\n",
        "<hr>\n"
      ]
    },
    {
      "cell_type": "markdown",
      "metadata": {
        "button": false,
        "new_sheet": false,
        "run_control": {
          "read_only": false
        },
        "id": "pDnxAXMmmZox"
      },
      "source": [
        "<a id=\"ref1\"></a>\n",
        "\n",
        "## Sự khác biệt giữa Hồi quy tuyến tính và Hồi quy Logistic là gì?\n",
        "\n",
        "Mặc dù Hồi quy tuyến tính phù hợp để ước tính các giá trị liên tục (ví dụ: ước tính giá nhà), nó không phải là công cụ tốt nhất để dự đoán lớp (class) của một điểm dữ liệu Để ước tính lớp của một điểm dữ liệu, chúng ta cần một số hướng dẫn về <b>lớp có thể xảy ra nhất </b> cho điểm dữ liệu đó. Vì vậy, chúng ta sử dụng <b>Hồi quy logistic</b>.\n",
        "\n",
        "<div class=\"alert alert-success alertsuccess\" style=\"margin-top: 20px\">\n",
        "<font size = 3><strong>Nhớ lại hồi quy tuyến tính:</strong></font>\n",
        "<br>\n",
        "<br>\n",
        "    Như bạn đã biết, <b>hồi quy tuyến tính</b> tìm một hàm liên quan đến một biến phụ thuộc liên tục <b>y</b>, với một số bộ dự đoán (predictors ) (các biến độc lập $x_1$, $x_2$, ...). Ví dụ, hồi quy tuyến tính đơn giản giả định một hàm có dạng:\n",
        "<br><br>\n",
        "$$\n",
        "y = \\theta_0 + \\theta_1  x_1 + \\theta_2  x_2 + \\cdots\n",
        "$$\n",
        "<br>\n",
        "và tìm giá trị của các tham số $\\theta_0, \\theta_1, \\theta_2$, ..., trong đó số hạng $\\theta_0$ là \"hệ số chặn\". Nó thường được hiển thị như sau:\n",
        "<br><br>\n",
        "$$\n",
        "ℎ_\\theta(𝑥) = \\theta^TX\n",
        "$$\n",
        "<p></p>\n",
        "\n",
        "</div>\n",
        "\n",
        "Hồi quy logistic là một biến thể của Hồi quy tuyến tính, hữu ích khi biến phụ thuộc quan sát <b>y</b> có tính phân loại. Nó tạo ra một công thức dự đoán xác suất của nhãn lớp là một hàm của các biến độc lập.\n",
        "\n",
        "Hồi quy logistic phù hợp với một đường cong hình chữ s đặc biệt bằng cách lấy hồi quy tuyến tính và chuyển ước lượng số thành xác suất với hàm sigmoid 𝜎:\n",
        "\n",
        "$$\n",
        "ℎ_\\theta(𝑥) = \\sigma({\\theta^TX}) =  \\frac {e^{(\\theta_0 + \\theta_1  x_1 + \\theta_2  x_2 +...)}}{1 + e^{(\\theta_0 + \\theta_1  x_1 + \\theta_2  x_2 +\\cdots)}}\n",
        "$$\n",
        "Hoặc:\n",
        "$$\n",
        "ProbabilityOfaClass_1 =  P(Y=1|X) = \\sigma({\\theta^TX}) = \\frac{e^{\\theta^TX}}{1+e^{\\theta^TX}} \n",
        "$$\n",
        "\n",
        "Trong phương trình này, ${\\theta^TX}$  là kết quả hồi quy (tổng của các biến có trọng số bởi các hệ số), `exp` là hàm mũ và $\\sigma(\\theta^TX)$ là sigmoid hoặc [hàm logistic](http://en.wikipedia.org/wiki/Logistic_function?cm_mmc=Email_Newsletter-_-Developer_Ed%2BTech-_-WW_WW-_-SkillsNetwork-Courses-IBMDeveloperSkillsNetwork-ML0101EN-SkillsNetwork-20718538&cm_mmca1=000026UJ&cm_mmca2=10006555&cm_mmca3=M12345678&cvosrc=email.Newsletter.M12345678&cvo_campaign=000026UJ&cm_mmc=Email_Newsletter-_-Developer_Ed%2BTech-_-WW_WW-_-SkillsNetwork-Courses-IBMDeveloperSkillsNetwork-ML0101EN-SkillsNetwork-20718538&cm_mmca1=000026UJ&cm_mmca2=10006555&cm_mmca3=M12345678&cvosrc=email.Newsletter.M12345678&cvo_campaign=000026UJ&cm_mmc=Email_Newsletter-_-Developer_Ed%2BTech-_-WW_WW-_-SkillsNetwork-Courses-IBMDeveloperSkillsNetwork-ML0101EN-SkillsNetwork-20718538&cm_mmca1=000026UJ&cm_mmca2=10006555&cm_mmca3=M12345678&cvosrc=email.Newsletter.M12345678&cvo_campaign=000026UJ&cm_mmc=Email_Newsletter-_-Developer_Ed%2BTech-_-WW_WW-_-SkillsNetwork-Courses-IBMDeveloperSkillsNetwork-ML0101EN-SkillsNetwork-20718538&cm_mmca1=000026UJ&cm_mmca2=10006555&cm_mmca3=M12345678&cvosrc=email.Newsletter.M12345678&cvo_campaign=000026UJ), còn được gọi là đường cong logistic. Nó có hình \"S\" thông thường (đường cong sigmoid).\n",
        "\n",
        "Vì vậy, nói ngắn gọn, Hồi quy Logistic chuyển input thông qua logistic/sigmoid nhưng sau đó xử lý kết quả như xác suất:\n",
        "\n",
        "<img\n",
        "src=\"https://cf-courses-data.s3.us.cloud-object-storage.appdomain.cloud/IBMDeveloperSkillsNetwork-ML0101EN-SkillsNetwork/labs/Module%203/images/mod_ID_24_final.png\" width=\"400\" align=\"center\">\n",
        "\n",
        "Mục tiêu của thuật toán **Hồi quy Logistic** là tìm các tham số tốt nhất θ cho $ℎ_\\theta(𝑥)$ = $\\sigma({\\theta^TX})$ theo cách sao cho mô hình dự đoán tốt nhất các lớp của từng trường hợp.\n"
      ]
    },
    {
      "cell_type": "markdown",
      "metadata": {
        "id": "Jm8McxemmZo5"
      },
      "source": [
        "### Customer Churn (Tỉ lệ khách hàng rời đi) với Hồi quy Logistic\n",
        "\n",
        "Có một công ty viễn thông lo ngại về lượng khách hàng rời bỏ công việc kinh doanh viễn thông của họ và đầu nhập các đối thủ cạnh tranh bằng cáp. Họ cần hiểu ai là người ra đi. Hãy đóng vai là một nhà phân tích tại công ty này và bạn cần tìm hiểu xem ai sẽ rời đi và tại sao.\n"
      ]
    },
    {
      "cell_type": "code",
      "metadata": {
        "id": "eKhpmmmVmZpA",
        "colab": {
          "base_uri": "https://localhost:8080/"
        },
        "outputId": "18b94e58-aedc-4c96-aac5-a63e229a7146"
      },
      "source": [
        "!pip install scikit-learn==0.23.1"
      ],
      "execution_count": 1,
      "outputs": [
        {
          "output_type": "stream",
          "name": "stdout",
          "text": [
            "Looking in indexes: https://pypi.org/simple, https://us-python.pkg.dev/colab-wheels/public/simple/\n",
            "Collecting scikit-learn==0.23.1\n",
            "  Downloading scikit_learn-0.23.1-cp37-cp37m-manylinux1_x86_64.whl (6.8 MB)\n",
            "\u001b[K     |████████████████████████████████| 6.8 MB 3.0 MB/s \n",
            "\u001b[?25hRequirement already satisfied: numpy>=1.13.3 in /usr/local/lib/python3.7/dist-packages (from scikit-learn==0.23.1) (1.21.6)\n",
            "Requirement already satisfied: joblib>=0.11 in /usr/local/lib/python3.7/dist-packages (from scikit-learn==0.23.1) (1.2.0)\n",
            "Requirement already satisfied: scipy>=0.19.1 in /usr/local/lib/python3.7/dist-packages (from scikit-learn==0.23.1) (1.7.3)\n",
            "Requirement already satisfied: threadpoolctl>=2.0.0 in /usr/local/lib/python3.7/dist-packages (from scikit-learn==0.23.1) (3.1.0)\n",
            "Installing collected packages: scikit-learn\n",
            "  Attempting uninstall: scikit-learn\n",
            "    Found existing installation: scikit-learn 1.0.2\n",
            "    Uninstalling scikit-learn-1.0.2:\n",
            "      Successfully uninstalled scikit-learn-1.0.2\n",
            "\u001b[31mERROR: pip's dependency resolver does not currently take into account all the packages that are installed. This behaviour is the source of the following dependency conflicts.\n",
            "yellowbrick 1.5 requires scikit-learn>=1.0.0, but you have scikit-learn 0.23.1 which is incompatible.\n",
            "imbalanced-learn 0.8.1 requires scikit-learn>=0.24, but you have scikit-learn 0.23.1 which is incompatible.\u001b[0m\n",
            "Successfully installed scikit-learn-0.23.1\n"
          ]
        }
      ]
    },
    {
      "cell_type": "markdown",
      "metadata": {
        "button": false,
        "new_sheet": false,
        "run_control": {
          "read_only": false
        },
        "id": "fP8PbUs1mZpD"
      },
      "source": [
        "Trước tiên hãy import các thư viện cần thiết:\n"
      ]
    },
    {
      "cell_type": "code",
      "metadata": {
        "button": false,
        "new_sheet": false,
        "run_control": {
          "read_only": false
        },
        "id": "EU0oNn8gmZpF"
      },
      "source": [
        "import pandas as pd\n",
        "import pylab as pl\n",
        "import numpy as np\n",
        "import scipy.optimize as opt\n",
        "from sklearn import preprocessing\n",
        "%matplotlib inline \n",
        "import matplotlib.pyplot as plt"
      ],
      "execution_count": 2,
      "outputs": []
    },
    {
      "cell_type": "markdown",
      "metadata": {
        "button": false,
        "new_sheet": false,
        "run_control": {
          "read_only": false
        },
        "id": "Qv08SOrymZpI"
      },
      "source": [
        "<h2 id=\"about_dataset\">Về tập dữ liệu</h2>\n",
        "Chúng ta sẽ sử dụng một tập dữ liệu viễn thông để dự đoán tình trạng khách hàng rời đi. Đây là tập dữ liệu khách hàng lịch sử, trong đó mỗi hàng đại diện cho một khách hàng. Dữ liệu tương đối dễ hiểu và bạn có thể khám phá thông tin chi tiết có thể sử dụng ngay lập tức. Thông thường, việc giữ khách hàng sẽ ít tốn kém hơn là tìm các khách hàng mới, vì vậy trọng tâm của phân tích này là dự đoán những khách hàng sẽ ở lại với công ty.\n",
        "\n",
        "Tập dữ liệu này cung cấp thông tin để giúp bạn dự đoán hành vi nào sẽ giúp bạn giữ chân khách hàng. Bạn có thể phân tích tất cả dữ liệu khách hàng có liên quan và phát triển các chương trình tập trung giữ chân khách hàng.\n",
        "\n",
        "Tập dữ liệu bao gồm thông tin về:\n",
        "\n",
        "- Những khách hàng đã rời đi trong tháng trước - cột Churn\n",
        "- Các dịch vụ mà mỗi khách hàng đã đăng ký - điện thoại, nhiều đường truyền, internet, bảo mật trực tuyến, sao lưu trực tuyến, bảo vệ thiết bị, hỗ trợ công nghệ, truyền trực tuyến TV và phim\n",
        "- Thông tin tài khoản khách hàng - họ đã là khách hàng trong bao lâu, hợp đồng, phương thức thanh toán, thanh toán không cần giấy tờ, các khoản phí hàng tháng và tổng các khoản phí\n",
        "- Thông tin nhân khẩu học về khách hàng - giới tính, độ tuổi và liệu họ đã kết hôn và có người phụ thuộc\n"
      ]
    },
    {
      "cell_type": "markdown",
      "metadata": {
        "button": false,
        "new_sheet": false,
        "run_control": {
          "read_only": false
        },
        "id": "s0q9t4gsmZpR"
      },
      "source": [
        "### Tải dữ liệu từ tệp CSV\n"
      ]
    },
    {
      "cell_type": "code",
      "metadata": {
        "button": false,
        "new_sheet": false,
        "run_control": {
          "read_only": false
        },
        "id": "0kpjFBXLmZpS",
        "colab": {
          "base_uri": "https://localhost:8080/",
          "height": 235
        },
        "outputId": "00013eac-d18e-4b5b-a932-e2fc524b517e"
      },
      "source": [
        "churn_df = pd.read_csv(\"/content/ChurnData.csv\")\n",
        "churn_df.head()"
      ],
      "execution_count": 3,
      "outputs": [
        {
          "output_type": "execute_result",
          "data": {
            "text/plain": [
              "   tenure   age  address  income   ed  employ  equip  callcard  wireless  \\\n",
              "0    11.0  33.0      7.0   136.0  5.0     5.0    0.0       1.0       1.0   \n",
              "1    33.0  33.0     12.0    33.0  2.0     0.0    0.0       0.0       0.0   \n",
              "2    23.0  30.0      9.0    30.0  1.0     2.0    0.0       0.0       0.0   \n",
              "3    38.0  35.0      5.0    76.0  2.0    10.0    1.0       1.0       1.0   \n",
              "4     7.0  35.0     14.0    80.0  2.0    15.0    0.0       1.0       0.0   \n",
              "\n",
              "   longmon  ...  pager  internet  callwait  confer  ebill  loglong  logtoll  \\\n",
              "0     4.40  ...    1.0       0.0       1.0     1.0    0.0    1.482    3.033   \n",
              "1     9.45  ...    0.0       0.0       0.0     0.0    0.0    2.246    3.240   \n",
              "2     6.30  ...    0.0       0.0       0.0     1.0    0.0    1.841    3.240   \n",
              "3     6.05  ...    1.0       1.0       1.0     1.0    1.0    1.800    3.807   \n",
              "4     7.10  ...    0.0       0.0       1.0     1.0    0.0    1.960    3.091   \n",
              "\n",
              "   lninc  custcat  churn  \n",
              "0  4.913      4.0    1.0  \n",
              "1  3.497      1.0    1.0  \n",
              "2  3.401      3.0    0.0  \n",
              "3  4.331      4.0    0.0  \n",
              "4  4.382      3.0    0.0  \n",
              "\n",
              "[5 rows x 28 columns]"
            ],
            "text/html": [
              "\n",
              "  <div id=\"df-7d7af5c2-437b-4270-9bc4-0189502f297a\">\n",
              "    <div class=\"colab-df-container\">\n",
              "      <div>\n",
              "<style scoped>\n",
              "    .dataframe tbody tr th:only-of-type {\n",
              "        vertical-align: middle;\n",
              "    }\n",
              "\n",
              "    .dataframe tbody tr th {\n",
              "        vertical-align: top;\n",
              "    }\n",
              "\n",
              "    .dataframe thead th {\n",
              "        text-align: right;\n",
              "    }\n",
              "</style>\n",
              "<table border=\"1\" class=\"dataframe\">\n",
              "  <thead>\n",
              "    <tr style=\"text-align: right;\">\n",
              "      <th></th>\n",
              "      <th>tenure</th>\n",
              "      <th>age</th>\n",
              "      <th>address</th>\n",
              "      <th>income</th>\n",
              "      <th>ed</th>\n",
              "      <th>employ</th>\n",
              "      <th>equip</th>\n",
              "      <th>callcard</th>\n",
              "      <th>wireless</th>\n",
              "      <th>longmon</th>\n",
              "      <th>...</th>\n",
              "      <th>pager</th>\n",
              "      <th>internet</th>\n",
              "      <th>callwait</th>\n",
              "      <th>confer</th>\n",
              "      <th>ebill</th>\n",
              "      <th>loglong</th>\n",
              "      <th>logtoll</th>\n",
              "      <th>lninc</th>\n",
              "      <th>custcat</th>\n",
              "      <th>churn</th>\n",
              "    </tr>\n",
              "  </thead>\n",
              "  <tbody>\n",
              "    <tr>\n",
              "      <th>0</th>\n",
              "      <td>11.0</td>\n",
              "      <td>33.0</td>\n",
              "      <td>7.0</td>\n",
              "      <td>136.0</td>\n",
              "      <td>5.0</td>\n",
              "      <td>5.0</td>\n",
              "      <td>0.0</td>\n",
              "      <td>1.0</td>\n",
              "      <td>1.0</td>\n",
              "      <td>4.40</td>\n",
              "      <td>...</td>\n",
              "      <td>1.0</td>\n",
              "      <td>0.0</td>\n",
              "      <td>1.0</td>\n",
              "      <td>1.0</td>\n",
              "      <td>0.0</td>\n",
              "      <td>1.482</td>\n",
              "      <td>3.033</td>\n",
              "      <td>4.913</td>\n",
              "      <td>4.0</td>\n",
              "      <td>1.0</td>\n",
              "    </tr>\n",
              "    <tr>\n",
              "      <th>1</th>\n",
              "      <td>33.0</td>\n",
              "      <td>33.0</td>\n",
              "      <td>12.0</td>\n",
              "      <td>33.0</td>\n",
              "      <td>2.0</td>\n",
              "      <td>0.0</td>\n",
              "      <td>0.0</td>\n",
              "      <td>0.0</td>\n",
              "      <td>0.0</td>\n",
              "      <td>9.45</td>\n",
              "      <td>...</td>\n",
              "      <td>0.0</td>\n",
              "      <td>0.0</td>\n",
              "      <td>0.0</td>\n",
              "      <td>0.0</td>\n",
              "      <td>0.0</td>\n",
              "      <td>2.246</td>\n",
              "      <td>3.240</td>\n",
              "      <td>3.497</td>\n",
              "      <td>1.0</td>\n",
              "      <td>1.0</td>\n",
              "    </tr>\n",
              "    <tr>\n",
              "      <th>2</th>\n",
              "      <td>23.0</td>\n",
              "      <td>30.0</td>\n",
              "      <td>9.0</td>\n",
              "      <td>30.0</td>\n",
              "      <td>1.0</td>\n",
              "      <td>2.0</td>\n",
              "      <td>0.0</td>\n",
              "      <td>0.0</td>\n",
              "      <td>0.0</td>\n",
              "      <td>6.30</td>\n",
              "      <td>...</td>\n",
              "      <td>0.0</td>\n",
              "      <td>0.0</td>\n",
              "      <td>0.0</td>\n",
              "      <td>1.0</td>\n",
              "      <td>0.0</td>\n",
              "      <td>1.841</td>\n",
              "      <td>3.240</td>\n",
              "      <td>3.401</td>\n",
              "      <td>3.0</td>\n",
              "      <td>0.0</td>\n",
              "    </tr>\n",
              "    <tr>\n",
              "      <th>3</th>\n",
              "      <td>38.0</td>\n",
              "      <td>35.0</td>\n",
              "      <td>5.0</td>\n",
              "      <td>76.0</td>\n",
              "      <td>2.0</td>\n",
              "      <td>10.0</td>\n",
              "      <td>1.0</td>\n",
              "      <td>1.0</td>\n",
              "      <td>1.0</td>\n",
              "      <td>6.05</td>\n",
              "      <td>...</td>\n",
              "      <td>1.0</td>\n",
              "      <td>1.0</td>\n",
              "      <td>1.0</td>\n",
              "      <td>1.0</td>\n",
              "      <td>1.0</td>\n",
              "      <td>1.800</td>\n",
              "      <td>3.807</td>\n",
              "      <td>4.331</td>\n",
              "      <td>4.0</td>\n",
              "      <td>0.0</td>\n",
              "    </tr>\n",
              "    <tr>\n",
              "      <th>4</th>\n",
              "      <td>7.0</td>\n",
              "      <td>35.0</td>\n",
              "      <td>14.0</td>\n",
              "      <td>80.0</td>\n",
              "      <td>2.0</td>\n",
              "      <td>15.0</td>\n",
              "      <td>0.0</td>\n",
              "      <td>1.0</td>\n",
              "      <td>0.0</td>\n",
              "      <td>7.10</td>\n",
              "      <td>...</td>\n",
              "      <td>0.0</td>\n",
              "      <td>0.0</td>\n",
              "      <td>1.0</td>\n",
              "      <td>1.0</td>\n",
              "      <td>0.0</td>\n",
              "      <td>1.960</td>\n",
              "      <td>3.091</td>\n",
              "      <td>4.382</td>\n",
              "      <td>3.0</td>\n",
              "      <td>0.0</td>\n",
              "    </tr>\n",
              "  </tbody>\n",
              "</table>\n",
              "<p>5 rows × 28 columns</p>\n",
              "</div>\n",
              "      <button class=\"colab-df-convert\" onclick=\"convertToInteractive('df-7d7af5c2-437b-4270-9bc4-0189502f297a')\"\n",
              "              title=\"Convert this dataframe to an interactive table.\"\n",
              "              style=\"display:none;\">\n",
              "        \n",
              "  <svg xmlns=\"http://www.w3.org/2000/svg\" height=\"24px\"viewBox=\"0 0 24 24\"\n",
              "       width=\"24px\">\n",
              "    <path d=\"M0 0h24v24H0V0z\" fill=\"none\"/>\n",
              "    <path d=\"M18.56 5.44l.94 2.06.94-2.06 2.06-.94-2.06-.94-.94-2.06-.94 2.06-2.06.94zm-11 1L8.5 8.5l.94-2.06 2.06-.94-2.06-.94L8.5 2.5l-.94 2.06-2.06.94zm10 10l.94 2.06.94-2.06 2.06-.94-2.06-.94-.94-2.06-.94 2.06-2.06.94z\"/><path d=\"M17.41 7.96l-1.37-1.37c-.4-.4-.92-.59-1.43-.59-.52 0-1.04.2-1.43.59L10.3 9.45l-7.72 7.72c-.78.78-.78 2.05 0 2.83L4 21.41c.39.39.9.59 1.41.59.51 0 1.02-.2 1.41-.59l7.78-7.78 2.81-2.81c.8-.78.8-2.07 0-2.86zM5.41 20L4 18.59l7.72-7.72 1.47 1.35L5.41 20z\"/>\n",
              "  </svg>\n",
              "      </button>\n",
              "      \n",
              "  <style>\n",
              "    .colab-df-container {\n",
              "      display:flex;\n",
              "      flex-wrap:wrap;\n",
              "      gap: 12px;\n",
              "    }\n",
              "\n",
              "    .colab-df-convert {\n",
              "      background-color: #E8F0FE;\n",
              "      border: none;\n",
              "      border-radius: 50%;\n",
              "      cursor: pointer;\n",
              "      display: none;\n",
              "      fill: #1967D2;\n",
              "      height: 32px;\n",
              "      padding: 0 0 0 0;\n",
              "      width: 32px;\n",
              "    }\n",
              "\n",
              "    .colab-df-convert:hover {\n",
              "      background-color: #E2EBFA;\n",
              "      box-shadow: 0px 1px 2px rgba(60, 64, 67, 0.3), 0px 1px 3px 1px rgba(60, 64, 67, 0.15);\n",
              "      fill: #174EA6;\n",
              "    }\n",
              "\n",
              "    [theme=dark] .colab-df-convert {\n",
              "      background-color: #3B4455;\n",
              "      fill: #D2E3FC;\n",
              "    }\n",
              "\n",
              "    [theme=dark] .colab-df-convert:hover {\n",
              "      background-color: #434B5C;\n",
              "      box-shadow: 0px 1px 3px 1px rgba(0, 0, 0, 0.15);\n",
              "      filter: drop-shadow(0px 1px 2px rgba(0, 0, 0, 0.3));\n",
              "      fill: #FFFFFF;\n",
              "    }\n",
              "  </style>\n",
              "\n",
              "      <script>\n",
              "        const buttonEl =\n",
              "          document.querySelector('#df-7d7af5c2-437b-4270-9bc4-0189502f297a button.colab-df-convert');\n",
              "        buttonEl.style.display =\n",
              "          google.colab.kernel.accessAllowed ? 'block' : 'none';\n",
              "\n",
              "        async function convertToInteractive(key) {\n",
              "          const element = document.querySelector('#df-7d7af5c2-437b-4270-9bc4-0189502f297a');\n",
              "          const dataTable =\n",
              "            await google.colab.kernel.invokeFunction('convertToInteractive',\n",
              "                                                     [key], {});\n",
              "          if (!dataTable) return;\n",
              "\n",
              "          const docLinkHtml = 'Like what you see? Visit the ' +\n",
              "            '<a target=\"_blank\" href=https://colab.research.google.com/notebooks/data_table.ipynb>data table notebook</a>'\n",
              "            + ' to learn more about interactive tables.';\n",
              "          element.innerHTML = '';\n",
              "          dataTable['output_type'] = 'display_data';\n",
              "          await google.colab.output.renderOutput(dataTable, element);\n",
              "          const docLink = document.createElement('div');\n",
              "          docLink.innerHTML = docLinkHtml;\n",
              "          element.appendChild(docLink);\n",
              "        }\n",
              "      </script>\n",
              "    </div>\n",
              "  </div>\n",
              "  "
            ]
          },
          "metadata": {},
          "execution_count": 3
        }
      ]
    },
    {
      "cell_type": "markdown",
      "metadata": {
        "id": "w6T52kp6mZpV"
      },
      "source": [
        "<h2 id=\"preprocessing\">Tiền xử lý và chọn dữ liệu</h2>\n"
      ]
    },
    {
      "cell_type": "markdown",
      "metadata": {
        "id": "AkF3HSZsmZpW"
      },
      "source": [
        "Hãy chọn một số thuộc tính cho mô hình. Ngoài ra, chúng ta thay đổi kiểu dữ liệu đích thành số nguyên vì nó là một yêu cầu của thuật toán skitlearn:\n"
      ]
    },
    {
      "cell_type": "code",
      "metadata": {
        "id": "t94nGKNUmZpW"
      },
      "source": [
        "churn_df = churn_df[['tenure', 'age', 'address', 'income', 'ed', 'employ', 'equip',   'callcard', 'wireless','churn']]\n",
        "churn_df['churn'] = churn_df['churn'].astype('int')\n",
        "churn_df.head()"
      ],
      "execution_count": null,
      "outputs": []
    },
    {
      "cell_type": "markdown",
      "metadata": {
        "button": true,
        "new_sheet": true,
        "run_control": {
          "read_only": false
        },
        "id": "ZctR1oo4mZpX"
      },
      "source": [
        "## Thực hành\n",
        "\n",
        "Tổng cộng có bao nhiêu hàng và cột trong tập dữ liệu này? Tên của các cột là gì?\n"
      ]
    },
    {
      "cell_type": "code",
      "metadata": {
        "button": false,
        "new_sheet": false,
        "run_control": {
          "read_only": false
        },
        "id": "SGN4nAjLmZpY",
        "colab": {
          "base_uri": "https://localhost:8080/"
        },
        "outputId": "c93c718e-de65-415b-8858-86c0c532740c"
      },
      "source": [
        "print(churn_df.shape)\n",
        "print(churn_df.columns)"
      ],
      "execution_count": 4,
      "outputs": [
        {
          "output_type": "stream",
          "name": "stdout",
          "text": [
            "(200, 28)\n",
            "Index(['tenure', 'age', 'address', 'income', 'ed', 'employ', 'equip',\n",
            "       'callcard', 'wireless', 'longmon', 'tollmon', 'equipmon', 'cardmon',\n",
            "       'wiremon', 'longten', 'tollten', 'cardten', 'voice', 'pager',\n",
            "       'internet', 'callwait', 'confer', 'ebill', 'loglong', 'logtoll',\n",
            "       'lninc', 'custcat', 'churn'],\n",
            "      dtype='object')\n"
          ]
        }
      ]
    },
    {
      "cell_type": "markdown",
      "source": [
        "- 200 hàng và 28 cột dữ liệu\n",
        "- Tên cột: ['tenure', 'age', 'address', 'income', 'ed', 'employ', 'equip', 'callcard', 'wireless', 'longmon', 'tollmon', 'equipmon', 'cardmon', 'wiremon', 'longten', 'tollten', 'cardten', 'voice', 'pager', 'internet', 'callwait', 'confer', 'ebill', 'loglong', 'logtoll', 'lninc', 'custcat', 'churn']"
      ],
      "metadata": {
        "id": "Z-tKFTGOj3mf"
      }
    },
    {
      "cell_type": "markdown",
      "metadata": {
        "id": "yvSFu0jUmZpa"
      },
      "source": [
        "<details><summary>Click vào đây để xem lời giải</summary>\n",
        "\n",
        "```python\n",
        "churn_df.shape\n",
        "\n",
        "```\n",
        "\n",
        "</details>\n"
      ]
    },
    {
      "cell_type": "markdown",
      "metadata": {
        "id": "uwpi5-qcmZpb"
      },
      "source": [
        "Hãy xác định X và y cho tập dữ liệu:\n"
      ]
    },
    {
      "cell_type": "code",
      "metadata": {
        "id": "z1WN_ur9mZpb",
        "colab": {
          "base_uri": "https://localhost:8080/"
        },
        "outputId": "68698a21-be95-41c8-c307-198b13f45c20"
      },
      "source": [
        "X = np.asarray(churn_df[['tenure', 'age', 'address', 'income', 'ed', 'employ', 'equip']])\n",
        "X[0:5]"
      ],
      "execution_count": 5,
      "outputs": [
        {
          "output_type": "execute_result",
          "data": {
            "text/plain": [
              "array([[ 11.,  33.,   7., 136.,   5.,   5.,   0.],\n",
              "       [ 33.,  33.,  12.,  33.,   2.,   0.,   0.],\n",
              "       [ 23.,  30.,   9.,  30.,   1.,   2.,   0.],\n",
              "       [ 38.,  35.,   5.,  76.,   2.,  10.,   1.],\n",
              "       [  7.,  35.,  14.,  80.,   2.,  15.,   0.]])"
            ]
          },
          "metadata": {},
          "execution_count": 5
        }
      ]
    },
    {
      "cell_type": "code",
      "metadata": {
        "id": "-XU8qBJMmZpc",
        "colab": {
          "base_uri": "https://localhost:8080/"
        },
        "outputId": "becba4a4-a363-461f-e217-1f69645dee29"
      },
      "source": [
        "y = np.asarray(churn_df['churn'])\n",
        "y [0:5]"
      ],
      "execution_count": 6,
      "outputs": [
        {
          "output_type": "execute_result",
          "data": {
            "text/plain": [
              "array([1., 1., 0., 0., 0.])"
            ]
          },
          "metadata": {},
          "execution_count": 6
        }
      ]
    },
    {
      "cell_type": "markdown",
      "metadata": {
        "id": "gMikULFimZpe"
      },
      "source": [
        "Ngoài ra, chúng ta chuẩn hóa tập dữ liệu:\n"
      ]
    },
    {
      "cell_type": "code",
      "metadata": {
        "id": "3OeOu8TEmZpe",
        "colab": {
          "base_uri": "https://localhost:8080/"
        },
        "outputId": "c4d663e7-851e-407d-e94b-4ced649e62bd"
      },
      "source": [
        "from sklearn import preprocessing\n",
        "X = preprocessing.StandardScaler().fit(X).transform(X)\n",
        "X[0:5]"
      ],
      "execution_count": 7,
      "outputs": [
        {
          "output_type": "execute_result",
          "data": {
            "text/plain": [
              "array([[-1.13518441, -0.62595491, -0.4588971 ,  0.4751423 ,  1.6961288 ,\n",
              "        -0.58477841, -0.85972695],\n",
              "       [-0.11604313, -0.62595491,  0.03454064, -0.32886061, -0.6433592 ,\n",
              "        -1.14437497, -0.85972695],\n",
              "       [-0.57928917, -0.85594447, -0.261522  , -0.35227817, -1.42318853,\n",
              "        -0.92053635, -0.85972695],\n",
              "       [ 0.11557989, -0.47262854, -0.65627219,  0.00679109, -0.6433592 ,\n",
              "        -0.02518185,  1.16316   ],\n",
              "       [-1.32048283, -0.47262854,  0.23191574,  0.03801451, -0.6433592 ,\n",
              "         0.53441472, -0.85972695]])"
            ]
          },
          "metadata": {},
          "execution_count": 7
        }
      ]
    },
    {
      "cell_type": "markdown",
      "metadata": {
        "id": "3IsOHwGRmZpf"
      },
      "source": [
        "## Tập dữ liệu train/set\n"
      ]
    },
    {
      "cell_type": "markdown",
      "metadata": {
        "id": "-QxjubpcmZpg"
      },
      "source": [
        "Được rồi, chúng ta chia tập dữ liệu của mình thành train set và test set:\n"
      ]
    },
    {
      "cell_type": "code",
      "metadata": {
        "id": "WYxLm9mOmZpg",
        "colab": {
          "base_uri": "https://localhost:8080/"
        },
        "outputId": "f924e407-b730-4c2b-886c-058f1fba5f27"
      },
      "source": [
        "from sklearn.model_selection import train_test_split\n",
        "X_train, X_test, y_train, y_test = train_test_split( X, y, test_size=0.2, random_state=4)\n",
        "print ('Train set:', X_train.shape,  y_train.shape)\n",
        "print ('Test set:', X_test.shape,  y_test.shape)"
      ],
      "execution_count": 8,
      "outputs": [
        {
          "output_type": "stream",
          "name": "stdout",
          "text": [
            "Train set: (160, 7) (160,)\n",
            "Test set: (40, 7) (40,)\n"
          ]
        }
      ]
    },
    {
      "cell_type": "markdown",
      "metadata": {
        "id": "yzXkeSzfmZpi"
      },
      "source": [
        "<h2 id=\"modeling\">Mô hình hóa (Hồi quy Logistic với Scikit-learn)</h2>\n"
      ]
    },
    {
      "cell_type": "markdown",
      "metadata": {
        "id": "LNWP95CymZpj"
      },
      "source": [
        "Hãy xây dựng mô hình bằng **LogisticRegression** từ gói Scikit-learning. Hàm này thực hiện hồi quy logistic và có thể sử dụng các trình tối ưu hóa số khác nhau để tìm các tham số, bao gồm các bộ giải 'newton-cg’, ‘lbfgs’, ‘liblinear’, ‘sag’, ‘saga’. Bạn có thể tìm thấy nhiều thông tin về ưu nhược điểm của các trình tối ưu hóa này trên internet.\n",
        "\n",
        "Phiên bản của Hồi quy Logistic trong Scikit-learning hỗ trợ điều chuẩn (regularization). Điều chuẩn là một kỹ thuật được sử dụng để giải quyết bài toán quá khớp (overfitting) trong các mô hình học máy.\n",
        "Tham số **C** cho biết **nghịch đảo của cường độ điều chuẩn** phải là một số thực dương. Giá trị nhỏ hơn xác định điều chuẩn mạnh hơn.\n",
        "Bây giờ, hãy fit mô hình với train set:\n"
      ]
    },
    {
      "cell_type": "markdown",
      "source": [
        "Lớp này thực hiện hồi quy logistic thường xuyên bằng thư viện 'liblinear', ‘Newton-CG ',‘ Sag', ‘Saga 'và‘ LBFGS' Solvers. Lưu ý rằng chính quy được áp dụng theo mặc định. Nó có thể xử lý cả đầu vào dày đặc và thưa thớt. Sử dụng các mảng theo thứ tự C hoặc ma trận CSR chứa các phao 64 bit để thực hiện tối ưu; Bất kỳ định dạng đầu vào khác sẽ được chuyển đổi (và sao chép)."
      ],
      "metadata": {
        "id": "Q3xdYqHFmEXW"
      }
    },
    {
      "cell_type": "code",
      "metadata": {
        "id": "mr1fvqaKmZpk",
        "colab": {
          "base_uri": "https://localhost:8080/"
        },
        "outputId": "127285a3-a06d-483c-b2ce-56cdd0e705e8"
      },
      "source": [
        "from sklearn.linear_model import LogisticRegression\n",
        "from sklearn.metrics import confusion_matrix\n",
        "LR = LogisticRegression(C=0.01, solver='liblinear').fit(X_train,y_train)\n",
        "LR"
      ],
      "execution_count": 9,
      "outputs": [
        {
          "output_type": "execute_result",
          "data": {
            "text/plain": [
              "LogisticRegression(C=0.01, solver='liblinear')"
            ]
          },
          "metadata": {},
          "execution_count": 9
        }
      ]
    },
    {
      "cell_type": "markdown",
      "metadata": {
        "id": "AheL6p1imZpl"
      },
      "source": [
        "Bây giờ chúng ta có thể dự đoán bằng  test set:\n"
      ]
    },
    {
      "cell_type": "code",
      "metadata": {
        "id": "TiUdAXrfmZpm",
        "colab": {
          "base_uri": "https://localhost:8080/"
        },
        "outputId": "98070fd2-df51-43e6-80a7-1d4c81640a12"
      },
      "source": [
        "yhat = LR.predict(X_test)\n",
        "yhat"
      ],
      "execution_count": 10,
      "outputs": [
        {
          "output_type": "execute_result",
          "data": {
            "text/plain": [
              "array([0., 0., 0., 0., 0., 0., 0., 0., 1., 0., 0., 0., 1., 1., 0., 0., 0.,\n",
              "       1., 1., 0., 0., 0., 0., 0., 0., 0., 0., 0., 0., 0., 0., 0., 1., 0.,\n",
              "       0., 0., 1., 0., 0., 0.])"
            ]
          },
          "metadata": {},
          "execution_count": 10
        }
      ]
    },
    {
      "cell_type": "markdown",
      "metadata": {
        "id": "A0UfW6d6mZpn"
      },
      "source": [
        "**predict_proba**  trả về ước lượng cho tất cả các lớp, được sắp xếp theo nhãn của các lớp. Vì vậy, cột đầu tiên là xác suất của lớp 0, P (Y = 0|X) và cột thứ hai là xác suất của lớp 1, P (Y = 1|X):\n"
      ]
    },
    {
      "cell_type": "code",
      "metadata": {
        "id": "OFBKqwj7mZpn",
        "colab": {
          "base_uri": "https://localhost:8080/"
        },
        "outputId": "e2d1fa41-cb4e-42aa-c888-572b1cbbe4a1"
      },
      "source": [
        "yhat_prob = LR.predict_proba(X_test)\n",
        "yhat_prob"
      ],
      "execution_count": 11,
      "outputs": [
        {
          "output_type": "execute_result",
          "data": {
            "text/plain": [
              "array([[0.54132919, 0.45867081],\n",
              "       [0.60593357, 0.39406643],\n",
              "       [0.56277713, 0.43722287],\n",
              "       [0.63432489, 0.36567511],\n",
              "       [0.56431839, 0.43568161],\n",
              "       [0.55386646, 0.44613354],\n",
              "       [0.52237207, 0.47762793],\n",
              "       [0.60514349, 0.39485651],\n",
              "       [0.41069572, 0.58930428],\n",
              "       [0.6333873 , 0.3666127 ],\n",
              "       [0.58068791, 0.41931209],\n",
              "       [0.62768628, 0.37231372],\n",
              "       [0.47559883, 0.52440117],\n",
              "       [0.4267593 , 0.5732407 ],\n",
              "       [0.66172417, 0.33827583],\n",
              "       [0.55092315, 0.44907685],\n",
              "       [0.51749946, 0.48250054],\n",
              "       [0.485743  , 0.514257  ],\n",
              "       [0.49011451, 0.50988549],\n",
              "       [0.52423349, 0.47576651],\n",
              "       [0.61619519, 0.38380481],\n",
              "       [0.52696302, 0.47303698],\n",
              "       [0.63957168, 0.36042832],\n",
              "       [0.52205164, 0.47794836],\n",
              "       [0.50572852, 0.49427148],\n",
              "       [0.70706202, 0.29293798],\n",
              "       [0.55266286, 0.44733714],\n",
              "       [0.52271594, 0.47728406],\n",
              "       [0.51638863, 0.48361137],\n",
              "       [0.71331391, 0.28668609],\n",
              "       [0.67862111, 0.32137889],\n",
              "       [0.50896403, 0.49103597],\n",
              "       [0.42348082, 0.57651918],\n",
              "       [0.71495838, 0.28504162],\n",
              "       [0.59711064, 0.40288936],\n",
              "       [0.63808839, 0.36191161],\n",
              "       [0.39957895, 0.60042105],\n",
              "       [0.52127638, 0.47872362],\n",
              "       [0.65975464, 0.34024536],\n",
              "       [0.5114172 , 0.4885828 ]])"
            ]
          },
          "metadata": {},
          "execution_count": 11
        }
      ]
    },
    {
      "cell_type": "markdown",
      "metadata": {
        "id": "ouF-KtX0mZpo"
      },
      "source": [
        "<h2 id=\"evaluation\">Đánh giá</h2>\n"
      ]
    },
    {
      "cell_type": "markdown",
      "metadata": {
        "id": "eZLl-i-zmZpp"
      },
      "source": [
        "### jaccard index (giải thuật jaccard)\n",
        "\n",
        "Hãy thử jaccard index để đánh giá độ chính xác. Chúng ta có thể xác định jaccard là kích thước của giao điểm chia cho kích thước hợp của hai tập nhãn. Nếu toàn bộ tập các nhãn được dự đoán cho một mẫu hoàn toàn khớp với tập các nhãn thực, thì độ chính xác của tập con là 1,0; nếu không thì là 0,0. \n"
      ]
    },
    {
      "cell_type": "code",
      "metadata": {
        "id": "ooW-GlptmZpq",
        "colab": {
          "base_uri": "https://localhost:8080/"
        },
        "outputId": "7f34bb06-fae1-417a-fd59-07b4e4d26e71"
      },
      "source": [
        "from sklearn.metrics import jaccard_score\n",
        "jaccard_score(y_test, yhat,pos_label=0)"
      ],
      "execution_count": 12,
      "outputs": [
        {
          "output_type": "execute_result",
          "data": {
            "text/plain": [
              "0.7058823529411765"
            ]
          },
          "metadata": {},
          "execution_count": 12
        }
      ]
    },
    {
      "cell_type": "markdown",
      "metadata": {
        "id": "NRvlxDi9mZpq"
      },
      "source": [
        "### Ma trận nhầm lẫn (confusion matrix)\n",
        "\n",
        "Một cách khác để xem xét độ chính xác của trình phân loại là tìm hiểu **ma trận nhầm lẫn**.\n"
      ]
    },
    {
      "cell_type": "code",
      "metadata": {
        "id": "7gUFKzoRmZpr",
        "colab": {
          "base_uri": "https://localhost:8080/"
        },
        "outputId": "bdc56b44-7d1a-4f1a-c08e-fa62d7db9477"
      },
      "source": [
        "from sklearn.metrics import classification_report, confusion_matrix\n",
        "import itertools\n",
        "def plot_confusion_matrix(cm, classes,\n",
        "                          normalize=False,\n",
        "                          title='Confusion matrix',\n",
        "                          cmap=plt.cm.Blues):\n",
        "    \"\"\"\n",
        "    This function prints and plots the confusion matrix.\n",
        "    Normalization can be applied by setting `normalize=True`.\n",
        "    \"\"\"\n",
        "    if normalize:\n",
        "        cm = cm.astype('float') / cm.sum(axis=1)[:, np.newaxis]\n",
        "        print(\"Normalized confusion matrix\")\n",
        "    else:\n",
        "        print('Confusion matrix, without normalization')\n",
        "\n",
        "    print(cm)\n",
        "\n",
        "    plt.imshow(cm, interpolation='nearest', cmap=cmap)\n",
        "    plt.title(title)\n",
        "    plt.colorbar()\n",
        "    tick_marks = np.arange(len(classes))\n",
        "    plt.xticks(tick_marks, classes, rotation=45)\n",
        "    plt.yticks(tick_marks, classes)\n",
        "\n",
        "    fmt = '.2f' if normalize else 'd'\n",
        "    thresh = cm.max() / 2.\n",
        "    for i, j in itertools.product(range(cm.shape[0]), range(cm.shape[1])):\n",
        "        plt.text(j, i, format(cm[i, j], fmt),\n",
        "                 horizontalalignment=\"center\",\n",
        "                 color=\"white\" if cm[i, j] > thresh else \"black\")\n",
        "\n",
        "    plt.tight_layout()\n",
        "    plt.ylabel('True label')\n",
        "    plt.xlabel('Predicted label')\n",
        "print(confusion_matrix(y_test, yhat, labels=[1,0]))"
      ],
      "execution_count": 13,
      "outputs": [
        {
          "output_type": "stream",
          "name": "stdout",
          "text": [
            "[[ 6  9]\n",
            " [ 1 24]]\n"
          ]
        }
      ]
    },
    {
      "cell_type": "code",
      "metadata": {
        "id": "nNq2JOThmZps",
        "colab": {
          "base_uri": "https://localhost:8080/",
          "height": 363
        },
        "outputId": "0ab8f02f-7909-4da1-de7f-3ffa426f5e25"
      },
      "source": [
        "# Tính toán confusion matrix\n",
        "cnf_matrix = confusion_matrix(y_test, yhat, labels=[1,0])\n",
        "np.set_printoptions(precision=2)\n",
        "\n",
        "\n",
        "# Plot non-normalized confusion matrix\n",
        "plt.figure()\n",
        "plot_confusion_matrix(cnf_matrix, classes=['churn=1','churn=0'],normalize= False,  title='Confusion matrix')"
      ],
      "execution_count": 14,
      "outputs": [
        {
          "output_type": "stream",
          "name": "stdout",
          "text": [
            "Confusion matrix, without normalization\n",
            "[[ 6  9]\n",
            " [ 1 24]]\n"
          ]
        },
        {
          "output_type": "display_data",
          "data": {
            "text/plain": [
              "<Figure size 432x288 with 2 Axes>"
            ],
            "image/png": "[encoded data removed]"
          },
          "metadata": {
            "needs_background": "light"
          }
        }
      ]
    },
    {
      "cell_type": "markdown",
      "metadata": {
        "id": "8BpqzPpWmZpt"
      },
      "source": [
        "Hãy xem hàng đầu tiên. Hàng đầu tiên dành cho những khách hàng có giá trị churn thực tế trong test set là 1.\n",
        "Như bạn có thể tính toán, trong số 40 khách hàng, giá trị churn của 15 khách hàng trong số đó là 1.\n",
        "Và trong số 15 trường hợp này, bộ phân loại đã dự đoán chính xác 6 trong số đó là 1 và 9 trong số đó là 0.\n",
        "\n",
        "Có nghĩa là, đối với 6 khách hàng, giá trị churn thực tế là 1 trong test set và bộ phân loại cũng dự đoán chính xác những giá trị đó là 1. Tuy nhiên, trong khi nhãn thực tế của 9 khách hàng là 1, bộ phân loại dự đoán những giá trị đó là 0, điều này không tốt lắm . Chúng ta có thể coi đó là lỗi của mô hình với hàng đầu tiên.\n",
        "\n",
        "Còn những khách hàng có giá trị churn 0 thì sao? Hãy nhìn vào hàng thứ hai.\n",
        "Có vẻ như có 25 khách hàng mà giá trị churn của họ là 0.\n",
        "\n",
        "Bộ phân loại đã dự đoán chính xác 24 người trong số họ là 0 và sai một trong số đó là 1. Vậy, nó đã làm rất tốt trong việc dự đoán khách hàng có giá trị churn 0. Một ưu điểm về ma trận nhầm lẫn là nó cho thấy khả năng dự đoán chính xác của mô hình hoặc tách các lớp. Trong trường hợp cụ thể của bộ phân loại nhị phân, chẳng hạn như ví dụ này, chúng ta có thể diễn giải những con số này là số true positive, false positive, true negative và false negative.\n"
      ]
    },
    {
      "cell_type": "code",
      "metadata": {
        "id": "_FLuL1PZmZpu",
        "colab": {
          "base_uri": "https://localhost:8080/"
        },
        "outputId": "cb39c746-a55a-46e8-e1f8-7443fee1d10e"
      },
      "source": [
        "print (classification_report(y_test, yhat))\n"
      ],
      "execution_count": 15,
      "outputs": [
        {
          "output_type": "stream",
          "name": "stdout",
          "text": [
            "              precision    recall  f1-score   support\n",
            "\n",
            "         0.0       0.73      0.96      0.83        25\n",
            "         1.0       0.86      0.40      0.55        15\n",
            "\n",
            "    accuracy                           0.75        40\n",
            "   macro avg       0.79      0.68      0.69        40\n",
            "weighted avg       0.78      0.75      0.72        40\n",
            "\n"
          ]
        }
      ]
    },
    {
      "cell_type": "markdown",
      "metadata": {
        "id": "KRrUzsRImZpv"
      },
      "source": [
        "Dựa trên số lượng của từng phần, chúng ta có thể tính precision và recall của từng nhãn:\n",
        "\n",
        "-   **Precision** là thước đo độ chính xác với điều kiện là nhãn lớp đã được dự đoán, được tính: precision = TP / (TP + FP)\n",
        "\n",
        "-   **Recall** là tỷ lệ true positive, được tính: Recall =  TP / (TP + FN)\n",
        "\n",
        "Vậy chúng ta có thể tính toán precision và recall của từng lớp.\n",
        "\n",
        "**F1 score:**\n",
        "Bây giờ chúng ta đang ở vị trí để tính F1 score cho mỗi nhãn dựa trên precision và recall của nhãn đó.\n",
        "\n",
        "F1 score là điểm trung bình hài hòa của precision và recall, trong đó F1 score đạt giá trị tốt nhất ở 1 (precision và recall hoàn hảo) và thấp nhất là 0. Đó là một cách tốt để chứng tỏ rằng bộ phân loại có giá trị tốt cho cả recall và precision.\n",
        "\n",
        "Và cuối cùng, chúng ta có thể cho biết độ chính xác trung bình cho bộ phân loại này là trung bình của F1 score cho cả hai nhãn, trong trường hợp này là 0,72.\n"
      ]
    },
    {
      "cell_type": "markdown",
      "metadata": {
        "id": "P9XSCWSGmZpv"
      },
      "source": [
        "### log loss\n",
        "\n",
        "Bây giờ, hãy thử **log loss** để đánh giá. Trong hồi quy logistic, đầu ra có thể là xác suất khách hàng rời đi (hoặc bằng 1). Xác suất này là một giá trị từ 0 đến 1.\n",
        "Log loss đo lường hiệu suất của bộ phân loại, trong đó đầu ra dự đoán là giá trị xác suất từ 0 đến 1.\n"
      ]
    },
    {
      "cell_type": "code",
      "metadata": {
        "id": "wDsFg5yTmZpw",
        "colab": {
          "base_uri": "https://localhost:8080/"
        },
        "outputId": "71508c64-667f-4ac3-cfdc-c592953ef565"
      },
      "source": [
        "from sklearn.metrics import log_loss\n",
        "log_loss(y_test, yhat_prob)"
      ],
      "execution_count": 16,
      "outputs": [
        {
          "output_type": "execute_result",
          "data": {
            "text/plain": [
              "0.6017092478101185"
            ]
          },
          "metadata": {},
          "execution_count": 16
        }
      ]
    },
    {
      "cell_type": "markdown",
      "metadata": {
        "id": "Q2tyQllcmZpx"
      },
      "source": [
        "<h2 id=\"practice\">Thực hành</h2>\n",
        "Cố gắng xây dựng lại mô hình hồi quy Logistic cho cùng một tập dữ liệu, nhưng lần này, hãy sử dụng các giá trị __solver__ và __regulification__ khác nhau? Giá trị __logLoss__ mới là gì?\n"
      ]
    },
    {
      "cell_type": "code",
      "metadata": {
        "id": "x_JA3LIhmZpy",
        "colab": {
          "base_uri": "https://localhost:8080/"
        },
        "outputId": "7a2f27eb-79ed-4ea0-da89-115b1faba30e"
      },
      "source": [
        "LR2 = LogisticRegression(C=0.01, solver='sag').fit(X_train,y_train)\n",
        "yhat_prob2 = LR2.predict_proba(X_test)\n",
        "print (\"LogLoss: : %.2f\" % log_loss(y_test, yhat_prob2))"
      ],
      "execution_count": 17,
      "outputs": [
        {
          "output_type": "stream",
          "name": "stdout",
          "text": [
            "LogLoss: : 0.61\n"
          ]
        }
      ]
    },
    {
      "cell_type": "markdown",
      "metadata": {
        "id": "ftdCMBxwmZpz"
      },
      "source": [
        "<details><summary>Click vào đây để xem lời giải</summary>\n",
        "\n",
        "```python\n",
        "LR2 = LogisticRegression(C=0.01, solver='sag').fit(X_train,y_train)\n",
        "yhat_prob2 = LR2.predict_proba(X_test)\n",
        "print (\"LogLoss: : %.2f\" % log_loss(y_test, yhat_prob2))\n",
        "\n",
        "```\n",
        "\n",
        "</details>\n"
      ]
    },
    {
      "cell_type": "markdown",
      "metadata": {
        "id": "4HQg4JfUmZp1"
      },
      "source": [
        "### Cảm ơn bạn đã hoàn thành lab này!\n",
        "\n",
        "Nguồn bài Lab: **IBM**"
      ]
    }
  ]
}