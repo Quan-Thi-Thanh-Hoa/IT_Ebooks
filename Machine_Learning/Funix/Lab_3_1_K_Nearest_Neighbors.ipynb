{
  "cells": [
    {
      "cell_type": "markdown",
      "metadata": {
        "button": false,
        "id": "Pok14PL1CVPh",
        "new_sheet": false,
        "run_control": {
          "read_only": false
        }
      },
      "source": [
        "# K-Nearest Neighbors \n",
        "\n",
        "Thời lượng ước tính: **45** phút\n",
        "\n",
        "## Mục tiêu\n",
        "\n",
        "Sau khi hoàn thiện lab nà,y bạn sẽ có thể:\n",
        "\n",
        "-   Sử dụng K-Nearest neighbors để phân loại dữ liệu\n"
      ]
    },
    {
      "cell_type": "markdown",
      "metadata": {
        "button": false,
        "id": "jxRaz7HVCVPx",
        "new_sheet": false,
        "run_control": {
          "read_only": false
        }
      },
      "source": [
        "Trong lab này, bạn sẽ load tập dữ liệu khách hàng, điều chỉnh dữ liệu và sử dụng K-Nearest Neighbors để dự đoán một điểm dữ liệu. Vậy **K-Nearest Neighbors** là gì?\n"
      ]
    },
    {
      "cell_type": "markdown",
      "metadata": {
        "button": false,
        "id": "ZFcWSZh3CVPy",
        "new_sheet": false,
        "run_control": {
          "read_only": false
        }
      },
      "source": [
        "**K-Nearest Neighbors** là một thuật toán cho việc học có giám sát (supervised learning). Nơi dữ liệu được 'huấn luyện' với các điểm dữ liệu tương ứng với phân loại của chúng. Khi một điểm được dự đoán, nó sẽ tính đến 'K' điểm gần nhất với nó để xác định phân loại.\n"
      ]
    },
    {
      "cell_type": "markdown",
      "metadata": {
        "button": false,
        "id": "M94OVZ6wCVPz",
        "new_sheet": false,
        "run_control": {
          "read_only": false
        }
      },
      "source": [
        "### Đây là hình ảnh trực quan của thuật toán K-Nearest Neighbors.\n",
        "\n",
        "<img src=\"https://cf-courses-data.s3.us.cloud-object-storage.appdomain.cloud/IBMDeveloperSkillsNetwork-ML0101EN-SkillsNetwork/labs/Module%203/images/KNN_Diagram.png\">\n"
      ]
    },
    {
      "cell_type": "markdown",
      "metadata": {
        "button": false,
        "id": "SJwk6ewOCVPz",
        "new_sheet": false,
        "run_control": {
          "read_only": false
        }
      },
      "source": [
        "Trong trường hợp này, chúng ta có các điểm dữ liệu của Lớp A và B. Chúng ta muốn dự đoán ngôi sao (điểm dữ liệu thử nghiệm) là gì. Nếu chúng ta xem xét giá trị k là 3 (3 điểm dữ liệu gần nhất) sẽ thu được dự đoán của Lớp B. Tuy nhiên, nếu chúng ta xem xét giá trị k là 6 thì thu được dự đoán của Lớp A.\n"
      ]
    },
    {
      "cell_type": "markdown",
      "metadata": {
        "button": false,
        "id": "zHOqxd0-CVP1",
        "new_sheet": false,
        "run_control": {
          "read_only": false
        }
      },
      "source": [
        "Theo nghĩa này, điều quan trọng là phải xem xét giá trị của k. Nhưng hy vọng từ đồ thị này, bạn sẽ hiểu được thuật toán K-Nearest Neighbors là gì. Nó xem xét 'K' Nearest Neighbors (điểm) khi nó dự đoán phân loại của điểm kiểm tra.\n"
      ]
    },
    {
      "cell_type": "markdown",
      "metadata": {
        "id": "rP9GCZO1CVP2"
      },
      "source": [
        "<h1>Mục lục</h1>\n",
        "\n",
        "<div class=\"alert alert-block alert-info\" style=\"margin-top: 20px\">\n",
        "    <ol>\n",
        "        <li><a href=\"#about_dataset\">Về tập dữ liệu</a></li>\n",
        "        <li><a href=\"#visualization_analysis\">Trực quan hóa và phân tích dữ liệu</a></li>\n",
        "        <li><a href=\"#classification\">Phân loại</a></li>\n",
        "    </ol>\n",
        "</div>\n",
        "<br>\n",
        "<hr>\n"
      ]
    },
    {
      "cell_type": "markdown",
      "metadata": {
        "button": false,
        "id": "nehEfVLICVP5",
        "new_sheet": false,
        "run_control": {
          "read_only": false
        }
      },
      "source": [
        "Hãy imort các thư viện cần thiết\n"
      ]
    },
    {
      "cell_type": "code",
      "execution_count": 1,
      "metadata": {
        "button": false,
        "id": "n2IXML67CVP6",
        "new_sheet": false,
        "run_control": {
          "read_only": false
        }
      },
      "outputs": [],
      "source": [
        "import numpy as np\n",
        "import matplotlib.pyplot as plt\n",
        "import pandas as pd\n",
        "import numpy as np\n",
        "from sklearn import preprocessing\n",
        "%matplotlib inline"
      ]
    },
    {
      "cell_type": "markdown",
      "metadata": {
        "button": false,
        "id": "bbMWu7kHCVP7",
        "new_sheet": false,
        "run_control": {
          "read_only": false
        }
      },
      "source": [
        "<div id=\"about_dataset\">\n",
        "    <h2>Về tập dữ liệu</h2>\n",
        "</div>\n"
      ]
    },
    {
      "cell_type": "markdown",
      "metadata": {
        "button": false,
        "id": "vCNGxGGBCVP7",
        "new_sheet": false,
        "run_control": {
          "read_only": false
        }
      },
      "source": [
        "Hãy tưởng tượng một nhà cung cấp dịch vụ viễn thông đã phân khúc cơ sở khách hàng của mình theo các hình thức sử dụng dịch vụ, phân loại khách hàng thành 4 nhóm. Nếu có thể sử dụng dữ liệu nhân khẩu học để dự đoán thành viên nhóm, công ty có thể tùy chỉnh các đề nghị cho từng khách hàng tiềm năng. Đó là một bài toán phân loại. Có nghĩa là, với tập dữ liệu, với các nhãn được xác định trước, chúng ta cần xây dựng một mô hình để đoán lớp của một trường hợp mới hoặc chưa biết.\n",
        "\n",
        "Ví dụ này tập trung vào việc sử dụng dữ liệu nhân khẩu học, chẳng hạn như vùng miền, độ tuổi và hôn nhân, để dự đoán các mẫu sử dụng.\n",
        "\n",
        "Trường mục tiêu **custcat** có 4 giá trị khả thi tương ứng với 4 nhóm khách hàng như sau:\n",
        "   1- Dịch vụ cơ bản\n",
        "   2- Dịch vụ điện tử\n",
        "   3- Dịch vụ cộng thêm\n",
        "   4- Dịch vụ tổng thể\n",
        "\n",
        "Mục tiêu của chúng ta là xây dựng một bộ phân loại để dự đoán lớp của các trường hợp chưa biết. Chúng ta sẽ sử dụng một kiểu phân loại cụ thể là K nearest neighbor.\n"
      ]
    },
    {
      "cell_type": "markdown",
      "metadata": {
        "button": false,
        "id": "fU8CTOeuCVP9",
        "new_sheet": false,
        "run_control": {
          "read_only": false
        }
      },
      "source": [
        "### Load dữ liệu từ Tệp CSV\n"
      ]
    },
    {
      "cell_type": "code",
      "execution_count": 2,
      "metadata": {
        "button": false,
        "colab": {
          "base_uri": "https://localhost:8080/",
          "height": 206
        },
        "id": "DjypA_KYCVP-",
        "new_sheet": false,
        "outputId": "8a1c2297-f3f9-43fc-d44c-62ce1f21e69f",
        "run_control": {
          "read_only": false
        }
      },
      "outputs": [
        {
          "data": {
            "text/html": [
              "<div>\n",
              "<style scoped>\n",
              "    .dataframe tbody tr th:only-of-type {\n",
              "        vertical-align: middle;\n",
              "    }\n",
              "\n",
              "    .dataframe tbody tr th {\n",
              "        vertical-align: top;\n",
              "    }\n",
              "\n",
              "    .dataframe thead th {\n",
              "        text-align: right;\n",
              "    }\n",
              "</style>\n",
              "<table border=\"1\" class=\"dataframe\">\n",
              "  <thead>\n",
              "    <tr style=\"text-align: right;\">\n",
              "      <th></th>\n",
              "      <th>region</th>\n",
              "      <th>tenure</th>\n",
              "      <th>age</th>\n",
              "      <th>marital</th>\n",
              "      <th>address</th>\n",
              "      <th>income</th>\n",
              "      <th>ed</th>\n",
              "      <th>employ</th>\n",
              "      <th>retire</th>\n",
              "      <th>gender</th>\n",
              "      <th>reside</th>\n",
              "      <th>custcat</th>\n",
              "    </tr>\n",
              "  </thead>\n",
              "  <tbody>\n",
              "    <tr>\n",
              "      <th>0</th>\n",
              "      <td>2</td>\n",
              "      <td>13</td>\n",
              "      <td>44</td>\n",
              "      <td>1</td>\n",
              "      <td>9</td>\n",
              "      <td>64.0</td>\n",
              "      <td>4</td>\n",
              "      <td>5</td>\n",
              "      <td>0.0</td>\n",
              "      <td>0</td>\n",
              "      <td>2</td>\n",
              "      <td>1</td>\n",
              "    </tr>\n",
              "    <tr>\n",
              "      <th>1</th>\n",
              "      <td>3</td>\n",
              "      <td>11</td>\n",
              "      <td>33</td>\n",
              "      <td>1</td>\n",
              "      <td>7</td>\n",
              "      <td>136.0</td>\n",
              "      <td>5</td>\n",
              "      <td>5</td>\n",
              "      <td>0.0</td>\n",
              "      <td>0</td>\n",
              "      <td>6</td>\n",
              "      <td>4</td>\n",
              "    </tr>\n",
              "    <tr>\n",
              "      <th>2</th>\n",
              "      <td>3</td>\n",
              "      <td>68</td>\n",
              "      <td>52</td>\n",
              "      <td>1</td>\n",
              "      <td>24</td>\n",
              "      <td>116.0</td>\n",
              "      <td>1</td>\n",
              "      <td>29</td>\n",
              "      <td>0.0</td>\n",
              "      <td>1</td>\n",
              "      <td>2</td>\n",
              "      <td>3</td>\n",
              "    </tr>\n",
              "    <tr>\n",
              "      <th>3</th>\n",
              "      <td>2</td>\n",
              "      <td>33</td>\n",
              "      <td>33</td>\n",
              "      <td>0</td>\n",
              "      <td>12</td>\n",
              "      <td>33.0</td>\n",
              "      <td>2</td>\n",
              "      <td>0</td>\n",
              "      <td>0.0</td>\n",
              "      <td>1</td>\n",
              "      <td>1</td>\n",
              "      <td>1</td>\n",
              "    </tr>\n",
              "    <tr>\n",
              "      <th>4</th>\n",
              "      <td>2</td>\n",
              "      <td>23</td>\n",
              "      <td>30</td>\n",
              "      <td>1</td>\n",
              "      <td>9</td>\n",
              "      <td>30.0</td>\n",
              "      <td>1</td>\n",
              "      <td>2</td>\n",
              "      <td>0.0</td>\n",
              "      <td>0</td>\n",
              "      <td>4</td>\n",
              "      <td>3</td>\n",
              "    </tr>\n",
              "  </tbody>\n",
              "</table>\n",
              "</div>"
            ],
            "text/plain": [
              "   region  tenure  age  marital  address  income  ed  employ  retire  gender  \\\n",
              "0       2      13   44        1        9    64.0   4       5     0.0       0   \n",
              "1       3      11   33        1        7   136.0   5       5     0.0       0   \n",
              "2       3      68   52        1       24   116.0   1      29     0.0       1   \n",
              "3       2      33   33        0       12    33.0   2       0     0.0       1   \n",
              "4       2      23   30        1        9    30.0   1       2     0.0       0   \n",
              "\n",
              "   reside  custcat  \n",
              "0       2        1  \n",
              "1       6        4  \n",
              "2       2        3  \n",
              "3       1        1  \n",
              "4       4        3  "
            ]
          },
          "execution_count": 2,
          "metadata": {},
          "output_type": "execute_result"
        }
      ],
      "source": [
        "df = pd.read_csv('teleCust1000t.csv')\n",
        "df.head()"
      ]
    },
    {
      "cell_type": "markdown",
      "metadata": {
        "button": false,
        "id": "dC5IPf41CVP-",
        "new_sheet": false,
        "run_control": {
          "read_only": false
        }
      },
      "source": [
        "<div id=\"visualization_analysis\">\n",
        "    <h2>Trực quan hóa và Phân tích Dữ liệu</h2> \n",
        "</div>\n"
      ]
    },
    {
      "cell_type": "markdown",
      "metadata": {
        "button": false,
        "id": "BzjzZUpuCVP_",
        "new_sheet": false,
        "run_control": {
          "read_only": false
        }
      },
      "source": [
        "#### Hãy xem có bao nhiêu lớp trong tập dữ liệu của chúng ta\n"
      ]
    },
    {
      "cell_type": "code",
      "execution_count": 8,
      "metadata": {
        "button": false,
        "id": "FR2w2i2mCVP_",
        "new_sheet": false,
        "run_control": {
          "read_only": false
        }
      },
      "outputs": [
        {
          "data": {
            "text/plain": [
              "3    281\n",
              "1    266\n",
              "4    236\n",
              "2    217\n",
              "Name: custcat, dtype: int64"
            ]
          },
          "execution_count": 8,
          "metadata": {},
          "output_type": "execute_result"
        }
      ],
      "source": [
        "df['custcat'].value_counts()"
      ]
    },
    {
      "cell_type": "markdown",
      "metadata": {
        "button": false,
        "id": "jkGuhsZ0CVQA",
        "new_sheet": false,
        "run_control": {
          "read_only": false
        }
      },
      "source": [
        "#### 281 khách hàng Dịch vụ Cộng thêm, 266 khách hàng Dịch vụ cơ bản, 236  khách hàng Dịch vụ Tổng thể và 217 khách hàng Dịch vụ Điện tử"
      ]
    },
    {
      "cell_type": "markdown",
      "metadata": {
        "id": "f1aqfmo3CVQA"
      },
      "source": [
        "Bạn có thể dễ dàng khám phá dữ liệu của mình bằng các kỹ thuật trực quan hóa:\n"
      ]
    },
    {
      "cell_type": "code",
      "execution_count": 9,
      "metadata": {
        "id": "DNKpsUhTCVQA"
      },
      "outputs": [
        {
          "data": {
            "text/plain": [
              "array([[<AxesSubplot: title={'center': 'income'}>]], dtype=object)"
            ]
          },
          "execution_count": 9,
          "metadata": {},
          "output_type": "execute_result"
        },
        {
          "data": {
            "image/png": "[encoded data removed]",
            "text/plain": [
              "<Figure size 432x288 with 1 Axes>"
            ]
          },
          "metadata": {
            "needs_background": "light"
          },
          "output_type": "display_data"
        }
      ],
      "source": [
        "df.hist(column='income', bins=50)"
      ]
    },
    {
      "cell_type": "markdown",
      "metadata": {
        "button": false,
        "id": "oxDLsOIXCVQB",
        "new_sheet": false,
        "run_control": {
          "read_only": false
        }
      },
      "source": [
        "### Tập thuộc tính\n"
      ]
    },
    {
      "cell_type": "markdown",
      "metadata": {
        "button": false,
        "id": "-OnupjuRCVQB",
        "new_sheet": false,
        "run_control": {
          "read_only": false
        }
      },
      "source": [
        "Hãy định nghĩa các tập thuộc tính, X:\n"
      ]
    },
    {
      "cell_type": "code",
      "execution_count": 10,
      "metadata": {
        "id": "IsQSyJcrCVQC"
      },
      "outputs": [
        {
          "data": {
            "text/plain": [
              "Index(['region', 'tenure', 'age', 'marital', 'address', 'income', 'ed',\n",
              "       'employ', 'retire', 'gender', 'reside', 'custcat'],\n",
              "      dtype='object')"
            ]
          },
          "execution_count": 10,
          "metadata": {},
          "output_type": "execute_result"
        }
      ],
      "source": [
        "df.columns"
      ]
    },
    {
      "cell_type": "markdown",
      "metadata": {
        "id": "taoFZViuCVQC"
      },
      "source": [
        "Để sử dụng thư viện scikit-learning, chúng ta phải chuyển đổi khung dữ liệu Pandas thành mảng Numpy:\n"
      ]
    },
    {
      "cell_type": "code",
      "execution_count": 16,
      "metadata": {
        "button": false,
        "id": "99vprFWRCVQC",
        "new_sheet": false,
        "run_control": {
          "read_only": false
        }
      },
      "outputs": [
        {
          "data": {
            "text/plain": [
              "array([[  2.,  13.,  44.,   1.,   9.,  64.,   4.,   5.,   0.,   0.,   2.],\n",
              "       [  3.,  11.,  33.,   1.,   7., 136.,   5.,   5.,   0.,   0.,   6.],\n",
              "       [  3.,  68.,  52.,   1.,  24., 116.,   1.,  29.,   0.,   1.,   2.],\n",
              "       [  2.,  33.,  33.,   0.,  12.,  33.,   2.,   0.,   0.,   1.,   1.],\n",
              "       [  2.,  23.,  30.,   1.,   9.,  30.,   1.,   2.,   0.,   0.,   4.]])"
            ]
          },
          "execution_count": 16,
          "metadata": {},
          "output_type": "execute_result"
        }
      ],
      "source": [
        "X = df[['region', 'tenure','age', 'marital', 'address', 'income', 'ed', 'employ','retire', 'gender', 'reside']].values  #.astype(float)\n",
        "X[0:5]\n"
      ]
    },
    {
      "cell_type": "markdown",
      "metadata": {
        "button": false,
        "id": "XP_k2JdjCVQD",
        "new_sheet": false,
        "run_control": {
          "read_only": false
        }
      },
      "source": [
        "Các nhãn của chúng ta là gì?\n"
      ]
    },
    {
      "cell_type": "code",
      "execution_count": 17,
      "metadata": {
        "button": false,
        "id": "bJqAimKjCVQD",
        "new_sheet": false,
        "run_control": {
          "read_only": false
        }
      },
      "outputs": [
        {
          "data": {
            "text/plain": [
              "array([1, 4, 3, 1, 3], dtype=int64)"
            ]
          },
          "execution_count": 17,
          "metadata": {},
          "output_type": "execute_result"
        }
      ],
      "source": [
        "y = df['custcat'].values\n",
        "y[0:5]"
      ]
    },
    {
      "cell_type": "markdown",
      "metadata": {
        "button": false,
        "id": "EXqcPKGqCVQE",
        "new_sheet": false,
        "run_control": {
          "read_only": false
        }
      },
      "source": [
        "## Chuẩn hóa dữ liệu\n"
      ]
    },
    {
      "cell_type": "markdown",
      "metadata": {
        "button": false,
        "id": "xGSkhL3_CVQE",
        "new_sheet": false,
        "run_control": {
          "read_only": false
        }
      },
      "source": [
        "Chuẩn hóa dữ liệu cung cấp cho dữ liệu có giá trị trung bình bằng 0 và phương sai đơn vị, đó là một phương pháp hay, đặc biệt là đối với các thuật toán như KNN dựa trên khoảng cách của các trường hợp:\n"
      ]
    },
    {
      "cell_type": "code",
      "execution_count": 18,
      "metadata": {
        "button": false,
        "id": "u1_--b8mCVQE",
        "new_sheet": false,
        "run_control": {
          "read_only": false
        }
      },
      "outputs": [
        {
          "data": {
            "text/plain": [
              "array([[-0.02696767, -1.055125  ,  0.18450456,  1.0100505 , -0.25303431,\n",
              "        -0.12650641,  1.0877526 , -0.5941226 , -0.22207644, -1.03459817,\n",
              "        -0.23065004],\n",
              "       [ 1.19883553, -1.14880563, -0.69181243,  1.0100505 , -0.4514148 ,\n",
              "         0.54644972,  1.9062271 , -0.5941226 , -0.22207644, -1.03459817,\n",
              "         2.55666158],\n",
              "       [ 1.19883553,  1.52109247,  0.82182601,  1.0100505 ,  1.23481934,\n",
              "         0.35951747, -1.36767088,  1.78752803, -0.22207644,  0.96655883,\n",
              "        -0.23065004],\n",
              "       [-0.02696767, -0.11831864, -0.69181243, -0.9900495 ,  0.04453642,\n",
              "        -0.41625141, -0.54919639, -1.09029981, -0.22207644,  0.96655883,\n",
              "        -0.92747794],\n",
              "       [-0.02696767, -0.58672182, -0.93080797,  1.0100505 , -0.25303431,\n",
              "        -0.44429125, -1.36767088, -0.89182893, -0.22207644, -1.03459817,\n",
              "         1.16300577]])"
            ]
          },
          "execution_count": 18,
          "metadata": {},
          "output_type": "execute_result"
        }
      ],
      "source": [
        "X = preprocessing.StandardScaler().fit(X).transform(X.astype(float))\n",
        "X[0:5]"
      ]
    },
    {
      "cell_type": "markdown",
      "metadata": {
        "button": false,
        "id": "ssSJDDa2CVQF",
        "new_sheet": false,
        "run_control": {
          "read_only": false
        }
      },
      "source": [
        "### Train/Test Split\n",
        "\n",
        "Độ chính xác ngoài mẫu là phần trăm dự đoán đúng mà mô hình đưa ra trên dữ liệu mà mô hình CHƯA được huấn luyện. Thực hiện một train và test trên cùng một tập dữ liệu rất có thể sẽ có độ chính xác ngoài mẫu thấp, do khả năng quá khớp.\n",
        "\n",
        "Điều quan trọng là các mô hình của chúng ta phải có độ chính xác cao, không nằm ngoài mẫu, vì mục đích của bất kỳ mô hình nào, là đưa ra các dự đoán chính xác trên dữ liệu chưa biết. Vậy làm thế nào để cải thiện độ chính xác ngoài mẫu? Có một cách là sử dụng phương pháp đánh giá được gọi là Train/Test Split.\n",
        "Train/Test Split liên quan đến việc chia nhỏ tập dữ liệu thành training set và test set tương ứng, loại trừ lẫn nhau. Sau đó, bạn huấn luyện với training set và kiểm tra với test set.\n",
        "\n",
        "Điều này sẽ cho đánh giá chính xác hơn về độ chính xác ngoài mẫu vì tập dữ liệu thử nghiệm không phải là một phần của tập dữ liệu đã được sử dụng để huấn luyện dữ liệu. Nó thực tế hơn đối với các vấn đề trong thực tế.\n"
      ]
    },
    {
      "cell_type": "code",
      "execution_count": 19,
      "metadata": {
        "button": false,
        "id": "HBWt6YPnCVQI",
        "new_sheet": false,
        "run_control": {
          "read_only": false
        }
      },
      "outputs": [
        {
          "name": "stdout",
          "output_type": "stream",
          "text": [
            "Train set: (800, 11) (800,)\n",
            "Test set: (200, 11) (200,)\n"
          ]
        }
      ],
      "source": [
        "from sklearn.model_selection import train_test_split\n",
        "X_train, X_test, y_train, y_test = train_test_split( X, y, test_size=0.2, random_state=4)\n",
        "print ('Train set:', X_train.shape,  y_train.shape)\n",
        "print ('Test set:', X_test.shape,  y_test.shape)"
      ]
    },
    {
      "cell_type": "markdown",
      "metadata": {
        "button": false,
        "id": "aFXLKHLSCVQJ",
        "new_sheet": false,
        "run_control": {
          "read_only": false
        }
      },
      "source": [
        "<div id=\"classification\">\n",
        "    <h2>Phân loại</h2>\n",
        "</div>\n"
      ]
    },
    {
      "cell_type": "markdown",
      "metadata": {
        "button": false,
        "id": "Z_lDeumpCVQK",
        "new_sheet": false,
        "run_control": {
          "read_only": false
        }
      },
      "source": [
        "<h3>K nearest neighbors (KNN)</h3>\n"
      ]
    },
    {
      "cell_type": "markdown",
      "metadata": {
        "button": false,
        "id": "iihEH6_7CVQK",
        "new_sheet": false,
        "run_control": {
          "read_only": false
        }
      },
      "source": [
        "#### Import thư viện\n"
      ]
    },
    {
      "cell_type": "markdown",
      "metadata": {
        "button": false,
        "id": "CJSC7ZRZCVQK",
        "new_sheet": false,
        "run_control": {
          "read_only": false
        }
      },
      "source": [
        "Bộ phân loại thực hiện lựa chọn k-nearest neighbors.\n"
      ]
    },
    {
      "cell_type": "code",
      "execution_count": 20,
      "metadata": {
        "button": false,
        "id": "YTZgWfGzCVQL",
        "new_sheet": false,
        "run_control": {
          "read_only": false
        }
      },
      "outputs": [],
      "source": [
        "from sklearn.neighbors import KNeighborsClassifier"
      ]
    },
    {
      "cell_type": "markdown",
      "metadata": {
        "button": false,
        "id": "yMhBKVZaCVQL",
        "new_sheet": false,
        "run_control": {
          "read_only": false
        }
      },
      "source": [
        "### Huấn luyện\n",
        "\n",
        "Hiện tại hãy bắt đầu thuật toán với k = 4:\n"
      ]
    },
    {
      "cell_type": "code",
      "execution_count": 21,
      "metadata": {
        "button": false,
        "id": "fwC0G_DJCVQM",
        "new_sheet": false,
        "run_control": {
          "read_only": false
        }
      },
      "outputs": [
        {
          "data": {
            "text/html": [
              "<style>#sk-container-id-1 {color: black;background-color: white;}#sk-container-id-1 pre{padding: 0;}#sk-container-id-1 div.sk-toggleable {background-color: white;}#sk-container-id-1 label.sk-toggleable__label {cursor: pointer;display: block;width: 100%;margin-bottom: 0;padding: 0.3em;box-sizing: border-box;text-align: center;}#sk-container-id-1 label.sk-toggleable__label-arrow:before {content: \"▸\";float: left;margin-right: 0.25em;color: #696969;}#sk-container-id-1 label.sk-toggleable__label-arrow:hover:before {color: black;}#sk-container-id-1 div.sk-estimator:hover label.sk-toggleable__label-arrow:before {color: black;}#sk-container-id-1 div.sk-toggleable__content {max-height: 0;max-width: 0;overflow: hidden;text-align: left;background-color: #f0f8ff;}#sk-container-id-1 div.sk-toggleable__content pre {margin: 0.2em;color: black;border-radius: 0.25em;background-color: #f0f8ff;}#sk-container-id-1 input.sk-toggleable__control:checked~div.sk-toggleable__content {max-height: 200px;max-width: 100%;overflow: auto;}#sk-container-id-1 input.sk-toggleable__control:checked~label.sk-toggleable__label-arrow:before {content: \"▾\";}#sk-container-id-1 div.sk-estimator input.sk-toggleable__control:checked~label.sk-toggleable__label {background-color: #d4ebff;}#sk-container-id-1 div.sk-label input.sk-toggleable__control:checked~label.sk-toggleable__label {background-color: #d4ebff;}#sk-container-id-1 input.sk-hidden--visually {border: 0;clip: rect(1px 1px 1px 1px);clip: rect(1px, 1px, 1px, 1px);height: 1px;margin: -1px;overflow: hidden;padding: 0;position: absolute;width: 1px;}#sk-container-id-1 div.sk-estimator {font-family: monospace;background-color: #f0f8ff;border: 1px dotted black;border-radius: 0.25em;box-sizing: border-box;margin-bottom: 0.5em;}#sk-container-id-1 div.sk-estimator:hover {background-color: #d4ebff;}#sk-container-id-1 div.sk-parallel-item::after {content: \"\";width: 100%;border-bottom: 1px solid gray;flex-grow: 1;}#sk-container-id-1 div.sk-label:hover label.sk-toggleable__label {background-color: #d4ebff;}#sk-container-id-1 div.sk-serial::before {content: \"\";position: absolute;border-left: 1px solid gray;box-sizing: border-box;top: 0;bottom: 0;left: 50%;z-index: 0;}#sk-container-id-1 div.sk-serial {display: flex;flex-direction: column;align-items: center;background-color: white;padding-right: 0.2em;padding-left: 0.2em;position: relative;}#sk-container-id-1 div.sk-item {position: relative;z-index: 1;}#sk-container-id-1 div.sk-parallel {display: flex;align-items: stretch;justify-content: center;background-color: white;position: relative;}#sk-container-id-1 div.sk-item::before, #sk-container-id-1 div.sk-parallel-item::before {content: \"\";position: absolute;border-left: 1px solid gray;box-sizing: border-box;top: 0;bottom: 0;left: 50%;z-index: -1;}#sk-container-id-1 div.sk-parallel-item {display: flex;flex-direction: column;z-index: 1;position: relative;background-color: white;}#sk-container-id-1 div.sk-parallel-item:first-child::after {align-self: flex-end;width: 50%;}#sk-container-id-1 div.sk-parallel-item:last-child::after {align-self: flex-start;width: 50%;}#sk-container-id-1 div.sk-parallel-item:only-child::after {width: 0;}#sk-container-id-1 div.sk-dashed-wrapped {border: 1px dashed gray;margin: 0 0.4em 0.5em 0.4em;box-sizing: border-box;padding-bottom: 0.4em;background-color: white;}#sk-container-id-1 div.sk-label label {font-family: monospace;font-weight: bold;display: inline-block;line-height: 1.2em;}#sk-container-id-1 div.sk-label-container {text-align: center;}#sk-container-id-1 div.sk-container {/* jupyter's `normalize.less` sets `[hidden] { display: none; }` but bootstrap.min.css set `[hidden] { display: none !important; }` so we also need the `!important` here to be able to override the default hidden behavior on the sphinx rendered scikit-learn.org. See: https://github.com/scikit-learn/scikit-learn/issues/21755 */display: inline-block !important;position: relative;}#sk-container-id-1 div.sk-text-repr-fallback {display: none;}</style><div id=\"sk-container-id-1\" class=\"sk-top-container\"><div class=\"sk-text-repr-fallback\"><pre>KNeighborsClassifier(n_neighbors=4)</pre><b>In a Jupyter environment, please rerun this cell to show the HTML representation or trust the notebook. <br />On GitHub, the HTML representation is unable to render, please try loading this page with nbviewer.org.</b></div><div class=\"sk-container\" hidden><div class=\"sk-item\"><div class=\"sk-estimator sk-toggleable\"><input class=\"sk-toggleable__control sk-hidden--visually\" id=\"sk-estimator-id-1\" type=\"checkbox\" checked><label for=\"sk-estimator-id-1\" class=\"sk-toggleable__label sk-toggleable__label-arrow\">KNeighborsClassifier</label><div class=\"sk-toggleable__content\"><pre>KNeighborsClassifier(n_neighbors=4)</pre></div></div></div></div></div>"
            ],
            "text/plain": [
              "KNeighborsClassifier(n_neighbors=4)"
            ]
          },
          "execution_count": 21,
          "metadata": {},
          "output_type": "execute_result"
        }
      ],
      "source": [
        "k = 4\n",
        "# Huấn luyện mô hình và dự đoán\n",
        "neigh = KNeighborsClassifier(n_neighbors = k).fit(X_train,y_train)\n",
        "neigh"
      ]
    },
    {
      "cell_type": "markdown",
      "metadata": {
        "button": false,
        "id": "1NbpPWDtCVQM",
        "new_sheet": false,
        "run_control": {
          "read_only": false
        }
      },
      "source": [
        "### Dự đoán\n",
        "\n",
        "Chúng ta có thể sử dụng mô hình để dự đoán test set:\n"
      ]
    },
    {
      "cell_type": "code",
      "execution_count": 22,
      "metadata": {
        "button": false,
        "id": "C7MUF9lqCVQM",
        "new_sheet": false,
        "run_control": {
          "read_only": false
        }
      },
      "outputs": [
        {
          "data": {
            "text/plain": [
              "array([1, 1, 3, 2, 4], dtype=int64)"
            ]
          },
          "execution_count": 22,
          "metadata": {},
          "output_type": "execute_result"
        }
      ],
      "source": [
        "yhat = neigh.predict(X_test)\n",
        "yhat[0:5]"
      ]
    },
    {
      "cell_type": "markdown",
      "metadata": {
        "button": false,
        "id": "7i81TgXoCVQN",
        "new_sheet": false,
        "run_control": {
          "read_only": false
        }
      },
      "source": [
        "### Đánh giá độ chính xác\n",
        "\n",
        "Trong phân loại đa nhãn, **accuracy classification score** (hệ số phân loại độ chính xác) là một hàm tính toán độ chính xác của tập hợp con. Hàm này bằng với hàm jaccard_score. Về cơ bản, nó tính toán độ trùng khớp giữa các nhãn thực tế và nhãn dự đoán trong test set.\n"
      ]
    },
    {
      "cell_type": "code",
      "execution_count": 23,
      "metadata": {
        "id": "w_iQDZdnCVQN"
      },
      "outputs": [
        {
          "name": "stdout",
          "output_type": "stream",
          "text": [
            "Train set Accuracy:  0.5475\n",
            "Test set Accuracy:  0.32\n"
          ]
        }
      ],
      "source": [
        "from sklearn import metrics\n",
        "print(\"Train set Accuracy: \", metrics.accuracy_score(y_train, neigh.predict(X_train)))\n",
        "print(\"Test set Accuracy: \", metrics.accuracy_score(y_test, yhat))"
      ]
    },
    {
      "cell_type": "markdown",
      "metadata": {
        "id": "Ngoa1PAhCVQN"
      },
      "source": [
        "## Thực hành\n",
        "\n",
        "Bạn có thể xây dựng lại mô hình, nhưng lần này là với k = 6 không?\n"
      ]
    },
    {
      "cell_type": "code",
      "execution_count": 26,
      "metadata": {
        "id": "yFmqYZzSCVQO"
      },
      "outputs": [
        {
          "name": "stdout",
          "output_type": "stream",
          "text": [
            "Train set Accuracy:  0.51625\n",
            "Test set Accuracy:  0.31\n"
          ]
        }
      ],
      "source": [
        "k = 6\n",
        "# Huấn luyện mô hình và dự đoán\n",
        "neigh6 = KNeighborsClassifier(n_neighbors = k).fit(X_train,y_train)\n",
        "yhat6 = neigh.predict(X_test)\n",
        "print(\"Train set Accuracy: \", metrics.accuracy_score(y_train, neigh6.predict(X_train)))\n",
        "print(\"Test set Accuracy: \", metrics.accuracy_score(y_test, yhat6))"
      ]
    },
    {
      "cell_type": "markdown",
      "metadata": {
        "id": "BR_7IFfNCVQO"
      },
      "source": [
        "<details><summary>Click vào đây để xem lời giải</summary>\n",
        "\n",
        "```python\n",
        "k = 6\n",
        "neigh6 = KNeighborsClassifier(n_neighbors = k).fit(X_train,y_train)\n",
        "yhat6 = neigh6.predict(X_test)\n",
        "print(\"Train set Accuracy: \", metrics.accuracy_score(y_train, neigh6.predict(X_train)))\n",
        "print(\"Test set Accuracy: \", metrics.accuracy_score(y_test, yhat6))\n",
        "\n",
        "```\n",
        "\n",
        "</details>\n"
      ]
    },
    {
      "cell_type": "markdown",
      "metadata": {
        "button": false,
        "id": "oZ3aVJtZCVQP",
        "new_sheet": false,
        "run_control": {
          "read_only": false
        }
      },
      "source": [
        "#### Vậy còn K khác thì sao?\n",
        "\n",
        "K trong KNN là số nearest neighbor để kiểm tra. Nó phải được chỉ định bởi Người dùng. Vì vậy, làm thế nào để có thể chọn đúng giá trị cho K?\n",
        "Giải pháp chung là dành một phần dữ liệu của bạn để kiểm tra độ chính xác của mô hình. Sau đó, chọn k = 1, sử dụng phần huấn luyện để lập mô hình và tính toán độ chính xác của dự đoán bằng cách sử dụng tất cả các mẫu trong bộ test set. Lặp lại quá trình này, tăng k và xem k nào là phù hợp nhất cho mô hình của bạn.\n",
        "\n",
        "Chúng ta có thể tính độ chính xác của KNN cho các K khác nhau.\n"
      ]
    },
    {
      "cell_type": "code",
      "execution_count": 30,
      "metadata": {
        "button": false,
        "id": "I0VZGLZpCVQR",
        "new_sheet": false,
        "run_control": {
          "read_only": false
        }
      },
      "outputs": [
        {
          "data": {
            "text/plain": [
              "array([0.3  , 0.29 , 0.315, 0.32 , 0.315, 0.31 , 0.335, 0.325, 0.34 ,\n",
              "       0.33 , 0.315, 0.34 , 0.33 , 0.315])"
            ]
          },
          "execution_count": 30,
          "metadata": {},
          "output_type": "execute_result"
        }
      ],
      "source": [
        "Ks = 15\n",
        "mean_acc = np.zeros((Ks-1))\n",
        "std_acc = np.zeros((Ks-1))\n",
        "\n",
        "for n in range(1,Ks):\n",
        "    \n",
        "    # Huấn luyện mô hình và dự đoán\n",
        "    neigh = KNeighborsClassifier(n_neighbors = n).fit(X_train,y_train)\n",
        "    yhat=neigh.predict(X_test)\n",
        "    mean_acc[n-1] = metrics.accuracy_score(y_test, yhat)\n",
        "\n",
        "    \n",
        "    std_acc[n-1]=np.std(yhat==y_test)/np.sqrt(yhat.shape[0])\n",
        "\n",
        "mean_acc"
      ]
    },
    {
      "cell_type": "markdown",
      "metadata": {
        "button": false,
        "id": "_onNZ0LPCVQS",
        "new_sheet": false,
        "run_control": {
          "read_only": false
        }
      },
      "source": [
        "#### Độ chính xác của mô hình đồ thị cho số lượng neighbor khác nhau\n"
      ]
    },
    {
      "cell_type": "code",
      "execution_count": 31,
      "metadata": {
        "button": false,
        "id": "i6EN0l9mCVQT",
        "new_sheet": false,
        "run_control": {
          "read_only": false
        }
      },
      "outputs": [
        {
          "data": {
            "image/png": "[encoded data removed]",
            "text/plain": [
              "<Figure size 432x288 with 1 Axes>"
            ]
          },
          "metadata": {
            "needs_background": "light"
          },
          "output_type": "display_data"
        }
      ],
      "source": [
        "plt.plot(range(1,Ks),mean_acc,'g')\n",
        "plt.fill_between(range(1,Ks),mean_acc - 1 * std_acc,mean_acc + 1 * std_acc, alpha=0.10)\n",
        "plt.fill_between(range(1,Ks),mean_acc - 3 * std_acc,mean_acc + 3 * std_acc, alpha=0.10,color=\"green\")\n",
        "plt.legend(('Accuracy ', '+/- 1xstd','+/- 3xstd'))\n",
        "plt.ylabel('Accuracy ')\n",
        "plt.xlabel('Number of Neighbors (K)')\n",
        "plt.tight_layout()\n",
        "plt.show()"
      ]
    },
    {
      "cell_type": "code",
      "execution_count": 32,
      "metadata": {
        "button": false,
        "id": "ESNf8enECVQU",
        "new_sheet": false,
        "run_control": {
          "read_only": false
        }
      },
      "outputs": [
        {
          "name": "stdout",
          "output_type": "stream",
          "text": [
            "The best accuracy was with 0.34 with k= 9\n"
          ]
        }
      ],
      "source": [
        "print( \"The best accuracy was with\", mean_acc.max(), \"with k=\", mean_acc.argmax()+1) "
      ]
    },
    {
      "cell_type": "markdown",
      "metadata": {
        "id": "j78HHcdkCVQV"
      },
      "source": [
        "### Cảm ơn bạn đã hoàn thành lab này!\n",
        "\n",
        "Nguồn bài Lab: **IBM**"
      ]
    }
  ],
  "metadata": {
    "colab": {
      "provenance": []
    },
    "kernelspec": {
      "display_name": "Python 3.10.6 64-bit",
      "language": "python",
      "name": "python3"
    },
    "language_info": {
      "codemirror_mode": {
        "name": "ipython",
        "version": 3
      },
      "file_extension": ".py",
      "mimetype": "text/x-python",
      "name": "python",
      "nbconvert_exporter": "python",
      "pygments_lexer": "ipython3",
      "version": "3.10.6"
    },
    "vscode": {
      "interpreter": {
        "hash": "9ad7f758c7f2ebdda2cc4f553f1363ed8fbfe288e0aece9aaf2ec73dff90b611"
      }
    }
  },
  "nbformat": 4,
  "nbformat_minor": 0
}
